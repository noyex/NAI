{
  "cells": [
    {
      "metadata": {
        "ExecuteTime": {
          "end_time": "2024-12-12T21:26:20.105460Z",
          "start_time": "2024-12-12T21:26:20.102895Z"
        },
        "id": "4f7bc412b663c966"
      },
      "cell_type": "code",
      "source": [
        "!pip install -q protobuf==4.21.12 python-dotenv scikit-learn pandas numpy==1.26.4 rank-bm25 nltk gensim matplotlib sentence-transformers openai requests transformers pillow torch chromadb langchain-text-splitters langchain_experimental langchain-huggingface pymupdf"
      ],
      "id": "4f7bc412b663c966",
      "outputs": [],
      "execution_count": 9
    },
    {
      "metadata": {
        "ExecuteTime": {
          "end_time": "2024-12-12T21:26:20.143057Z",
          "start_time": "2024-12-12T21:26:20.132444Z"
        },
        "colab": {
          "base_uri": "https://localhost:8080/"
        },
        "id": "8c6d067f327ef939",
        "outputId": "e0b11fbb-fc74-4558-e4f7-f6a398a38b52"
      },
      "cell_type": "code",
      "source": [
        "import os\n",
        "\n",
        "# Load environment variables\n",
        "from dotenv import load_dotenv\n",
        "load_dotenv(\"./.env\")"
      ],
      "id": "8c6d067f327ef939",
      "outputs": [
        {
          "output_type": "execute_result",
          "data": {
            "text/plain": [
              "False"
            ]
          },
          "metadata": {},
          "execution_count": 10
        }
      ],
      "execution_count": 10
    },
    {
      "metadata": {
        "id": "8c9f93cef2dad954"
      },
      "cell_type": "markdown",
      "source": [
        "# 1. Traditional IR Models"
      ],
      "id": "8c9f93cef2dad954"
    },
    {
      "metadata": {
        "id": "c190f7a96c768ca9"
      },
      "cell_type": "markdown",
      "source": [
        "## 1.1 Vector Space Model"
      ],
      "id": "c190f7a96c768ca9"
    },
    {
      "metadata": {
        "ExecuteTime": {
          "end_time": "2024-12-12T21:26:22.396364Z",
          "start_time": "2024-12-12T21:26:20.292292Z"
        },
        "id": "de0ff17f653f7a56"
      },
      "cell_type": "code",
      "source": [
        "from sklearn.feature_extraction.text import TfidfVectorizer\n",
        "from sklearn.metrics.pairwise import cosine_similarity\n",
        "import pandas as pd"
      ],
      "id": "de0ff17f653f7a56",
      "outputs": [],
      "execution_count": 11
    },
    {
      "metadata": {
        "id": "9acb513b1ea8baed"
      },
      "cell_type": "markdown",
      "source": [
        "### TF-IDF"
      ],
      "id": "9acb513b1ea8baed"
    },
    {
      "metadata": {
        "id": "5d7c3a3fe6b92322"
      },
      "cell_type": "markdown",
      "source": [
        "Prepare the sample corpus"
      ],
      "id": "5d7c3a3fe6b92322"
    },
    {
      "cell_type": "code",
      "id": "initial_id",
      "metadata": {
        "collapsed": true,
        "ExecuteTime": {
          "end_time": "2024-12-12T21:26:22.402803Z",
          "start_time": "2024-12-12T21:26:22.401166Z"
        },
        "id": "initial_id"
      },
      "source": [
        "documents = [\n",
        "    \"Information Retrieval is fun\",\n",
        "    \"Retrieval is essential\",\n",
        "    \"Fun AI\"\n",
        "]"
      ],
      "outputs": [],
      "execution_count": 12
    },
    {
      "metadata": {
        "id": "d431c17c9cb53ee1"
      },
      "cell_type": "markdown",
      "source": [
        "Compute the TF-IDF matrix"
      ],
      "id": "d431c17c9cb53ee1"
    },
    {
      "metadata": {
        "ExecuteTime": {
          "end_time": "2024-12-12T21:26:22.412815Z",
          "start_time": "2024-12-12T21:26:22.409915Z"
        },
        "id": "6b2250708734f493"
      },
      "cell_type": "code",
      "source": [
        "vectorizer = TfidfVectorizer()\n",
        "\n",
        "tfidf_matrix = vectorizer.fit_transform(documents)"
      ],
      "id": "6b2250708734f493",
      "outputs": [],
      "execution_count": 13
    },
    {
      "metadata": {
        "id": "6075629f4df0f2d7"
      },
      "cell_type": "markdown",
      "source": [
        "Analyze the vocabulary"
      ],
      "id": "6075629f4df0f2d7"
    },
    {
      "metadata": {
        "ExecuteTime": {
          "end_time": "2024-12-12T21:26:22.436549Z",
          "start_time": "2024-12-12T21:26:22.434685Z"
        },
        "colab": {
          "base_uri": "https://localhost:8080/"
        },
        "id": "ea117f5490215517",
        "outputId": "47eb0faa-cfa3-4f67-dd42-0d8812aea539"
      },
      "cell_type": "code",
      "source": [
        "feature_names = vectorizer.get_feature_names_out()\n",
        "\n",
        "print(\"\\nFeature Names (Vocabulary):\")\n",
        "print(feature_names)\n"
      ],
      "id": "ea117f5490215517",
      "outputs": [
        {
          "output_type": "stream",
          "name": "stdout",
          "text": [
            "\n",
            "Feature Names (Vocabulary):\n",
            "['ai' 'essential' 'fun' 'information' 'is' 'retrieval']\n"
          ]
        }
      ],
      "execution_count": 14
    },
    {
      "metadata": {
        "id": "c371c86bf824193d"
      },
      "cell_type": "markdown",
      "source": [
        "Display the TF-IDF matrix"
      ],
      "id": "c371c86bf824193d"
    },
    {
      "metadata": {
        "ExecuteTime": {
          "end_time": "2024-12-12T21:26:22.488339Z",
          "start_time": "2024-12-12T21:26:22.483111Z"
        },
        "colab": {
          "base_uri": "https://localhost:8080/"
        },
        "id": "e37fd15c5b6c28b9",
        "outputId": "e9a94794-c96d-4986-c3ea-f4d741431e7a"
      },
      "cell_type": "code",
      "source": [
        "tfidf_df = pd.DataFrame(tfidf_matrix.toarray(), columns=feature_names, index=[f\"Doc {i+1}\" for i in range(len(documents))])\n",
        "\n",
        "print(\"TF-IDF Matrix:\")\n",
        "print(tfidf_df)"
      ],
      "id": "e37fd15c5b6c28b9",
      "outputs": [
        {
          "output_type": "stream",
          "name": "stdout",
          "text": [
            "TF-IDF Matrix:\n",
            "             ai  essential       fun  information        is  retrieval\n",
            "Doc 1  0.000000   0.000000  0.459854     0.604652  0.459854   0.459854\n",
            "Doc 2  0.000000   0.680919  0.000000     0.000000  0.517856   0.517856\n",
            "Doc 3  0.795961   0.000000  0.605349     0.000000  0.000000   0.000000\n"
          ]
        }
      ],
      "execution_count": 15
    },
    {
      "metadata": {
        "id": "69de0c1912e0cdec"
      },
      "cell_type": "markdown",
      "source": [
        "### Cosine Similarity"
      ],
      "id": "69de0c1912e0cdec"
    },
    {
      "metadata": {
        "id": "c26b605d163b4266"
      },
      "cell_type": "markdown",
      "source": [
        "Prepare the query vector"
      ],
      "id": "c26b605d163b4266"
    },
    {
      "metadata": {
        "ExecuteTime": {
          "end_time": "2024-12-12T21:26:22.541200Z",
          "start_time": "2024-12-12T21:26:22.539077Z"
        },
        "id": "281ebbda499d91c"
      },
      "cell_type": "code",
      "source": [
        "query = \"fun\"\n",
        "\n",
        "query_vector = vectorizer.transform([query])"
      ],
      "id": "281ebbda499d91c",
      "outputs": [],
      "execution_count": 16
    },
    {
      "metadata": {
        "id": "700b676e2e78928a"
      },
      "cell_type": "markdown",
      "source": [
        "Compute the cosine similarity between the query and documents"
      ],
      "id": "700b676e2e78928a"
    },
    {
      "metadata": {
        "ExecuteTime": {
          "end_time": "2024-12-12T21:26:22.581310Z",
          "start_time": "2024-12-12T21:26:22.577355Z"
        },
        "colab": {
          "base_uri": "https://localhost:8080/"
        },
        "id": "a67629809be6c0c1",
        "outputId": "58d9f06e-efc4-4c37-e69d-ee98b5f07051"
      },
      "cell_type": "code",
      "source": [
        "cosine_similarities = cosine_similarity(query_vector, tfidf_matrix).flatten()\n",
        "\n",
        "similarity_df = pd.DataFrame({\n",
        "    \"Document\": [f\"Doc {i+1}\" for i in range(len(documents))],\n",
        "    \"Cosine Similarity\": cosine_similarities\n",
        "}).sort_values(by=\"Cosine Similarity\", ascending=False)\n",
        "\n",
        "print(\"Cosine Similarity Between Query and Documents:\")\n",
        "print(similarity_df)"
      ],
      "id": "a67629809be6c0c1",
      "outputs": [
        {
          "output_type": "stream",
          "name": "stdout",
          "text": [
            "Cosine Similarity Between Query and Documents:\n",
            "  Document  Cosine Similarity\n",
            "2    Doc 3           0.605349\n",
            "0    Doc 1           0.459854\n",
            "1    Doc 2           0.000000\n"
          ]
        }
      ],
      "execution_count": 17
    },
    {
      "metadata": {
        "id": "ea72401175568f80"
      },
      "cell_type": "markdown",
      "source": [
        "Find the most relevant document"
      ],
      "id": "ea72401175568f80"
    },
    {
      "metadata": {
        "ExecuteTime": {
          "end_time": "2024-12-12T21:26:22.620211Z",
          "start_time": "2024-12-12T21:26:22.618576Z"
        },
        "colab": {
          "base_uri": "https://localhost:8080/"
        },
        "id": "d85fb3c4a0bc860b",
        "outputId": "e6771acd-eae1-4d7a-eabe-55e366f36d3d"
      },
      "cell_type": "code",
      "source": [
        "most_relevant_idx = cosine_similarities.argmax()\n",
        "print(f\"\\nMost Relevant Document: Doc {most_relevant_idx + 1}\")\n"
      ],
      "id": "d85fb3c4a0bc860b",
      "outputs": [
        {
          "output_type": "stream",
          "name": "stdout",
          "text": [
            "\n",
            "Most Relevant Document: Doc 3\n"
          ]
        }
      ],
      "execution_count": 18
    },
    {
      "metadata": {
        "id": "9533e3f3b43d6736"
      },
      "cell_type": "markdown",
      "source": [
        "## 1.2. Probabilistic Information Retrieval"
      ],
      "id": "9533e3f3b43d6736"
    },
    {
      "metadata": {
        "ExecuteTime": {
          "end_time": "2024-12-12T21:26:22.655269Z",
          "start_time": "2024-12-12T21:26:22.653045Z"
        },
        "id": "3bf4cc85f589af17"
      },
      "cell_type": "code",
      "source": [
        "from rank_bm25 import BM25Okapi"
      ],
      "id": "3bf4cc85f589af17",
      "outputs": [],
      "execution_count": 19
    },
    {
      "metadata": {
        "id": "3eda5486f9653dde"
      },
      "cell_type": "markdown",
      "source": [
        "### BM25"
      ],
      "id": "3eda5486f9653dde"
    },
    {
      "metadata": {
        "id": "2cfbf88c198fe29e"
      },
      "cell_type": "markdown",
      "source": [
        "Prepare the sample corpus"
      ],
      "id": "2cfbf88c198fe29e"
    },
    {
      "metadata": {
        "ExecuteTime": {
          "end_time": "2024-12-12T21:26:22.675556Z",
          "start_time": "2024-12-12T21:26:22.673974Z"
        },
        "id": "14f0435272e2670a"
      },
      "cell_type": "code",
      "source": [
        "documents = [\n",
        "    \"Information Retrieval is fun\",\n",
        "    \"Retrieval is essential\",\n",
        "    \"Fun AI\"\n",
        "]"
      ],
      "id": "14f0435272e2670a",
      "outputs": [],
      "execution_count": 20
    },
    {
      "metadata": {
        "id": "a81981782f355633"
      },
      "cell_type": "markdown",
      "source": [
        "Tokenize the documents\n",
        "\n",
        "_Note: The BM25 model requires tokenized documents. For simplicity, we will split the documents by whitespace. However, in practice, you may want to use more advanced tokenization techniques._"
      ],
      "id": "a81981782f355633"
    },
    {
      "metadata": {
        "ExecuteTime": {
          "end_time": "2024-12-12T21:26:22.679944Z",
          "start_time": "2024-12-12T21:26:22.678477Z"
        },
        "id": "90bd747df33eb00c"
      },
      "cell_type": "code",
      "source": [
        "tokenized_documents = [doc.split() for doc in documents]"
      ],
      "id": "90bd747df33eb00c",
      "outputs": [],
      "execution_count": 21
    },
    {
      "metadata": {
        "id": "8773259009485855"
      },
      "cell_type": "markdown",
      "source": [
        "Train the BM25 model on the corpus"
      ],
      "id": "8773259009485855"
    },
    {
      "metadata": {
        "ExecuteTime": {
          "end_time": "2024-12-12T21:26:22.688679Z",
          "start_time": "2024-12-12T21:26:22.687314Z"
        },
        "id": "f8c409b7f0d97b01"
      },
      "cell_type": "code",
      "source": [
        "bm25 = BM25Okapi(tokenized_documents)"
      ],
      "id": "f8c409b7f0d97b01",
      "outputs": [],
      "execution_count": 22
    },
    {
      "metadata": {
        "id": "751dd79e05009095"
      },
      "cell_type": "markdown",
      "source": [
        "Prepare the query"
      ],
      "id": "751dd79e05009095"
    },
    {
      "metadata": {
        "ExecuteTime": {
          "end_time": "2024-12-12T21:26:22.697404Z",
          "start_time": "2024-12-12T21:26:22.695970Z"
        },
        "id": "bb1ad9becc9033f5"
      },
      "cell_type": "code",
      "source": [
        "query = \"Fun Retrieval\"\n",
        "\n",
        "tokenized_query = query.split()"
      ],
      "id": "bb1ad9becc9033f5",
      "outputs": [],
      "execution_count": 23
    },
    {
      "metadata": {
        "id": "dc43aa5b5a87c77f"
      },
      "cell_type": "markdown",
      "source": [
        "Compute the BM25 scores between the query and documents"
      ],
      "id": "dc43aa5b5a87c77f"
    },
    {
      "metadata": {
        "ExecuteTime": {
          "end_time": "2024-12-12T21:26:22.718865Z",
          "start_time": "2024-12-12T21:26:22.715864Z"
        },
        "colab": {
          "base_uri": "https://localhost:8080/"
        },
        "id": "e92ddbcacf07ff19",
        "outputId": "089aa0d4-2cac-489e-fddb-27333ce38a28"
      },
      "cell_type": "code",
      "source": [
        "bm25_scores = bm25.get_scores(tokenized_query)\n",
        "\n",
        "score_df = pd.DataFrame({\n",
        "    \"Document\": [f\"Doc {i+1}\" for i in range(len(documents))],\n",
        "    \"BM25 Score\": bm25_scores\n",
        "}).sort_values(by=\"BM25 Score\", ascending=False)\n",
        "\n",
        "print(\"BM25 Scores Between Query and Documents:\")\n",
        "print(score_df)"
      ],
      "id": "e92ddbcacf07ff19",
      "outputs": [
        {
          "output_type": "stream",
          "name": "stdout",
          "text": [
            "BM25 Scores Between Query and Documents:\n",
            "  Document  BM25 Score\n",
            "2    Doc 3    0.600971\n",
            "1    Doc 2    0.054731\n",
            "0    Doc 1    0.047592\n"
          ]
        }
      ],
      "execution_count": 24
    },
    {
      "metadata": {
        "id": "d1916c11e725d3b7"
      },
      "cell_type": "markdown",
      "source": [
        "Find the most relevant document"
      ],
      "id": "d1916c11e725d3b7"
    },
    {
      "metadata": {
        "ExecuteTime": {
          "end_time": "2024-12-12T21:26:22.752777Z",
          "start_time": "2024-12-12T21:26:22.750997Z"
        },
        "colab": {
          "base_uri": "https://localhost:8080/"
        },
        "id": "5284dbd713f8e931",
        "outputId": "7670ca56-9ca5-4b3c-86a9-e8d7c72eb454"
      },
      "cell_type": "code",
      "source": [
        "most_relevant_idx = bm25_scores.argmax()\n",
        "\n",
        "print(f\"\\nMost Relevant Document: Doc {most_relevant_idx + 1}\")"
      ],
      "id": "5284dbd713f8e931",
      "outputs": [
        {
          "output_type": "stream",
          "name": "stdout",
          "text": [
            "\n",
            "Most Relevant Document: Doc 3\n"
          ]
        }
      ],
      "execution_count": 25
    },
    {
      "metadata": {
        "id": "8e49e7a59f06bb45"
      },
      "cell_type": "markdown",
      "source": [
        "## 1.3. Comparison"
      ],
      "id": "8e49e7a59f06bb45"
    },
    {
      "metadata": {
        "id": "a733ab2ea888ddc3"
      },
      "cell_type": "markdown",
      "source": [
        "Prepare the sample corpus and query"
      ],
      "id": "a733ab2ea888ddc3"
    },
    {
      "metadata": {
        "ExecuteTime": {
          "end_time": "2024-12-12T21:26:22.793254Z",
          "start_time": "2024-12-12T21:26:22.791427Z"
        },
        "id": "d31d776d058ae145"
      },
      "cell_type": "code",
      "source": [
        "documents = [\n",
        "    \"AI in healthcare improves diagnostics and patient care. AI algorithms analyze medical data to detect diseases early and enhance treatments\",\n",
        "    \"AI enhances the e-commerce experience. AI systems recommend products, predict customer preferences, and increase sales. AI also personalizes online shopping\",\n",
        "    \"Healthcare and AI are transforming diagnostics. Healthcare diagnostics benefit greatly from AI’s ability to process large datasets efficiently\",\n",
        "    \"AI applications in healthcare include diagnostics, treatment planning, and patient monitoring. Healthcare systems increasingly rely on AI advancements\",\n",
        "    \"AI in transportation is reshaping the future with self-driving cars, traffic optimization, and route planning. AI is making travel safer and more efficient\"\n",
        "]\n",
        "\n",
        "query = \"AI in healthcare diagnostics\""
      ],
      "id": "d31d776d058ae145",
      "outputs": [],
      "execution_count": 26
    },
    {
      "metadata": {
        "ExecuteTime": {
          "end_time": "2024-12-12T21:26:22.819683Z",
          "start_time": "2024-12-12T21:26:22.815392Z"
        },
        "id": "569e4325c802db02"
      },
      "cell_type": "code",
      "source": [
        "def tf_idf_retrieval(documents: list[str], query: str) -> int:\n",
        "    \"\"\"Compute cosine similarity between the query and documents using TF-IDF\"\"\"\n",
        "    vectorizer = TfidfVectorizer()\n",
        "\n",
        "    document_vectors = vectorizer.fit_transform(documents)\n",
        "    query_vector = vectorizer.transform([query])\n",
        "\n",
        "    cosine_similarities = cosine_similarity(query_vector, document_vectors).flatten()\n",
        "\n",
        "    return cosine_similarities\n",
        "\n",
        "\n",
        "def bm25_retrieval(documents: list[str], query: str) -> int:\n",
        "    \"\"\"Compute BM25 scores between the query and documents\"\"\"\n",
        "    document_tokens = [doc.split() for doc in documents]\n",
        "\n",
        "    bm25 = BM25Okapi(document_tokens)\n",
        "\n",
        "    tokenized_query = query.split()\n",
        "\n",
        "    bm25_scores = bm25.get_scores(tokenized_query)\n",
        "\n",
        "    return bm25_scores\n",
        "\n",
        "\n",
        "tf_idf_scores = tf_idf_retrieval(documents, query)\n",
        "bm25_scores = bm25_retrieval(documents, query)"
      ],
      "id": "569e4325c802db02",
      "outputs": [],
      "execution_count": 27
    },
    {
      "metadata": {
        "ExecuteTime": {
          "end_time": "2024-12-12T21:26:22.843114Z",
          "start_time": "2024-12-12T21:26:22.839120Z"
        },
        "colab": {
          "base_uri": "https://localhost:8080/"
        },
        "id": "b71c287667058254",
        "outputId": "2f0a851f-582e-4c6e-fe87-5f7be0c871fa"
      },
      "cell_type": "code",
      "source": [
        "results_df = pd.DataFrame({\n",
        "    \"Document\": [f\"Doc {i+1}\" for i in range(len(documents))],\n",
        "    \"BM25 Score\": bm25_scores,\n",
        "    \"TF-IDF Score\": tf_idf_scores\n",
        "}).sort_values(by=\"BM25 Score\", ascending=False).reset_index(drop=True)\n",
        "\n",
        "print(\"Comparison of BM25 and TF-IDF Rankings:\")\n",
        "print(results_df)\n",
        "\n",
        "print(\"\\nOrder by BM25:\")\n",
        "print(results_df.sort_values(by=\"BM25 Score\", ascending=False)[\"Document\"].tolist())\n",
        "print(\"\\nOrder by TF-IDF:\")\n",
        "print(results_df.sort_values(by=\"TF-IDF Score\", ascending=False)[\"Document\"].tolist())"
      ],
      "id": "b71c287667058254",
      "outputs": [
        {
          "output_type": "stream",
          "name": "stdout",
          "text": [
            "Comparison of BM25 and TF-IDF Rankings:\n",
            "  Document  BM25 Score  TF-IDF Score\n",
            "0    Doc 1    1.220365      0.364940\n",
            "1    Doc 4    0.922859      0.482958\n",
            "2    Doc 3    0.588048      0.457217\n",
            "3    Doc 5    0.521071      0.151518\n",
            "4    Doc 2    0.378244      0.129578\n",
            "\n",
            "Order by BM25:\n",
            "['Doc 1', 'Doc 4', 'Doc 3', 'Doc 5', 'Doc 2']\n",
            "\n",
            "Order by TF-IDF:\n",
            "['Doc 4', 'Doc 3', 'Doc 1', 'Doc 5', 'Doc 2']\n"
          ]
        }
      ],
      "execution_count": 28
    },
    {
      "metadata": {
        "id": "f5a13a64a34d8409"
      },
      "cell_type": "markdown",
      "source": [
        "#"
      ],
      "id": "f5a13a64a34d8409"
    },
    {
      "metadata": {
        "id": "3c8c682f2084507"
      },
      "cell_type": "markdown",
      "source": [
        "# 2. The IR Process Workflow"
      ],
      "id": "3c8c682f2084507"
    },
    {
      "metadata": {
        "id": "e7ed8eed01b73f7a"
      },
      "cell_type": "markdown",
      "source": [
        "## 2.1. Preprocessing"
      ],
      "id": "e7ed8eed01b73f7a"
    },
    {
      "metadata": {
        "ExecuteTime": {
          "end_time": "2024-12-12T21:26:23.443357Z",
          "start_time": "2024-12-12T21:26:22.878003Z"
        },
        "colab": {
          "base_uri": "https://localhost:8080/"
        },
        "id": "86e24abe7ab320b2",
        "outputId": "a1db5af6-4715-4374-ede9-31cccb553e4f"
      },
      "cell_type": "code",
      "source": [
        "import re\n",
        "import nltk\n",
        "from nltk.tokenize import word_tokenize\n",
        "from nltk.corpus import stopwords\n",
        "from nltk.stem import PorterStemmer, WordNetLemmatizer\n",
        "\n",
        "nltk.download('punkt_tab')\n",
        "nltk.download('stopwords')"
      ],
      "id": "86e24abe7ab320b2",
      "outputs": [
        {
          "output_type": "stream",
          "name": "stderr",
          "text": [
            "[nltk_data] Downloading package punkt_tab to /root/nltk_data...\n",
            "[nltk_data]   Unzipping tokenizers/punkt_tab.zip.\n",
            "[nltk_data] Downloading package stopwords to /root/nltk_data...\n",
            "[nltk_data]   Package stopwords is already up-to-date!\n"
          ]
        },
        {
          "output_type": "execute_result",
          "data": {
            "text/plain": [
              "True"
            ]
          },
          "metadata": {},
          "execution_count": 34
        }
      ],
      "execution_count": 34
    },
    {
      "metadata": {
        "id": "9d26c05c78be7188"
      },
      "cell_type": "markdown",
      "source": [
        "### Normalization"
      ],
      "id": "9d26c05c78be7188"
    },
    {
      "metadata": {
        "ExecuteTime": {
          "end_time": "2024-12-12T21:26:23.496698Z",
          "start_time": "2024-12-12T21:26:23.494839Z"
        },
        "id": "2745e1f8c918911b"
      },
      "cell_type": "code",
      "source": [
        "def normalize(text: str) -> str:\n",
        "    # Convert text to lowercase\n",
        "    text = text.lower()\n",
        "    # Remove special characters and punctuation\n",
        "    text = re.sub(r\"[^a-zA-Z0-9\\s]\", \"\", text)\n",
        "    # Remove extra whitespace\n",
        "    text = re.sub(r\"\\s+\", \" \", text).strip()\n",
        "\n",
        "    return text"
      ],
      "id": "2745e1f8c918911b",
      "outputs": [],
      "execution_count": 35
    },
    {
      "metadata": {
        "id": "68786c8ffbd1b165"
      },
      "cell_type": "markdown",
      "source": [
        "Apply normalization to the text and view the results"
      ],
      "id": "68786c8ffbd1b165"
    },
    {
      "metadata": {
        "ExecuteTime": {
          "end_time": "2024-12-12T21:26:23.524564Z",
          "start_time": "2024-12-12T21:26:23.522542Z"
        },
        "colab": {
          "base_uri": "https://localhost:8080/"
        },
        "id": "df4ab2b2ba497dfe",
        "outputId": "7bc6389e-a231-467f-8f0b-e4004fdbe60f"
      },
      "cell_type": "code",
      "source": [
        "text = \"Information     Retrieval is... FUN!!!\"\n",
        "\n",
        "print(\"Original Text:\")\n",
        "print(text)\n",
        "\n",
        "normalized_text = normalize(text)\n",
        "\n",
        "print(\"\\nNormalized Text:\")\n",
        "print(normalized_text)"
      ],
      "id": "df4ab2b2ba497dfe",
      "outputs": [
        {
          "output_type": "stream",
          "name": "stdout",
          "text": [
            "Original Text:\n",
            "Information     Retrieval is... FUN!!!\n",
            "\n",
            "Normalized Text:\n",
            "information retrieval is fun\n"
          ]
        }
      ],
      "execution_count": 36
    },
    {
      "metadata": {
        "id": "9cfc9a1b1efebfd8"
      },
      "cell_type": "markdown",
      "source": [
        "### Tokenization"
      ],
      "id": "9cfc9a1b1efebfd8"
    },
    {
      "metadata": {
        "ExecuteTime": {
          "end_time": "2024-12-12T21:26:23.549117Z",
          "start_time": "2024-12-12T21:26:23.547330Z"
        },
        "id": "b90a4970d0ec0fea"
      },
      "cell_type": "code",
      "source": [
        "def simple_split(doc: str) -> list[str]:\n",
        "    \"\"\"Split the document by whitespace\"\"\"\n",
        "    return doc.split()\n",
        "\n",
        "def word_tokenization(doc: str) -> list[str]:\n",
        "    \"\"\"Tokenize the document into words\"\"\"\n",
        "    return word_tokenize(doc)"
      ],
      "id": "b90a4970d0ec0fea",
      "outputs": [],
      "execution_count": 37
    },
    {
      "metadata": {
        "id": "f8b78cd4de08034b"
      },
      "cell_type": "markdown",
      "source": [
        "Tokenize the text and compare the results"
      ],
      "id": "f8b78cd4de08034b"
    },
    {
      "metadata": {
        "ExecuteTime": {
          "end_time": "2024-12-12T21:26:23.618032Z",
          "start_time": "2024-12-12T21:26:23.563622Z"
        },
        "colab": {
          "base_uri": "https://localhost:8080/"
        },
        "id": "a0fa3da9ecb818e6",
        "outputId": "9a7e0bc6-6800-4d92-e0e2-b3d3a1e012f6"
      },
      "cell_type": "code",
      "source": [
        "text = \"Dr. Smith said, 'Information Retrieval is fascinating!'\"\n",
        "\n",
        "print(\"Original Text:\")\n",
        "print(text)\n",
        "\n",
        "tokens = simple_split(text)\n",
        "\n",
        "print(\"\\nSimple Split:\")\n",
        "print(tokens)\n",
        "\n",
        "tokens = word_tokenization(text)\n",
        "\n",
        "print(\"\\nWord Tokenization:\")\n",
        "print(tokens)"
      ],
      "id": "a0fa3da9ecb818e6",
      "outputs": [
        {
          "output_type": "stream",
          "name": "stdout",
          "text": [
            "Original Text:\n",
            "Dr. Smith said, 'Information Retrieval is fascinating!'\n",
            "\n",
            "Simple Split:\n",
            "['Dr.', 'Smith', 'said,', \"'Information\", 'Retrieval', 'is', \"fascinating!'\"]\n",
            "\n",
            "Word Tokenization:\n",
            "['Dr.', 'Smith', 'said', ',', \"'Information\", 'Retrieval', 'is', 'fascinating', '!', \"'\"]\n"
          ]
        }
      ],
      "execution_count": 38
    },
    {
      "metadata": {
        "id": "d20ee1aaee65bd47"
      },
      "cell_type": "markdown",
      "source": [
        "### Stop-word Removal"
      ],
      "id": "d20ee1aaee65bd47"
    },
    {
      "metadata": {
        "ExecuteTime": {
          "end_time": "2024-12-12T21:26:23.644551Z",
          "start_time": "2024-12-12T21:26:23.642815Z"
        },
        "id": "3f281e859d2ee753"
      },
      "cell_type": "code",
      "source": [
        "def remove_stop_words(tokens: list[str]) -> list[str]:\n",
        "    \"\"\"Remove stop-words from the list of tokens\"\"\"\n",
        "    return [word for word in tokens if word not in stopwords.words('english')]"
      ],
      "id": "3f281e859d2ee753",
      "outputs": [],
      "execution_count": 39
    },
    {
      "metadata": {
        "id": "fa7b8e60bcbb9c48"
      },
      "cell_type": "markdown",
      "source": [
        "Remove stop-words from the tokens and view the results"
      ],
      "id": "fa7b8e60bcbb9c48"
    },
    {
      "metadata": {
        "ExecuteTime": {
          "end_time": "2024-12-12T21:26:23.686388Z",
          "start_time": "2024-12-12T21:26:23.682657Z"
        },
        "colab": {
          "base_uri": "https://localhost:8080/"
        },
        "id": "2b2ef2fea6e67d1f",
        "outputId": "b916803a-2851-407a-a5b5-c3f5cf2beced"
      },
      "cell_type": "code",
      "source": [
        "tokens = [\"this\", \"is\", \"an\", \"example\", \"of\", \"stop-word\", \"removal\", \"for\", \"information\", \"retrieval\"]\n",
        "\n",
        "print(\"Original Tokens:\")\n",
        "print(tokens)\n",
        "\n",
        "filtered_tokens = remove_stop_words(tokens)\n",
        "\n",
        "print(\"\\nTokens after Stop-word Removal:\")\n",
        "print(filtered_tokens)"
      ],
      "id": "2b2ef2fea6e67d1f",
      "outputs": [
        {
          "output_type": "stream",
          "name": "stdout",
          "text": [
            "Original Tokens:\n",
            "['this', 'is', 'an', 'example', 'of', 'stop-word', 'removal', 'for', 'information', 'retrieval']\n",
            "\n",
            "Tokens after Stop-word Removal:\n",
            "['example', 'stop-word', 'removal', 'information', 'retrieval']\n"
          ]
        }
      ],
      "execution_count": 40
    },
    {
      "metadata": {
        "id": "73a55192960f66e1"
      },
      "cell_type": "markdown",
      "source": [
        "### Stemming and Lemmatization"
      ],
      "id": "73a55192960f66e1"
    },
    {
      "metadata": {
        "ExecuteTime": {
          "end_time": "2024-12-12T21:26:23.718702Z",
          "start_time": "2024-12-12T21:26:23.716008Z"
        },
        "id": "2dd7d2a964d3f004"
      },
      "cell_type": "code",
      "source": [
        "def apply_stemming(tokens: list[str]) -> list[str]:\n",
        "    \"\"\"Apply stemming to the list of tokens\"\"\"\n",
        "    stemmer = PorterStemmer()\n",
        "\n",
        "    return [stemmer.stem(word) for word in tokens]\n",
        "\n",
        "\n",
        "def apply_lemmatization(tokens: list[str], pos: str = \"n\") -> list[str]:\n",
        "    \"\"\"Apply lemmatization to the list of tokens\"\"\"\n",
        "    lemmatizer = WordNetLemmatizer()\n",
        "\n",
        "    return [lemmatizer.lemmatize(word, pos=pos) for word in tokens]"
      ],
      "id": "2dd7d2a964d3f004",
      "outputs": [],
      "execution_count": 41
    },
    {
      "metadata": {
        "id": "b90b327b7f1dd597"
      },
      "cell_type": "markdown",
      "source": [
        "Apply stemming and lemmatization to the tokens and compare the results"
      ],
      "id": "b90b327b7f1dd597"
    },
    {
      "metadata": {
        "ExecuteTime": {
          "end_time": "2024-12-12T21:26:25.188618Z",
          "start_time": "2024-12-12T21:26:23.761821Z"
        },
        "colab": {
          "base_uri": "https://localhost:8080/",
          "height": 1000
        },
        "id": "65347327ad0137cd",
        "outputId": "616e5c89-6dfa-48e0-d9ca-4a0a9efb1e6a"
      },
      "cell_type": "code",
      "source": [
        "tokens = [\"information\", \"retrieval\", \"makes\", \"retrieving\", \"information\", \"easier\"]\n",
        "\n",
        "print(\"Original Tokens:\")\n",
        "print(tokens)\n",
        "\n",
        "stemmed_tokens = apply_stemming(tokens)\n",
        "\n",
        "print(\"\\nStemmed Tokens:\")\n",
        "print(stemmed_tokens)\n",
        "\n",
        "lemmatized_tokens = apply_lemmatization(tokens)\n",
        "\n",
        "print(\"\\nLemmatized Tokens:\")\n",
        "print(lemmatized_tokens)"
      ],
      "id": "65347327ad0137cd",
      "outputs": [
        {
          "output_type": "stream",
          "name": "stdout",
          "text": [
            "Original Tokens:\n",
            "['information', 'retrieval', 'makes', 'retrieving', 'information', 'easier']\n",
            "\n",
            "Stemmed Tokens:\n",
            "['inform', 'retriev', 'make', 'retriev', 'inform', 'easier']\n"
          ]
        },
        {
          "output_type": "error",
          "ename": "LookupError",
          "evalue": "\n**********************************************************************\n  Resource \u001b[93mwordnet\u001b[0m not found.\n  Please use the NLTK Downloader to obtain the resource:\n\n  \u001b[31m>>> import nltk\n  >>> nltk.download('wordnet')\n  \u001b[0m\n  For more information see: https://www.nltk.org/data.html\n\n  Attempted to load \u001b[93mcorpora/wordnet\u001b[0m\n\n  Searched in:\n    - '/root/nltk_data'\n    - '/usr/nltk_data'\n    - '/usr/share/nltk_data'\n    - '/usr/lib/nltk_data'\n    - '/usr/share/nltk_data'\n    - '/usr/local/share/nltk_data'\n    - '/usr/lib/nltk_data'\n    - '/usr/local/lib/nltk_data'\n**********************************************************************\n",
          "traceback": [
            "\u001b[0;31m---------------------------------------------------------------------------\u001b[0m",
            "\u001b[0;31mLookupError\u001b[0m                               Traceback (most recent call last)",
            "\u001b[0;32m/usr/local/lib/python3.10/dist-packages/nltk/corpus/util.py\u001b[0m in \u001b[0;36m__load\u001b[0;34m(self)\u001b[0m\n\u001b[1;32m     83\u001b[0m                 \u001b[0;32mtry\u001b[0m\u001b[0;34m:\u001b[0m\u001b[0;34m\u001b[0m\u001b[0;34m\u001b[0m\u001b[0m\n\u001b[0;32m---> 84\u001b[0;31m                     \u001b[0mroot\u001b[0m \u001b[0;34m=\u001b[0m \u001b[0mnltk\u001b[0m\u001b[0;34m.\u001b[0m\u001b[0mdata\u001b[0m\u001b[0;34m.\u001b[0m\u001b[0mfind\u001b[0m\u001b[0;34m(\u001b[0m\u001b[0;34mf\"{self.subdir}/{zip_name}\"\u001b[0m\u001b[0;34m)\u001b[0m\u001b[0;34m\u001b[0m\u001b[0;34m\u001b[0m\u001b[0m\n\u001b[0m\u001b[1;32m     85\u001b[0m                 \u001b[0;32mexcept\u001b[0m \u001b[0mLookupError\u001b[0m\u001b[0;34m:\u001b[0m\u001b[0;34m\u001b[0m\u001b[0;34m\u001b[0m\u001b[0m\n",
            "\u001b[0;32m/usr/local/lib/python3.10/dist-packages/nltk/data.py\u001b[0m in \u001b[0;36mfind\u001b[0;34m(resource_name, paths)\u001b[0m\n\u001b[1;32m    578\u001b[0m     \u001b[0mresource_not_found\u001b[0m \u001b[0;34m=\u001b[0m \u001b[0;34mf\"\\n{sep}\\n{msg}\\n{sep}\\n\"\u001b[0m\u001b[0;34m\u001b[0m\u001b[0;34m\u001b[0m\u001b[0m\n\u001b[0;32m--> 579\u001b[0;31m     \u001b[0;32mraise\u001b[0m \u001b[0mLookupError\u001b[0m\u001b[0;34m(\u001b[0m\u001b[0mresource_not_found\u001b[0m\u001b[0;34m)\u001b[0m\u001b[0;34m\u001b[0m\u001b[0;34m\u001b[0m\u001b[0m\n\u001b[0m\u001b[1;32m    580\u001b[0m \u001b[0;34m\u001b[0m\u001b[0m\n",
            "\u001b[0;31mLookupError\u001b[0m: \n**********************************************************************\n  Resource \u001b[93mwordnet\u001b[0m not found.\n  Please use the NLTK Downloader to obtain the resource:\n\n  \u001b[31m>>> import nltk\n  >>> nltk.download('wordnet')\n  \u001b[0m\n  For more information see: https://www.nltk.org/data.html\n\n  Attempted to load \u001b[93mcorpora/wordnet.zip/wordnet/\u001b[0m\n\n  Searched in:\n    - '/root/nltk_data'\n    - '/usr/nltk_data'\n    - '/usr/share/nltk_data'\n    - '/usr/lib/nltk_data'\n    - '/usr/share/nltk_data'\n    - '/usr/local/share/nltk_data'\n    - '/usr/lib/nltk_data'\n    - '/usr/local/lib/nltk_data'\n**********************************************************************\n",
            "\nDuring handling of the above exception, another exception occurred:\n",
            "\u001b[0;31mLookupError\u001b[0m                               Traceback (most recent call last)",
            "\u001b[0;32m<ipython-input-43-ee46fb03b5d8>\u001b[0m in \u001b[0;36m<cell line: 11>\u001b[0;34m()\u001b[0m\n\u001b[1;32m      9\u001b[0m \u001b[0mprint\u001b[0m\u001b[0;34m(\u001b[0m\u001b[0mstemmed_tokens\u001b[0m\u001b[0;34m)\u001b[0m\u001b[0;34m\u001b[0m\u001b[0;34m\u001b[0m\u001b[0m\n\u001b[1;32m     10\u001b[0m \u001b[0;34m\u001b[0m\u001b[0m\n\u001b[0;32m---> 11\u001b[0;31m \u001b[0mlemmatized_tokens\u001b[0m \u001b[0;34m=\u001b[0m \u001b[0mapply_lemmatization\u001b[0m\u001b[0;34m(\u001b[0m\u001b[0mtokens\u001b[0m\u001b[0;34m)\u001b[0m\u001b[0;34m\u001b[0m\u001b[0;34m\u001b[0m\u001b[0m\n\u001b[0m\u001b[1;32m     12\u001b[0m \u001b[0;34m\u001b[0m\u001b[0m\n\u001b[1;32m     13\u001b[0m \u001b[0mprint\u001b[0m\u001b[0;34m(\u001b[0m\u001b[0;34m\"\\nLemmatized Tokens:\"\u001b[0m\u001b[0;34m)\u001b[0m\u001b[0;34m\u001b[0m\u001b[0;34m\u001b[0m\u001b[0m\n",
            "\u001b[0;32m<ipython-input-41-46a9e9ad6f83>\u001b[0m in \u001b[0;36mapply_lemmatization\u001b[0;34m(tokens, pos)\u001b[0m\n\u001b[1;32m     10\u001b[0m     \u001b[0mlemmatizer\u001b[0m \u001b[0;34m=\u001b[0m \u001b[0mWordNetLemmatizer\u001b[0m\u001b[0;34m(\u001b[0m\u001b[0;34m)\u001b[0m\u001b[0;34m\u001b[0m\u001b[0;34m\u001b[0m\u001b[0m\n\u001b[1;32m     11\u001b[0m \u001b[0;34m\u001b[0m\u001b[0m\n\u001b[0;32m---> 12\u001b[0;31m     \u001b[0;32mreturn\u001b[0m \u001b[0;34m[\u001b[0m\u001b[0mlemmatizer\u001b[0m\u001b[0;34m.\u001b[0m\u001b[0mlemmatize\u001b[0m\u001b[0;34m(\u001b[0m\u001b[0mword\u001b[0m\u001b[0;34m,\u001b[0m \u001b[0mpos\u001b[0m\u001b[0;34m=\u001b[0m\u001b[0mpos\u001b[0m\u001b[0;34m)\u001b[0m \u001b[0;32mfor\u001b[0m \u001b[0mword\u001b[0m \u001b[0;32min\u001b[0m \u001b[0mtokens\u001b[0m\u001b[0;34m]\u001b[0m\u001b[0;34m\u001b[0m\u001b[0;34m\u001b[0m\u001b[0m\n\u001b[0m",
            "\u001b[0;32m<ipython-input-41-46a9e9ad6f83>\u001b[0m in \u001b[0;36m<listcomp>\u001b[0;34m(.0)\u001b[0m\n\u001b[1;32m     10\u001b[0m     \u001b[0mlemmatizer\u001b[0m \u001b[0;34m=\u001b[0m \u001b[0mWordNetLemmatizer\u001b[0m\u001b[0;34m(\u001b[0m\u001b[0;34m)\u001b[0m\u001b[0;34m\u001b[0m\u001b[0;34m\u001b[0m\u001b[0m\n\u001b[1;32m     11\u001b[0m \u001b[0;34m\u001b[0m\u001b[0m\n\u001b[0;32m---> 12\u001b[0;31m     \u001b[0;32mreturn\u001b[0m \u001b[0;34m[\u001b[0m\u001b[0mlemmatizer\u001b[0m\u001b[0;34m.\u001b[0m\u001b[0mlemmatize\u001b[0m\u001b[0;34m(\u001b[0m\u001b[0mword\u001b[0m\u001b[0;34m,\u001b[0m \u001b[0mpos\u001b[0m\u001b[0;34m=\u001b[0m\u001b[0mpos\u001b[0m\u001b[0;34m)\u001b[0m \u001b[0;32mfor\u001b[0m \u001b[0mword\u001b[0m \u001b[0;32min\u001b[0m \u001b[0mtokens\u001b[0m\u001b[0;34m]\u001b[0m\u001b[0;34m\u001b[0m\u001b[0;34m\u001b[0m\u001b[0m\n\u001b[0m",
            "\u001b[0;32m/usr/local/lib/python3.10/dist-packages/nltk/stem/wordnet.py\u001b[0m in \u001b[0;36mlemmatize\u001b[0;34m(self, word, pos)\u001b[0m\n\u001b[1;32m     83\u001b[0m         \u001b[0;34m:\u001b[0m\u001b[0;32mreturn\u001b[0m\u001b[0;34m:\u001b[0m \u001b[0mThe\u001b[0m \u001b[0mshortest\u001b[0m \u001b[0mlemma\u001b[0m \u001b[0mof\u001b[0m\u001b[0;31m \u001b[0m\u001b[0;31m`\u001b[0m\u001b[0mword\u001b[0m\u001b[0;31m`\u001b[0m\u001b[0;34m,\u001b[0m \u001b[0;32mfor\u001b[0m \u001b[0mthe\u001b[0m \u001b[0mgiven\u001b[0m\u001b[0;31m \u001b[0m\u001b[0;31m`\u001b[0m\u001b[0mpos\u001b[0m\u001b[0;31m`\u001b[0m\u001b[0;34m.\u001b[0m\u001b[0;34m\u001b[0m\u001b[0;34m\u001b[0m\u001b[0m\n\u001b[1;32m     84\u001b[0m         \"\"\"\n\u001b[0;32m---> 85\u001b[0;31m         \u001b[0mlemmas\u001b[0m \u001b[0;34m=\u001b[0m \u001b[0mself\u001b[0m\u001b[0;34m.\u001b[0m\u001b[0m_morphy\u001b[0m\u001b[0;34m(\u001b[0m\u001b[0mword\u001b[0m\u001b[0;34m,\u001b[0m \u001b[0mpos\u001b[0m\u001b[0;34m)\u001b[0m\u001b[0;34m\u001b[0m\u001b[0;34m\u001b[0m\u001b[0m\n\u001b[0m\u001b[1;32m     86\u001b[0m         \u001b[0;32mreturn\u001b[0m \u001b[0mmin\u001b[0m\u001b[0;34m(\u001b[0m\u001b[0mlemmas\u001b[0m\u001b[0;34m,\u001b[0m \u001b[0mkey\u001b[0m\u001b[0;34m=\u001b[0m\u001b[0mlen\u001b[0m\u001b[0;34m)\u001b[0m \u001b[0;32mif\u001b[0m \u001b[0mlemmas\u001b[0m \u001b[0;32melse\u001b[0m \u001b[0mword\u001b[0m\u001b[0;34m\u001b[0m\u001b[0;34m\u001b[0m\u001b[0m\n\u001b[1;32m     87\u001b[0m \u001b[0;34m\u001b[0m\u001b[0m\n",
            "\u001b[0;32m/usr/local/lib/python3.10/dist-packages/nltk/stem/wordnet.py\u001b[0m in \u001b[0;36m_morphy\u001b[0;34m(self, form, pos, check_exceptions)\u001b[0m\n\u001b[1;32m     39\u001b[0m         \u001b[0;32mfrom\u001b[0m \u001b[0mnltk\u001b[0m\u001b[0;34m.\u001b[0m\u001b[0mcorpus\u001b[0m \u001b[0;32mimport\u001b[0m \u001b[0mwordnet\u001b[0m \u001b[0;32mas\u001b[0m \u001b[0mwn\u001b[0m\u001b[0;34m\u001b[0m\u001b[0;34m\u001b[0m\u001b[0m\n\u001b[1;32m     40\u001b[0m \u001b[0;34m\u001b[0m\u001b[0m\n\u001b[0;32m---> 41\u001b[0;31m         \u001b[0;32mreturn\u001b[0m \u001b[0mwn\u001b[0m\u001b[0;34m.\u001b[0m\u001b[0m_morphy\u001b[0m\u001b[0;34m(\u001b[0m\u001b[0mform\u001b[0m\u001b[0;34m,\u001b[0m \u001b[0mpos\u001b[0m\u001b[0;34m,\u001b[0m \u001b[0mcheck_exceptions\u001b[0m\u001b[0;34m)\u001b[0m\u001b[0;34m\u001b[0m\u001b[0;34m\u001b[0m\u001b[0m\n\u001b[0m\u001b[1;32m     42\u001b[0m \u001b[0;34m\u001b[0m\u001b[0m\n\u001b[1;32m     43\u001b[0m     \u001b[0;32mdef\u001b[0m \u001b[0mmorphy\u001b[0m\u001b[0;34m(\u001b[0m\u001b[0mself\u001b[0m\u001b[0;34m,\u001b[0m \u001b[0mform\u001b[0m\u001b[0;34m,\u001b[0m \u001b[0mpos\u001b[0m\u001b[0;34m=\u001b[0m\u001b[0;32mNone\u001b[0m\u001b[0;34m,\u001b[0m \u001b[0mcheck_exceptions\u001b[0m\u001b[0;34m=\u001b[0m\u001b[0;32mTrue\u001b[0m\u001b[0;34m)\u001b[0m\u001b[0;34m:\u001b[0m\u001b[0;34m\u001b[0m\u001b[0;34m\u001b[0m\u001b[0m\n",
            "\u001b[0;32m/usr/local/lib/python3.10/dist-packages/nltk/corpus/util.py\u001b[0m in \u001b[0;36m__getattr__\u001b[0;34m(self, attr)\u001b[0m\n\u001b[1;32m    118\u001b[0m             \u001b[0;32mraise\u001b[0m \u001b[0mAttributeError\u001b[0m\u001b[0;34m(\u001b[0m\u001b[0;34m\"LazyCorpusLoader object has no attribute '__bases__'\"\u001b[0m\u001b[0;34m)\u001b[0m\u001b[0;34m\u001b[0m\u001b[0;34m\u001b[0m\u001b[0m\n\u001b[1;32m    119\u001b[0m \u001b[0;34m\u001b[0m\u001b[0m\n\u001b[0;32m--> 120\u001b[0;31m         \u001b[0mself\u001b[0m\u001b[0;34m.\u001b[0m\u001b[0m__load\u001b[0m\u001b[0;34m(\u001b[0m\u001b[0;34m)\u001b[0m\u001b[0;34m\u001b[0m\u001b[0;34m\u001b[0m\u001b[0m\n\u001b[0m\u001b[1;32m    121\u001b[0m         \u001b[0;31m# This looks circular, but its not, since __load() changes our\u001b[0m\u001b[0;34m\u001b[0m\u001b[0;34m\u001b[0m\u001b[0m\n\u001b[1;32m    122\u001b[0m         \u001b[0;31m# __class__ to something new:\u001b[0m\u001b[0;34m\u001b[0m\u001b[0;34m\u001b[0m\u001b[0m\n",
            "\u001b[0;32m/usr/local/lib/python3.10/dist-packages/nltk/corpus/util.py\u001b[0m in \u001b[0;36m__load\u001b[0;34m(self)\u001b[0m\n\u001b[1;32m     84\u001b[0m                     \u001b[0mroot\u001b[0m \u001b[0;34m=\u001b[0m \u001b[0mnltk\u001b[0m\u001b[0;34m.\u001b[0m\u001b[0mdata\u001b[0m\u001b[0;34m.\u001b[0m\u001b[0mfind\u001b[0m\u001b[0;34m(\u001b[0m\u001b[0;34mf\"{self.subdir}/{zip_name}\"\u001b[0m\u001b[0;34m)\u001b[0m\u001b[0;34m\u001b[0m\u001b[0;34m\u001b[0m\u001b[0m\n\u001b[1;32m     85\u001b[0m                 \u001b[0;32mexcept\u001b[0m \u001b[0mLookupError\u001b[0m\u001b[0;34m:\u001b[0m\u001b[0;34m\u001b[0m\u001b[0;34m\u001b[0m\u001b[0m\n\u001b[0;32m---> 86\u001b[0;31m                     \u001b[0;32mraise\u001b[0m \u001b[0me\u001b[0m\u001b[0;34m\u001b[0m\u001b[0;34m\u001b[0m\u001b[0m\n\u001b[0m\u001b[1;32m     87\u001b[0m \u001b[0;34m\u001b[0m\u001b[0m\n\u001b[1;32m     88\u001b[0m         \u001b[0;31m# Load the corpus.\u001b[0m\u001b[0;34m\u001b[0m\u001b[0;34m\u001b[0m\u001b[0m\n",
            "\u001b[0;32m/usr/local/lib/python3.10/dist-packages/nltk/corpus/util.py\u001b[0m in \u001b[0;36m__load\u001b[0;34m(self)\u001b[0m\n\u001b[1;32m     79\u001b[0m         \u001b[0;32melse\u001b[0m\u001b[0;34m:\u001b[0m\u001b[0;34m\u001b[0m\u001b[0;34m\u001b[0m\u001b[0m\n\u001b[1;32m     80\u001b[0m             \u001b[0;32mtry\u001b[0m\u001b[0;34m:\u001b[0m\u001b[0;34m\u001b[0m\u001b[0;34m\u001b[0m\u001b[0m\n\u001b[0;32m---> 81\u001b[0;31m                 \u001b[0mroot\u001b[0m \u001b[0;34m=\u001b[0m \u001b[0mnltk\u001b[0m\u001b[0;34m.\u001b[0m\u001b[0mdata\u001b[0m\u001b[0;34m.\u001b[0m\u001b[0mfind\u001b[0m\u001b[0;34m(\u001b[0m\u001b[0;34mf\"{self.subdir}/{self.__name}\"\u001b[0m\u001b[0;34m)\u001b[0m\u001b[0;34m\u001b[0m\u001b[0;34m\u001b[0m\u001b[0m\n\u001b[0m\u001b[1;32m     82\u001b[0m             \u001b[0;32mexcept\u001b[0m \u001b[0mLookupError\u001b[0m \u001b[0;32mas\u001b[0m \u001b[0me\u001b[0m\u001b[0;34m:\u001b[0m\u001b[0;34m\u001b[0m\u001b[0;34m\u001b[0m\u001b[0m\n\u001b[1;32m     83\u001b[0m                 \u001b[0;32mtry\u001b[0m\u001b[0;34m:\u001b[0m\u001b[0;34m\u001b[0m\u001b[0;34m\u001b[0m\u001b[0m\n",
            "\u001b[0;32m/usr/local/lib/python3.10/dist-packages/nltk/data.py\u001b[0m in \u001b[0;36mfind\u001b[0;34m(resource_name, paths)\u001b[0m\n\u001b[1;32m    577\u001b[0m     \u001b[0msep\u001b[0m \u001b[0;34m=\u001b[0m \u001b[0;34m\"*\"\u001b[0m \u001b[0;34m*\u001b[0m \u001b[0;36m70\u001b[0m\u001b[0;34m\u001b[0m\u001b[0;34m\u001b[0m\u001b[0m\n\u001b[1;32m    578\u001b[0m     \u001b[0mresource_not_found\u001b[0m \u001b[0;34m=\u001b[0m \u001b[0;34mf\"\\n{sep}\\n{msg}\\n{sep}\\n\"\u001b[0m\u001b[0;34m\u001b[0m\u001b[0;34m\u001b[0m\u001b[0m\n\u001b[0;32m--> 579\u001b[0;31m     \u001b[0;32mraise\u001b[0m \u001b[0mLookupError\u001b[0m\u001b[0;34m(\u001b[0m\u001b[0mresource_not_found\u001b[0m\u001b[0;34m)\u001b[0m\u001b[0;34m\u001b[0m\u001b[0;34m\u001b[0m\u001b[0m\n\u001b[0m\u001b[1;32m    580\u001b[0m \u001b[0;34m\u001b[0m\u001b[0m\n\u001b[1;32m    581\u001b[0m \u001b[0;34m\u001b[0m\u001b[0m\n",
            "\u001b[0;31mLookupError\u001b[0m: \n**********************************************************************\n  Resource \u001b[93mwordnet\u001b[0m not found.\n  Please use the NLTK Downloader to obtain the resource:\n\n  \u001b[31m>>> import nltk\n  >>> nltk.download('wordnet')\n  \u001b[0m\n  For more information see: https://www.nltk.org/data.html\n\n  Attempted to load \u001b[93mcorpora/wordnet\u001b[0m\n\n  Searched in:\n    - '/root/nltk_data'\n    - '/usr/nltk_data'\n    - '/usr/share/nltk_data'\n    - '/usr/lib/nltk_data'\n    - '/usr/share/nltk_data'\n    - '/usr/local/share/nltk_data'\n    - '/usr/lib/nltk_data'\n    - '/usr/local/lib/nltk_data'\n**********************************************************************\n"
          ]
        }
      ],
      "execution_count": 43
    },
    {
      "metadata": {
        "id": "740cc5a24d04790a"
      },
      "cell_type": "markdown",
      "source": [
        "Compare different POS tags for lemmatization"
      ],
      "id": "740cc5a24d04790a"
    },
    {
      "metadata": {
        "ExecuteTime": {
          "end_time": "2024-12-12T21:26:25.206499Z",
          "start_time": "2024-12-12T21:26:25.204481Z"
        },
        "id": "c18a13a03b54aecd"
      },
      "cell_type": "code",
      "source": [
        "print(\"Original Tokens:\")\n",
        "print(tokens)\n",
        "\n",
        "lemmatized_v_tokens = apply_lemmatization(tokens, pos=\"v\")\n",
        "\n",
        "print(\"\\nLemmatized Tokens (Verb):\")\n",
        "print(lemmatized_v_tokens)\n",
        "\n",
        "lemmatized_a_tokens = apply_lemmatization(tokens, pos=\"a\")\n",
        "\n",
        "print(\"\\nLemmatized Tokens (Adjective):\")\n",
        "print(lemmatized_a_tokens)\n"
      ],
      "id": "c18a13a03b54aecd",
      "outputs": [],
      "execution_count": null
    },
    {
      "metadata": {
        "id": "44695281c2ef9332"
      },
      "cell_type": "markdown",
      "source": [
        "## 2.2. Retrieval & Ranking"
      ],
      "id": "44695281c2ef9332"
    },
    {
      "metadata": {
        "ExecuteTime": {
          "end_time": "2024-12-12T21:26:25.234132Z",
          "start_time": "2024-12-12T21:26:25.232573Z"
        },
        "id": "22a141cd9f08153b"
      },
      "cell_type": "code",
      "source": [
        "import numpy as np"
      ],
      "id": "22a141cd9f08153b",
      "outputs": [],
      "execution_count": null
    },
    {
      "metadata": {
        "id": "61d3b0b230e5ab6a"
      },
      "cell_type": "markdown",
      "source": [
        "### Similarity Metrics"
      ],
      "id": "61d3b0b230e5ab6a"
    },
    {
      "metadata": {
        "ExecuteTime": {
          "end_time": "2024-12-12T21:26:25.253552Z",
          "start_time": "2024-12-12T21:26:25.251222Z"
        },
        "id": "775d6296ef7807f7"
      },
      "cell_type": "code",
      "source": [
        "def euclidean_distance(v1: np.array, v2: np.array) -> float:\n",
        "    \"\"\"Compute the Euclidean distance between two vectors\"\"\"\n",
        "    return np.linalg.norm(v1 - v2)\n",
        "\n",
        "def dot_product(v1: np.array, v2: np.array) -> float:\n",
        "    \"\"\"Compute the dot product between two vectors\"\"\"\n",
        "    return np.dot(v1, v2)\n",
        "\n",
        "def cosine_similarity(v1: np.array, v2: np.array) -> float:\n",
        "    \"\"\"Compute the cosine similarity between two vectors\"\"\"\n",
        "    dot_product = np.dot(v1, v2)\n",
        "    norm_v1 = np.linalg.norm(v1)\n",
        "    norm_v2 = np.linalg.norm(v2)\n",
        "\n",
        "    return dot_product / (norm_v1 * norm_v2)"
      ],
      "id": "775d6296ef7807f7",
      "outputs": [],
      "execution_count": null
    },
    {
      "metadata": {
        "id": "9aafeab5814caf78"
      },
      "cell_type": "markdown",
      "source": [
        "Prepare the sample vectors"
      ],
      "id": "9aafeab5814caf78"
    },
    {
      "metadata": {
        "ExecuteTime": {
          "end_time": "2024-12-12T21:26:25.264408Z",
          "start_time": "2024-12-12T21:26:25.262657Z"
        },
        "id": "a97ad7edf8408cf2"
      },
      "cell_type": "code",
      "source": [
        "document_vectors = [\n",
        "    np.array([1.1, 0.5, 0.2]),\n",
        "    np.array([0.9, 0.4, 0.3]),\n",
        "    np.array([0.8, 0.3, 0.4])\n",
        "]\n",
        "\n",
        "query_vector = np.array([0.8, 0.5, 0.2])"
      ],
      "id": "a97ad7edf8408cf2",
      "outputs": [],
      "execution_count": null
    },
    {
      "metadata": {
        "id": "40e6619b8608e64c"
      },
      "cell_type": "markdown",
      "source": [
        "Compute the similarity metrics between the query and documents"
      ],
      "id": "40e6619b8608e64c"
    },
    {
      "metadata": {
        "ExecuteTime": {
          "end_time": "2024-12-12T21:26:25.286273Z",
          "start_time": "2024-12-12T21:26:25.281842Z"
        },
        "id": "d23ef1f6b3bdef6e"
      },
      "cell_type": "code",
      "source": [
        "euclidean_distances = [euclidean_distance(query_vector, doc) for doc in document_vectors]\n",
        "dot_products = [dot_product(query_vector, doc) for doc in document_vectors]\n",
        "cosine_similarities = [cosine_similarity(query_vector, doc) for doc in document_vectors]\n",
        "\n",
        "similarity_df = pd.DataFrame({\n",
        "    \"Document\": [f\"Doc {i+1}\" for i in range(len(document_vectors))],\n",
        "    \"Euclidean Distance\": euclidean_distances,\n",
        "    \"Dot Product\": dot_products,\n",
        "    \"Cosine Similarity\": cosine_similarities\n",
        "})\n",
        "\n",
        "print(\"Similarity Metrics:\")\n",
        "print(similarity_df)\n",
        "\n",
        "print(\"\\nOrder by Euclidean Distance:\")\n",
        "print(similarity_df.sort_values(by=\"Euclidean Distance\")[\"Document\"].tolist())\n",
        "\n",
        "print(\"\\nOrder by Dot Product:\")\n",
        "print(similarity_df.sort_values(by=\"Dot Product\", ascending=False)[\"Document\"].tolist())\n",
        "\n",
        "print(\"\\nOrder by Cosine Similarity:\")\n",
        "print(similarity_df.sort_values(by=\"Cosine Similarity\", ascending=False)[\"Document\"].tolist())"
      ],
      "id": "d23ef1f6b3bdef6e",
      "outputs": [],
      "execution_count": null
    },
    {
      "metadata": {
        "id": "52defd1e391528a7"
      },
      "cell_type": "markdown",
      "source": [
        "# 3. Embedding-Based Retrieval"
      ],
      "id": "52defd1e391528a7"
    },
    {
      "metadata": {
        "id": "ec3f0a7cdf4e4e33"
      },
      "cell_type": "markdown",
      "source": [
        "## 3.1. Word Embeddings"
      ],
      "id": "ec3f0a7cdf4e4e33"
    },
    {
      "metadata": {
        "ExecuteTime": {
          "end_time": "2024-12-12T21:26:25.752583Z",
          "start_time": "2024-12-12T21:26:25.305166Z"
        },
        "id": "7b6b11d0fd80c757"
      },
      "cell_type": "code",
      "source": [
        "from gensim.models import Word2Vec\n",
        "import matplotlib.pyplot as plt\n",
        "from sklearn.decomposition import PCA\n",
        "import numpy as np\n"
      ],
      "id": "7b6b11d0fd80c757",
      "outputs": [],
      "execution_count": 50
    },
    {
      "metadata": {
        "id": "459086d3614989d"
      },
      "cell_type": "markdown",
      "source": [
        "### Computation"
      ],
      "id": "459086d3614989d"
    },
    {
      "metadata": {
        "id": "cb0e96aadea7408a"
      },
      "cell_type": "markdown",
      "source": [
        "Prepare the sample corpus"
      ],
      "id": "cb0e96aadea7408a"
    },
    {
      "metadata": {
        "ExecuteTime": {
          "end_time": "2024-12-12T21:26:25.765063Z",
          "start_time": "2024-12-12T21:26:25.760333Z"
        },
        "id": "aa08df4bf3a1e94a"
      },
      "cell_type": "code",
      "source": [
        "corpus = [\n",
        "    \"Soccer is a popular sport worldwide.\",\n",
        "    \"Football is known as soccer in many countries.\",\n",
        "    \"I enjoy playing soccer with my friends.\",\n",
        "    \"Football matches are fun to watch.\"\n",
        "]\n",
        "\n",
        "normalized_corpus = [normalize(doc) for doc in corpus]\n",
        "tokenized_corpus = [word_tokenization(doc) for doc in normalized_corpus]\n",
        "filtered_corpus = [remove_stop_words(tokens) for tokens in tokenized_corpus]"
      ],
      "id": "aa08df4bf3a1e94a",
      "outputs": [],
      "execution_count": 48
    },
    {
      "metadata": {
        "id": "a8d16ec7538e1362"
      },
      "cell_type": "markdown",
      "source": [
        "Train the Word2Vec model on the corpus"
      ],
      "id": "a8d16ec7538e1362"
    },
    {
      "metadata": {
        "ExecuteTime": {
          "end_time": "2024-12-12T21:26:25.774314Z",
          "start_time": "2024-12-12T21:26:25.772320Z"
        },
        "id": "32476c5590e0a108"
      },
      "cell_type": "code",
      "source": [
        "def get_word_embeddings(corpus: list[list[str]]) -> tuple[np.array, list[str]]:\n",
        "    \"\"\"Train a Word2Vec model on the corpus\"\"\"\n",
        "    model = Word2Vec(corpus, vector_size=10, window=2, min_count=1, sg=0)\n",
        "\n",
        "    words = list(model.wv.key_to_index)  # Vocabulary words\n",
        "    word_vectors = model.wv[words]  # Corresponding embeddings\n",
        "\n",
        "    return word_vectors, words"
      ],
      "id": "32476c5590e0a108",
      "outputs": [],
      "execution_count": 51
    },
    {
      "metadata": {
        "ExecuteTime": {
          "end_time": "2024-12-12T21:26:25.794533Z",
          "start_time": "2024-12-12T21:26:25.788251Z"
        },
        "colab": {
          "base_uri": "https://localhost:8080/"
        },
        "id": "711b7293d9f96a20",
        "outputId": "40473280-4ddc-4b78-d36d-78836510535f"
      },
      "cell_type": "code",
      "source": [
        "word_embeddings, words = get_word_embeddings(filtered_corpus)\n",
        "\n",
        "print(\"Word Embeddings Shape:\", word_embeddings.shape)"
      ],
      "id": "711b7293d9f96a20",
      "outputs": [
        {
          "output_type": "stream",
          "name": "stdout",
          "text": [
            "Word Embeddings Shape: (14, 10)\n"
          ]
        }
      ],
      "execution_count": 52
    },
    {
      "metadata": {
        "id": "e0980efa05423ffa"
      },
      "cell_type": "markdown",
      "source": [
        "### Visualization"
      ],
      "id": "e0980efa05423ffa"
    },
    {
      "metadata": {
        "id": "ef2921745c23e96a"
      },
      "cell_type": "markdown",
      "source": [
        "Reduce the dimensions of the embeddings for visualization using PCA"
      ],
      "id": "ef2921745c23e96a"
    },
    {
      "metadata": {
        "ExecuteTime": {
          "end_time": "2024-12-12T21:26:25.950483Z",
          "start_time": "2024-12-12T21:26:25.825701Z"
        },
        "colab": {
          "base_uri": "https://localhost:8080/",
          "height": 564
        },
        "id": "7d0a77fddda7c1ce",
        "outputId": "a301c30c-a5cd-48e5-dc4d-4a693ee530c6"
      },
      "cell_type": "code",
      "source": [
        "# Reduce Dimensions for Visualization (2D)\n",
        "pca = PCA(n_components=2)\n",
        "reduced_word_vectors = pca.fit_transform(word_embeddings)\n",
        "\n",
        "# Plot Word Embeddings\n",
        "plt.figure(figsize=(10, 6))\n",
        "for i, word in enumerate(words):\n",
        "    x, y = reduced_word_vectors[i]\n",
        "    plt.scatter(x, y)\n",
        "    plt.text(x + 0.0005, y + 0.002, word, fontsize=9)\n",
        "\n",
        "plt.title(\"Word Embeddings Visualization (Word2Vec)\")\n",
        "plt.xlabel(\"PCA Dimension 1\")\n",
        "plt.ylabel(\"PCA Dimension 2\")\n",
        "plt.grid()\n",
        "plt.show()"
      ],
      "id": "7d0a77fddda7c1ce",
      "outputs": [
        {
          "output_type": "display_data",
          "data": {
            "text/plain": [
              "<Figure size 1000x600 with 1 Axes>"
            ],
            "image/png": "[encoded data removed]"
          },
          "metadata": {}
        }
      ],
      "execution_count": 53
    },
    {
      "metadata": {
        "id": "364dcef3707309d0"
      },
      "cell_type": "markdown",
      "source": [
        "## 3.3. Sentence Embeddings"
      ],
      "id": "364dcef3707309d0"
    },
    {
      "metadata": {
        "id": "3236796178c88f55"
      },
      "cell_type": "markdown",
      "source": [
        "### Computation"
      ],
      "id": "3236796178c88f55"
    },
    {
      "metadata": {
        "ExecuteTime": {
          "end_time": "2024-12-12T21:26:28.203004Z",
          "start_time": "2024-12-12T21:26:25.996500Z"
        },
        "id": "c5cf93b18ea20ea2"
      },
      "cell_type": "code",
      "source": [
        "from sentence_transformers import SentenceTransformer"
      ],
      "id": "c5cf93b18ea20ea2",
      "outputs": [],
      "execution_count": 54
    },
    {
      "metadata": {
        "id": "1ddadba8853e1900"
      },
      "cell_type": "markdown",
      "source": [
        "Prepare the sample sentences"
      ],
      "id": "1ddadba8853e1900"
    },
    {
      "metadata": {
        "ExecuteTime": {
          "end_time": "2024-12-12T21:26:28.217355Z",
          "start_time": "2024-12-12T21:26:28.214863Z"
        },
        "id": "5a8c1f3d0ebe25ce"
      },
      "cell_type": "code",
      "source": [
        "sentences = [\n",
        "    \"Information Retrieval is fascinating\",\n",
        "    \"Retrieval systems retrieve documents\",\n",
        "    \"I love playing football\",\n",
        "    \"Soccer is a great sport\",\n",
        "    \"Cooking is an enjoyable activity\",\n",
        "    \"Baking is part of cooking\",\n",
        "    \"A lovely day for a picnic\",\n",
        "    \"Cats are beautiful animals\"\n",
        "]"
      ],
      "id": "5a8c1f3d0ebe25ce",
      "outputs": [],
      "execution_count": 55
    },
    {
      "metadata": {
        "id": "ddbf59a08b39e6af"
      },
      "cell_type": "markdown",
      "source": [
        "Compute the embeddings for the sentences"
      ],
      "id": "ddbf59a08b39e6af"
    },
    {
      "metadata": {
        "ExecuteTime": {
          "end_time": "2024-12-12T21:26:28.232200Z",
          "start_time": "2024-12-12T21:26:28.229732Z"
        },
        "id": "6b6b4d9fe52fc3bb"
      },
      "cell_type": "code",
      "source": [
        "def get_sentence_embeddings(sentences: list[str]) -> np.array:\n",
        "    \"\"\"Compute embeddings for the list of sentences\"\"\"\n",
        "    model = SentenceTransformer('all-MiniLM-L6-v2')\n",
        "\n",
        "    return model.encode(sentences)"
      ],
      "id": "6b6b4d9fe52fc3bb",
      "outputs": [],
      "execution_count": 56
    },
    {
      "metadata": {
        "ExecuteTime": {
          "end_time": "2024-12-12T21:26:30.825369Z",
          "start_time": "2024-12-12T21:26:28.250569Z"
        },
        "colab": {
          "base_uri": "https://localhost:8080/",
          "height": 497,
          "referenced_widgets": [
            "5ddd181f7d5845dc8aa00579e901f0d2",
            "8824523f8989421c8eb01bfd1a586cdd",
            "825d89ecab9c44b591c6e54ea04eac6a",
            "2d91d9c61f084261943660cf6bc155fe",
            "d10c59ea2b164c5198d6e7e85602cd21",
            "d6f86baf17d34023aa117cd3d31d7522",
            "bbff357c38094dda989d9ad454b59577",
            "63b64ac69d8b46699d7c346df124fd2e",
            "70a247f6e93e4b348e658f57cff9ccd1",
            "7a1208060bd043059a6232f7c57e0fe5",
            "05c0419006754ef6bccf8c20dd6039ec",
            "1132321a188e437cbbfee5a013ad8225",
            "7d0fe28b945d4bc7bd773ed8ec56c2be",
            "336c0e34f24d4aee8bdd1fd524c2eb31",
            "4b4ca72729e6485b8f8247c4314e981e",
            "a0994f65727a45399fc234658c94f390",
            "6494e8d563f04017a6604c857a66258d",
            "10e93c56a0f241c7be23ddac084c5565",
            "627af07cc0b3472886416bab264da7e2",
            "0cce44673ea04eea990f76b301a08e85",
            "e39df7178c594a12bc292ef383e328c2",
            "ca98313b54ce4996a6bc03212095bdf4",
            "3be1db9228b84c98b886e5013faae1d9",
            "8dcf0d6237064a94a9550848c6ffd4e8",
            "8cba094a701f4721b614d897b4c574ca",
            "a00a2f093313467fb1eacdc1f1fe2ef8",
            "8bc48544ea5a4f9390fc1a064bfa879d",
            "07fcad7c22794bebb76d2dfb50ea1ce2",
            "f0131816b5034646983915977abe8039",
            "0024873b151d49a4ad1399f876f59875",
            "6942bb2af5b0431aa1de9edae04aa6af",
            "4c48dad7faec42a69eec638751decd57",
            "311cae5b326b4903af76cc49482b1c49",
            "23d7071e79c64418b0e7d924db78003c",
            "de51bd0225e74dfbab06881af0962e92",
            "ab0dc92c7c2c4e15b4b572b168982b4c",
            "a02dfab1013a4a8e975b52244c602947",
            "da69f1e1fafb43a4bbd48a57cdad042c",
            "52934b3ac1a6446b8e1f3e8b3c749630",
            "5aac72c4bfba458992eb1c87ca9bf88e",
            "d0b872710d6a4d4f94625f3e89316728",
            "af6a3a0867f74f5391bf9c2e4a663379",
            "5511319627d94c7da10dd3fc7f886525",
            "7b16d0bfdaa8497f99a795991cc274b4",
            "fc02adc5a0e045a3a71f7b090b76a6f6",
            "40cfd6383732415393b1f96d68265091",
            "fc14b846c4b940ac83bd59e5dfebe3b2",
            "a31557a81b49423bbe5482b8f7510e2d",
            "18fe5a358b5e4af39466d249c0f3fdf2",
            "13593ece16284310a0ef88b848dffeac",
            "8fefaa1e1f734c1185977b8e25df371b",
            "f715a05ce1a341d9a97500b7276b364b",
            "85f80504e77f4aceaaafff9726d150a5",
            "6191b661b1174de9b82ccb6c27d1b3cd",
            "0a3d62e13e8945a7a4d563fe851c7113",
            "8160ce1aa35a42d18039a0de422eef5d",
            "63ad28c4f1e3471885ece605a23fc79a",
            "47d552558b714b11bdf01b7f5a449566",
            "b91e969b8d41488a88d57a8199696d5f",
            "36b5486d1cda400886b33a15a58e5d2d",
            "4355b6b7386e43d79e2b68869daa72aa",
            "6c4f262b3be94dd697c520357d0c624b",
            "862d29ad1ccc4fcc84d7dedc0f336add",
            "67225a3db46047e7ade3f255f07065aa",
            "371dd6dc3dc74d4db5a8577a8c05e67f",
            "869beba908ce44408bf1f8260fe3dbac",
            "8f4340635733485eb035aecb15565e9a",
            "9e6b0c5c72ed486197b474a02e327abd",
            "15228406033b4e5eb9976f58d4af007f",
            "b80029b9fd6644229443c7951885aa25",
            "33043ec7a53541648d114d4141f149c8",
            "d3d1338c487e4bc69a3f70f5cdc4ecfe",
            "fcca37e62b164e47a274c0e3a4c29efc",
            "0a395c804b8049a1b25cfd96bced544b",
            "eec670bdc43a4fc1b619713b71f3b6e9",
            "bf07664c16b24caca602a1c1d4489501",
            "3587a713faec4beea03bc10802333ffe",
            "4e3e7fcd708142fdb434c6d31029da2a",
            "d41c5a02b91e4d45a2fa5eb7c16a89e2",
            "dca06dc1efb745cf9a958d0aa87bbdf4",
            "c787fd0f28a8418a85a831dc12a28103",
            "369dfb1ba479464bb2d546feb59ddb29",
            "5ce1fa066257421c849b18305f7848db",
            "f7989a5d326e44cf87fa32ce78dbed52",
            "4418b8e5f0d24407a6522747b80e9db1",
            "74f95867068c47089fd976fc3dd43e1e",
            "3c712e984c124d419b3981e4c58481d9",
            "5133cd404a6f4735be147e99e2415eb0",
            "43540bd0f2764929a85259b481ee277b",
            "93003f0dc59f406b9644ad1dbbc0801f",
            "13dadd8d6f394256b72f15155864533c",
            "65917b045b754cf291d15c99cde448e4",
            "bd43f798d6564582a0fdc3c67abc17e6",
            "4268f78f650d437e9b5e6c67fa06ec5f",
            "ad027a939b3b4fbf843d0209f7fc067f",
            "ac9f16a2029042b09dc0d7895f481506",
            "3c82822e68a746c6a423a59f845fe857",
            "6b51ac4604f245a1865b043094b38553",
            "2f5f43e298df4c0a92c66df294ce181a",
            "88502f2eb2bc4a9f993c9e70f009b690",
            "bbf50a457a68432fb7cd5a9fff75c2d9",
            "f7dca742304b421fb4e21c0c5878695a",
            "49572e666a2d48dfa6d16b73027a1530",
            "c8d2192b919d4bbf80e597faca58b1ff",
            "647644328ce94b758bc059142c19b31c",
            "66a206077ea54442ad5039b9a6c509f9",
            "34627323aed94f9babbde4519668d8ed",
            "21c207b4306c4b609dc4867bd3fc1daf",
            "5b6d7cf556ab4033a14b6dd718ed9d18",
            "73eeb6cf81734fdb86bde52769b5f3cd",
            "bab692212b3545e5ac5dd9bff2cd9e34",
            "bb943e4c8c2c48cd8e64cfef740d65a8",
            "49b78a0c60ce4af2bb326a8720b25fc4",
            "a9add52b8a434a4f8cd059f0be31d5a8",
            "77a9616f31cd41d0bbd2d4efbf15f5b6",
            "3efba501e0ea400abac1637edbb8af46",
            "d261474359ff4576ac024510acf60a94",
            "f8f7c6aee0dc4586b5d2f92845f7e78e",
            "f1902d0f1c47474b8ae95d7e895110c7",
            "1ba33808ae3d4486b29f043b5c4a70c1",
            "d1d1c559368b4730a49cc574c7af5b14"
          ]
        },
        "id": "65db8c346750edf6",
        "outputId": "41f53476-61d7-42b4-ef79-241612a05baf"
      },
      "cell_type": "code",
      "source": [
        "sentence_embeddings = get_sentence_embeddings(sentences)\n",
        "\n",
        "print(\"Embeddings Shape:\", sentence_embeddings.shape)"
      ],
      "id": "65db8c346750edf6",
      "outputs": [
        {
          "output_type": "stream",
          "name": "stderr",
          "text": [
            "/usr/local/lib/python3.10/dist-packages/huggingface_hub/utils/_auth.py:94: UserWarning: \n",
            "The secret `HF_TOKEN` does not exist in your Colab secrets.\n",
            "To authenticate with the Hugging Face Hub, create a token in your settings tab (https://huggingface.co/settings/tokens), set it as secret in your Google Colab and restart your session.\n",
            "You will be able to reuse this secret in all of your notebooks.\n",
            "Please note that authentication is recommended but still optional to access public models or datasets.\n",
            "  warnings.warn(\n"
          ]
        },
        {
          "output_type": "display_data",
          "data": {
            "text/plain": [
              "modules.json:   0%|          | 0.00/349 [00:00<?, ?B/s]"
            ],
            "application/vnd.jupyter.widget-view+json": {
              "version_major": 2,
              "version_minor": 0,
              "model_id": "5ddd181f7d5845dc8aa00579e901f0d2"
            }
          },
          "metadata": {}
        },
        {
          "output_type": "display_data",
          "data": {
            "text/plain": [
              "config_sentence_transformers.json:   0%|          | 0.00/116 [00:00<?, ?B/s]"
            ],
            "application/vnd.jupyter.widget-view+json": {
              "version_major": 2,
              "version_minor": 0,
              "model_id": "1132321a188e437cbbfee5a013ad8225"
            }
          },
          "metadata": {}
        },
        {
          "output_type": "display_data",
          "data": {
            "text/plain": [
              "README.md:   0%|          | 0.00/10.7k [00:00<?, ?B/s]"
            ],
            "application/vnd.jupyter.widget-view+json": {
              "version_major": 2,
              "version_minor": 0,
              "model_id": "3be1db9228b84c98b886e5013faae1d9"
            }
          },
          "metadata": {}
        },
        {
          "output_type": "display_data",
          "data": {
            "text/plain": [
              "sentence_bert_config.json:   0%|          | 0.00/53.0 [00:00<?, ?B/s]"
            ],
            "application/vnd.jupyter.widget-view+json": {
              "version_major": 2,
              "version_minor": 0,
              "model_id": "23d7071e79c64418b0e7d924db78003c"
            }
          },
          "metadata": {}
        },
        {
          "output_type": "display_data",
          "data": {
            "text/plain": [
              "config.json:   0%|          | 0.00/612 [00:00<?, ?B/s]"
            ],
            "application/vnd.jupyter.widget-view+json": {
              "version_major": 2,
              "version_minor": 0,
              "model_id": "fc02adc5a0e045a3a71f7b090b76a6f6"
            }
          },
          "metadata": {}
        },
        {
          "output_type": "display_data",
          "data": {
            "text/plain": [
              "model.safetensors:   0%|          | 0.00/90.9M [00:00<?, ?B/s]"
            ],
            "application/vnd.jupyter.widget-view+json": {
              "version_major": 2,
              "version_minor": 0,
              "model_id": "8160ce1aa35a42d18039a0de422eef5d"
            }
          },
          "metadata": {}
        },
        {
          "output_type": "display_data",
          "data": {
            "text/plain": [
              "tokenizer_config.json:   0%|          | 0.00/350 [00:00<?, ?B/s]"
            ],
            "application/vnd.jupyter.widget-view+json": {
              "version_major": 2,
              "version_minor": 0,
              "model_id": "8f4340635733485eb035aecb15565e9a"
            }
          },
          "metadata": {}
        },
        {
          "output_type": "display_data",
          "data": {
            "text/plain": [
              "vocab.txt:   0%|          | 0.00/232k [00:00<?, ?B/s]"
            ],
            "application/vnd.jupyter.widget-view+json": {
              "version_major": 2,
              "version_minor": 0,
              "model_id": "4e3e7fcd708142fdb434c6d31029da2a"
            }
          },
          "metadata": {}
        },
        {
          "output_type": "display_data",
          "data": {
            "text/plain": [
              "tokenizer.json:   0%|          | 0.00/466k [00:00<?, ?B/s]"
            ],
            "application/vnd.jupyter.widget-view+json": {
              "version_major": 2,
              "version_minor": 0,
              "model_id": "43540bd0f2764929a85259b481ee277b"
            }
          },
          "metadata": {}
        },
        {
          "output_type": "display_data",
          "data": {
            "text/plain": [
              "special_tokens_map.json:   0%|          | 0.00/112 [00:00<?, ?B/s]"
            ],
            "application/vnd.jupyter.widget-view+json": {
              "version_major": 2,
              "version_minor": 0,
              "model_id": "88502f2eb2bc4a9f993c9e70f009b690"
            }
          },
          "metadata": {}
        },
        {
          "output_type": "display_data",
          "data": {
            "text/plain": [
              "1_Pooling/config.json:   0%|          | 0.00/190 [00:00<?, ?B/s]"
            ],
            "application/vnd.jupyter.widget-view+json": {
              "version_major": 2,
              "version_minor": 0,
              "model_id": "bab692212b3545e5ac5dd9bff2cd9e34"
            }
          },
          "metadata": {}
        },
        {
          "output_type": "stream",
          "name": "stdout",
          "text": [
            "Embeddings Shape: (8, 384)\n"
          ]
        }
      ],
      "execution_count": 57
    },
    {
      "metadata": {
        "id": "4535ecf9e5e943ed"
      },
      "cell_type": "markdown",
      "source": [
        "### Visualization"
      ],
      "id": "4535ecf9e5e943ed"
    },
    {
      "metadata": {
        "id": "a330149e1f781268"
      },
      "cell_type": "markdown",
      "source": [
        "Reduce the dimensions of the embeddings for visualization using PCA"
      ],
      "id": "a330149e1f781268"
    },
    {
      "metadata": {
        "ExecuteTime": {
          "end_time": "2024-12-12T21:26:31.084220Z",
          "start_time": "2024-12-12T21:26:30.861996Z"
        },
        "colab": {
          "base_uri": "https://localhost:8080/",
          "height": 564
        },
        "id": "c6a1d51963563664",
        "outputId": "81806f47-1604-41cf-e883-eee76257a3ef"
      },
      "cell_type": "code",
      "source": [
        "# Reduce Dimensions to 2D\n",
        "pca = PCA(n_components=2)\n",
        "reduced_embeddings = pca.fit_transform(sentence_embeddings)\n",
        "\n",
        "# Plot the Embeddings\n",
        "plt.figure(figsize=(10, 6))\n",
        "for i, sentence in enumerate(sentences):\n",
        "    x, y = reduced_embeddings[i]\n",
        "    plt.scatter(x, y, label=f\"Sentence {i+1}\")\n",
        "    plt.text(x + 0.01, y + 0.01, sentence, fontsize=9)\n",
        "\n",
        "plt.title(\"2D Visualization of Sentence Embeddings\")\n",
        "plt.xlabel(\"PCA Dimension 1\")\n",
        "plt.ylabel(\"PCA Dimension 2\")\n",
        "plt.legend(loc='upper left', bbox_to_anchor=(1, 1), fontsize=8)\n",
        "plt.grid()\n",
        "plt.show()"
      ],
      "id": "c6a1d51963563664",
      "outputs": [
        {
          "output_type": "display_data",
          "data": {
            "text/plain": [
              "<Figure size 1000x600 with 1 Axes>"
            ],
            "image/png": "[encoded data removed]"
          },
          "metadata": {}
        }
      ],
      "execution_count": 58
    },
    {
      "metadata": {
        "id": "2bb93847dd381952"
      },
      "cell_type": "markdown",
      "source": [],
      "id": "2bb93847dd381952"
    },
    {
      "metadata": {
        "id": "3ae6784187e5761d"
      },
      "cell_type": "markdown",
      "source": [
        "## 3.3. GPT Embeddings"
      ],
      "id": "3ae6784187e5761d"
    },
    {
      "metadata": {
        "ExecuteTime": {
          "end_time": "2024-12-12T21:26:31.735553Z",
          "start_time": "2024-12-12T21:26:31.104591Z"
        },
        "id": "203645b357c88f48"
      },
      "cell_type": "code",
      "source": [
        "import openai\n",
        "\n",
        "openai.api_key = os.getenv(\"OPENAI_API_KEY\")"
      ],
      "id": "203645b357c88f48",
      "outputs": [],
      "execution_count": 59
    },
    {
      "metadata": {
        "id": "6ac6a55ae8363426"
      },
      "cell_type": "markdown",
      "source": [
        "### Computation"
      ],
      "id": "6ac6a55ae8363426"
    },
    {
      "metadata": {
        "id": "7300c6243af3424a"
      },
      "cell_type": "markdown",
      "source": [
        "Prepare the sample sentences"
      ],
      "id": "7300c6243af3424a"
    },
    {
      "metadata": {
        "ExecuteTime": {
          "end_time": "2024-12-12T21:26:31.748556Z",
          "start_time": "2024-12-12T21:26:31.746910Z"
        },
        "id": "7e057e62734aeb70"
      },
      "cell_type": "code",
      "source": [
        "documents = [\n",
        "    \"AI is the future of technology\",\n",
        "    \"The world is becoming more digital\",\n",
        "    \"Data science is the key to innovation\",\n",
        "    \"Remote work is the new normal\",\n",
        "    \"OpenAI provides powerful tools for developers\",\n",
        "    \"I like to code in Python\"\n",
        "]"
      ],
      "id": "7e057e62734aeb70",
      "outputs": [],
      "execution_count": 60
    },
    {
      "metadata": {
        "ExecuteTime": {
          "end_time": "2024-12-12T21:26:31.762004Z",
          "start_time": "2024-12-12T21:26:31.759071Z"
        },
        "id": "5b0eb904c8db21dd"
      },
      "cell_type": "code",
      "source": [
        "def get_gpt_embedding(documents: list[str]) -> np.array:\n",
        "    \"\"\"Compute embeddings for the list of documents usng GPT\"\"\"\n",
        "    response = openai.embeddings.create(\n",
        "        model=\"text-embedding-ada-002\",\n",
        "        input=documents\n",
        "    )\n",
        "\n",
        "    return np.array([embedding.embedding for embedding in response.data])"
      ],
      "id": "5b0eb904c8db21dd",
      "outputs": [],
      "execution_count": 61
    },
    {
      "metadata": {
        "id": "aa5485dc7f4bb27a"
      },
      "cell_type": "markdown",
      "source": [
        "Compute the embeddings for the documents"
      ],
      "id": "aa5485dc7f4bb27a"
    },
    {
      "metadata": {
        "ExecuteTime": {
          "end_time": "2024-12-12T21:26:32.649938Z",
          "start_time": "2024-12-12T21:26:31.777786Z"
        },
        "colab": {
          "base_uri": "https://localhost:8080/",
          "height": 353
        },
        "id": "19031b87ddec9d7a",
        "outputId": "776202d6-8192-4a9c-f5c6-64fad9931d56"
      },
      "cell_type": "code",
      "source": [
        "gpt_embeddings = get_gpt_embedding(documents)\n",
        "\n",
        "print(\"Embeddings Shape:\", gpt_embeddings.shape)"
      ],
      "id": "19031b87ddec9d7a",
      "outputs": [
        {
          "output_type": "error",
          "ename": "OpenAIError",
          "evalue": "The api_key client option must be set either by passing api_key to the client or by setting the OPENAI_API_KEY environment variable",
          "traceback": [
            "\u001b[0;31m---------------------------------------------------------------------------\u001b[0m",
            "\u001b[0;31mOpenAIError\u001b[0m                               Traceback (most recent call last)",
            "\u001b[0;32m<ipython-input-62-81ed9cecd946>\u001b[0m in \u001b[0;36m<cell line: 1>\u001b[0;34m()\u001b[0m\n\u001b[0;32m----> 1\u001b[0;31m \u001b[0mgpt_embeddings\u001b[0m \u001b[0;34m=\u001b[0m \u001b[0mget_gpt_embedding\u001b[0m\u001b[0;34m(\u001b[0m\u001b[0mdocuments\u001b[0m\u001b[0;34m)\u001b[0m\u001b[0;34m\u001b[0m\u001b[0;34m\u001b[0m\u001b[0m\n\u001b[0m\u001b[1;32m      2\u001b[0m \u001b[0;34m\u001b[0m\u001b[0m\n\u001b[1;32m      3\u001b[0m \u001b[0mprint\u001b[0m\u001b[0;34m(\u001b[0m\u001b[0;34m\"Embeddings Shape:\"\u001b[0m\u001b[0;34m,\u001b[0m \u001b[0mgpt_embeddings\u001b[0m\u001b[0;34m.\u001b[0m\u001b[0mshape\u001b[0m\u001b[0;34m)\u001b[0m\u001b[0;34m\u001b[0m\u001b[0;34m\u001b[0m\u001b[0m\n",
            "\u001b[0;32m<ipython-input-61-c76049d34f71>\u001b[0m in \u001b[0;36mget_gpt_embedding\u001b[0;34m(documents)\u001b[0m\n\u001b[1;32m      1\u001b[0m \u001b[0;32mdef\u001b[0m \u001b[0mget_gpt_embedding\u001b[0m\u001b[0;34m(\u001b[0m\u001b[0mdocuments\u001b[0m\u001b[0;34m:\u001b[0m \u001b[0mlist\u001b[0m\u001b[0;34m[\u001b[0m\u001b[0mstr\u001b[0m\u001b[0;34m]\u001b[0m\u001b[0;34m)\u001b[0m \u001b[0;34m->\u001b[0m \u001b[0mnp\u001b[0m\u001b[0;34m.\u001b[0m\u001b[0marray\u001b[0m\u001b[0;34m:\u001b[0m\u001b[0;34m\u001b[0m\u001b[0;34m\u001b[0m\u001b[0m\n\u001b[1;32m      2\u001b[0m     \u001b[0;34m\"\"\"Compute embeddings for the list of documents usng GPT\"\"\"\u001b[0m\u001b[0;34m\u001b[0m\u001b[0;34m\u001b[0m\u001b[0m\n\u001b[0;32m----> 3\u001b[0;31m     response = openai.embeddings.create(\n\u001b[0m\u001b[1;32m      4\u001b[0m         \u001b[0mmodel\u001b[0m\u001b[0;34m=\u001b[0m\u001b[0;34m\"text-embedding-ada-002\"\u001b[0m\u001b[0;34m,\u001b[0m\u001b[0;34m\u001b[0m\u001b[0;34m\u001b[0m\u001b[0m\n\u001b[1;32m      5\u001b[0m         \u001b[0minput\u001b[0m\u001b[0;34m=\u001b[0m\u001b[0mdocuments\u001b[0m\u001b[0;34m\u001b[0m\u001b[0;34m\u001b[0m\u001b[0m\n",
            "\u001b[0;32m/usr/local/lib/python3.10/dist-packages/openai/_utils/_proxy.py\u001b[0m in \u001b[0;36m__getattr__\u001b[0;34m(self, attr)\u001b[0m\n\u001b[1;32m     18\u001b[0m \u001b[0;34m\u001b[0m\u001b[0m\n\u001b[1;32m     19\u001b[0m     \u001b[0;32mdef\u001b[0m \u001b[0m__getattr__\u001b[0m\u001b[0;34m(\u001b[0m\u001b[0mself\u001b[0m\u001b[0;34m,\u001b[0m \u001b[0mattr\u001b[0m\u001b[0;34m:\u001b[0m \u001b[0mstr\u001b[0m\u001b[0;34m)\u001b[0m \u001b[0;34m->\u001b[0m \u001b[0mobject\u001b[0m\u001b[0;34m:\u001b[0m\u001b[0;34m\u001b[0m\u001b[0;34m\u001b[0m\u001b[0m\n\u001b[0;32m---> 20\u001b[0;31m         \u001b[0mproxied\u001b[0m \u001b[0;34m=\u001b[0m \u001b[0mself\u001b[0m\u001b[0;34m.\u001b[0m\u001b[0m__get_proxied__\u001b[0m\u001b[0;34m(\u001b[0m\u001b[0;34m)\u001b[0m\u001b[0;34m\u001b[0m\u001b[0;34m\u001b[0m\u001b[0m\n\u001b[0m\u001b[1;32m     21\u001b[0m         \u001b[0;32mif\u001b[0m \u001b[0misinstance\u001b[0m\u001b[0;34m(\u001b[0m\u001b[0mproxied\u001b[0m\u001b[0;34m,\u001b[0m \u001b[0mLazyProxy\u001b[0m\u001b[0;34m)\u001b[0m\u001b[0;34m:\u001b[0m\u001b[0;34m\u001b[0m\u001b[0;34m\u001b[0m\u001b[0m\n\u001b[1;32m     22\u001b[0m             \u001b[0;32mreturn\u001b[0m \u001b[0mproxied\u001b[0m  \u001b[0;31m# pyright: ignore\u001b[0m\u001b[0;34m\u001b[0m\u001b[0;34m\u001b[0m\u001b[0m\n",
            "\u001b[0;32m/usr/local/lib/python3.10/dist-packages/openai/_utils/_proxy.py\u001b[0m in \u001b[0;36m__get_proxied__\u001b[0;34m(self)\u001b[0m\n\u001b[1;32m     53\u001b[0m \u001b[0;34m\u001b[0m\u001b[0m\n\u001b[1;32m     54\u001b[0m     \u001b[0;32mdef\u001b[0m \u001b[0m__get_proxied__\u001b[0m\u001b[0;34m(\u001b[0m\u001b[0mself\u001b[0m\u001b[0;34m)\u001b[0m \u001b[0;34m->\u001b[0m \u001b[0mT\u001b[0m\u001b[0;34m:\u001b[0m\u001b[0;34m\u001b[0m\u001b[0;34m\u001b[0m\u001b[0m\n\u001b[0;32m---> 55\u001b[0;31m         \u001b[0;32mreturn\u001b[0m \u001b[0mself\u001b[0m\u001b[0;34m.\u001b[0m\u001b[0m__load__\u001b[0m\u001b[0;34m(\u001b[0m\u001b[0;34m)\u001b[0m\u001b[0;34m\u001b[0m\u001b[0;34m\u001b[0m\u001b[0m\n\u001b[0m\u001b[1;32m     56\u001b[0m \u001b[0;34m\u001b[0m\u001b[0m\n\u001b[1;32m     57\u001b[0m     \u001b[0;32mdef\u001b[0m \u001b[0m__as_proxied__\u001b[0m\u001b[0;34m(\u001b[0m\u001b[0mself\u001b[0m\u001b[0;34m)\u001b[0m \u001b[0;34m->\u001b[0m \u001b[0mT\u001b[0m\u001b[0;34m:\u001b[0m\u001b[0;34m\u001b[0m\u001b[0;34m\u001b[0m\u001b[0m\n",
            "\u001b[0;32m/usr/local/lib/python3.10/dist-packages/openai/_module_client.py\u001b[0m in \u001b[0;36m__load__\u001b[0;34m(self)\u001b[0m\n\u001b[1;32m     52\u001b[0m     \u001b[0;34m@\u001b[0m\u001b[0moverride\u001b[0m\u001b[0;34m\u001b[0m\u001b[0;34m\u001b[0m\u001b[0m\n\u001b[1;32m     53\u001b[0m     \u001b[0;32mdef\u001b[0m \u001b[0m__load__\u001b[0m\u001b[0;34m(\u001b[0m\u001b[0mself\u001b[0m\u001b[0;34m)\u001b[0m \u001b[0;34m->\u001b[0m \u001b[0mresources\u001b[0m\u001b[0;34m.\u001b[0m\u001b[0mEmbeddings\u001b[0m\u001b[0;34m:\u001b[0m\u001b[0;34m\u001b[0m\u001b[0;34m\u001b[0m\u001b[0m\n\u001b[0;32m---> 54\u001b[0;31m         \u001b[0;32mreturn\u001b[0m \u001b[0m_load_client\u001b[0m\u001b[0;34m(\u001b[0m\u001b[0;34m)\u001b[0m\u001b[0;34m.\u001b[0m\u001b[0membeddings\u001b[0m\u001b[0;34m\u001b[0m\u001b[0;34m\u001b[0m\u001b[0m\n\u001b[0m\u001b[1;32m     55\u001b[0m \u001b[0;34m\u001b[0m\u001b[0m\n\u001b[1;32m     56\u001b[0m \u001b[0;34m\u001b[0m\u001b[0m\n",
            "\u001b[0;32m/usr/local/lib/python3.10/dist-packages/openai/__init__.py\u001b[0m in \u001b[0;36m_load_client\u001b[0;34m()\u001b[0m\n\u001b[1;32m    325\u001b[0m             \u001b[0;32mreturn\u001b[0m \u001b[0m_client\u001b[0m\u001b[0;34m\u001b[0m\u001b[0;34m\u001b[0m\u001b[0m\n\u001b[1;32m    326\u001b[0m \u001b[0;34m\u001b[0m\u001b[0m\n\u001b[0;32m--> 327\u001b[0;31m         _client = _ModuleClient(\n\u001b[0m\u001b[1;32m    328\u001b[0m             \u001b[0mapi_key\u001b[0m\u001b[0;34m=\u001b[0m\u001b[0mapi_key\u001b[0m\u001b[0;34m,\u001b[0m\u001b[0;34m\u001b[0m\u001b[0;34m\u001b[0m\u001b[0m\n\u001b[1;32m    329\u001b[0m             \u001b[0morganization\u001b[0m\u001b[0;34m=\u001b[0m\u001b[0morganization\u001b[0m\u001b[0;34m,\u001b[0m\u001b[0;34m\u001b[0m\u001b[0;34m\u001b[0m\u001b[0m\n",
            "\u001b[0;32m/usr/local/lib/python3.10/dist-packages/openai/_client.py\u001b[0m in \u001b[0;36m__init__\u001b[0;34m(self, api_key, organization, project, base_url, timeout, max_retries, default_headers, default_query, http_client, _strict_response_validation)\u001b[0m\n\u001b[1;32m    103\u001b[0m             \u001b[0mapi_key\u001b[0m \u001b[0;34m=\u001b[0m \u001b[0mos\u001b[0m\u001b[0;34m.\u001b[0m\u001b[0menviron\u001b[0m\u001b[0;34m.\u001b[0m\u001b[0mget\u001b[0m\u001b[0;34m(\u001b[0m\u001b[0;34m\"OPENAI_API_KEY\"\u001b[0m\u001b[0;34m)\u001b[0m\u001b[0;34m\u001b[0m\u001b[0;34m\u001b[0m\u001b[0m\n\u001b[1;32m    104\u001b[0m         \u001b[0;32mif\u001b[0m \u001b[0mapi_key\u001b[0m \u001b[0;32mis\u001b[0m \u001b[0;32mNone\u001b[0m\u001b[0;34m:\u001b[0m\u001b[0;34m\u001b[0m\u001b[0;34m\u001b[0m\u001b[0m\n\u001b[0;32m--> 105\u001b[0;31m             raise OpenAIError(\n\u001b[0m\u001b[1;32m    106\u001b[0m                 \u001b[0;34m\"The api_key client option must be set either by passing api_key to the client or by setting the OPENAI_API_KEY environment variable\"\u001b[0m\u001b[0;34m\u001b[0m\u001b[0;34m\u001b[0m\u001b[0m\n\u001b[1;32m    107\u001b[0m             )\n",
            "\u001b[0;31mOpenAIError\u001b[0m: The api_key client option must be set either by passing api_key to the client or by setting the OPENAI_API_KEY environment variable"
          ]
        }
      ],
      "execution_count": 62
    },
    {
      "metadata": {
        "id": "f862b225ed25b404"
      },
      "cell_type": "markdown",
      "source": [
        "### Visualization"
      ],
      "id": "f862b225ed25b404"
    },
    {
      "metadata": {
        "ExecuteTime": {
          "end_time": "2024-12-12T21:26:32.843887Z",
          "start_time": "2024-12-12T21:26:32.703840Z"
        },
        "id": "2188b7b0408f3548"
      },
      "cell_type": "code",
      "source": [
        "# Reduce Dimensions to 2D\n",
        "pca = PCA(n_components=2)\n",
        "reduced_embeddings = pca.fit_transform(gpt_embeddings)\n",
        "\n",
        "# Visualize the Embeddings\n",
        "plt.figure(figsize=(10, 6))\n",
        "for i, sentence in enumerate(documents):\n",
        "    x, y = reduced_embeddings[i]\n",
        "    plt.scatter(x, y, label=f\"Sentence {i+1}\")\n",
        "    plt.text(x + 0.01, y + 0.01, sentence, fontsize=9)\n",
        "\n",
        "plt.title(\"2D Visualization of Sentence Embeddings (GPT)\")\n",
        "plt.xlabel(\"PCA Dimension 1\")\n",
        "plt.ylabel(\"PCA Dimension 2\")\n",
        "plt.legend(loc='upper left', bbox_to_anchor=(1, 1), fontsize=8)\n",
        "plt.grid()\n",
        "plt.show()"
      ],
      "id": "2188b7b0408f3548",
      "outputs": [],
      "execution_count": null
    },
    {
      "metadata": {
        "id": "4f2436912999cf78"
      },
      "cell_type": "markdown",
      "source": [
        "## 3.4. Image Embeddings"
      ],
      "id": "4f2436912999cf78"
    },
    {
      "metadata": {
        "id": "6d49493a1733edd3"
      },
      "cell_type": "markdown",
      "source": [
        "### Computation"
      ],
      "id": "6d49493a1733edd3"
    },
    {
      "metadata": {
        "id": "458e04fadd254455"
      },
      "cell_type": "markdown",
      "source": [],
      "id": "458e04fadd254455"
    },
    {
      "metadata": {
        "ExecuteTime": {
          "end_time": "2024-12-12T21:26:32.882014Z",
          "start_time": "2024-12-12T21:26:32.874282Z"
        },
        "id": "ffef05b769a2fc22"
      },
      "cell_type": "code",
      "source": [
        "from transformers import CLIPProcessor, CLIPModel\n",
        "from PIL import Image\n",
        "import requests"
      ],
      "id": "ffef05b769a2fc22",
      "outputs": [],
      "execution_count": null
    },
    {
      "metadata": {
        "id": "b25c806f40b034b7"
      },
      "cell_type": "markdown",
      "source": [
        "Prepare the sample images"
      ],
      "id": "b25c806f40b034b7"
    },
    {
      "metadata": {
        "ExecuteTime": {
          "end_time": "2024-12-12T21:26:35.314400Z",
          "start_time": "2024-12-12T21:26:32.917803Z"
        },
        "id": "eda3fc8d2614fd25"
      },
      "cell_type": "code",
      "source": [
        "images = [\n",
        "    \"https://images.unsplash.com/2/03.jpg\",\n",
        "    \"https://images.unsplash.com/2/01.jpg\",\n",
        "    \"https://images.unsplash.com/2/06.jpg\",\n",
        "    \"https://images.unsplash.com/2/09.jpg\"\n",
        "]\n",
        "\n",
        "def download_image(url: str) -> Image:\n",
        "    \"\"\"Download and return the image from the URL\"\"\"\n",
        "    return Image.open(requests.get(url, stream=True).raw)\n",
        "\n",
        "# Display Images\n",
        "fig, axs = plt.subplots(1, len(images), figsize=(15, 5))\n",
        "for i, image_url in enumerate(images):\n",
        "    image = download_image(image_url)\n",
        "    axs[i].imshow(image)\n",
        "    axs[i].axis(\"off\")\n",
        "    axs[i].set_title(f\"Image {i+1}\")\n",
        "\n",
        "plt.show()\n"
      ],
      "id": "eda3fc8d2614fd25",
      "outputs": [],
      "execution_count": null
    },
    {
      "metadata": {
        "id": "2afe6a976a3e6d74"
      },
      "cell_type": "markdown",
      "source": [
        "Compute the embeddings for the images using the CLIP model"
      ],
      "id": "2afe6a976a3e6d74"
    },
    {
      "metadata": {
        "ExecuteTime": {
          "end_time": "2024-12-12T21:26:35.364399Z",
          "start_time": "2024-12-12T21:26:35.362080Z"
        },
        "id": "21ae460b427a78a2"
      },
      "cell_type": "code",
      "source": [
        "def get_clip_image_embeddings(images: list[str]) -> np.array:\n",
        "    \"\"\"Compute embeddings for the list of images using CLIP\"\"\"\n",
        "    model = CLIPModel.from_pretrained(\"openai/clip-vit-base-patch32\")\n",
        "    processor = CLIPProcessor.from_pretrained(\"openai/clip-vit-base-patch32\")\n",
        "\n",
        "    image_embeddings = []\n",
        "\n",
        "    for image_url in images:\n",
        "        image = download_image(image_url)\n",
        "        inputs = processor(images=image, return_tensors=\"pt\")\n",
        "        outputs = model.get_image_features(**inputs)\n",
        "\n",
        "        image_embeddings.append(outputs.detach().numpy().flatten())\n",
        "\n",
        "    return np.array(image_embeddings)"
      ],
      "id": "21ae460b427a78a2",
      "outputs": [],
      "execution_count": null
    },
    {
      "metadata": {
        "ExecuteTime": {
          "end_time": "2024-12-12T21:26:39.373835Z",
          "start_time": "2024-12-12T21:26:35.401754Z"
        },
        "id": "df53795f6cda1a1e"
      },
      "cell_type": "code",
      "source": [
        "image_embeddings = get_clip_image_embeddings(images)\n",
        "\n",
        "print(\"Embeddings Shape:\", image_embeddings.shape)"
      ],
      "id": "df53795f6cda1a1e",
      "outputs": [],
      "execution_count": null
    },
    {
      "metadata": {
        "id": "d94c5f0f8a1491f6"
      },
      "cell_type": "markdown",
      "source": [
        "### Visualization"
      ],
      "id": "d94c5f0f8a1491f6"
    },
    {
      "metadata": {
        "ExecuteTime": {
          "end_time": "2024-12-12T21:26:39.526876Z",
          "start_time": "2024-12-12T21:26:39.398934Z"
        },
        "id": "131509222ff35c1d"
      },
      "cell_type": "code",
      "source": [
        "# Reduce Dimensions to 2D\n",
        "pca = PCA(n_components=2)\n",
        "reduced_image_embeddings = pca.fit_transform(image_embeddings)\n",
        "\n",
        "# Visualize the Embeddings\n",
        "plt.figure(figsize=(10, 6))\n",
        "for i, (x, y) in enumerate(reduced_image_embeddings):\n",
        "    plt.scatter(x, y, label=f\"Image {i+1}\")\n",
        "    plt.text(x + 0.01, y + 0.01, f\"Image {i+1}\", fontsize=9)\n",
        "\n",
        "plt.title(\"2D Visualization of Image Embeddings (CLIP)\")\n",
        "plt.xlabel(\"PCA Dimension 1\")\n",
        "plt.ylabel(\"PCA Dimension 2\")\n",
        "plt.legend(loc='upper left', bbox_to_anchor=(1, 1), fontsize=8)\n",
        "plt.grid()\n",
        "plt.show()"
      ],
      "id": "131509222ff35c1d",
      "outputs": [],
      "execution_count": null
    },
    {
      "metadata": {
        "id": "fbb250c78b755591"
      },
      "cell_type": "markdown",
      "source": [
        "## 3.5 Cross-Modal Retrieval"
      ],
      "id": "fbb250c78b755591"
    },
    {
      "metadata": {
        "id": "303abaca851ae12e"
      },
      "cell_type": "markdown",
      "source": [
        "### Computation"
      ],
      "id": "303abaca851ae12e"
    },
    {
      "metadata": {
        "id": "3cd2352b5a37b0c"
      },
      "cell_type": "markdown",
      "source": [
        "Prepare the images and query"
      ],
      "id": "3cd2352b5a37b0c"
    },
    {
      "metadata": {
        "ExecuteTime": {
          "end_time": "2024-12-12T21:26:43.053800Z",
          "start_time": "2024-12-12T21:26:39.578863Z"
        },
        "id": "b263c0495e0ef48e"
      },
      "cell_type": "code",
      "source": [
        "images = [\n",
        "    \"https://images.unsplash.com/photo-1588770878098-90fac9857313\",\n",
        "    \"https://images.unsplash.com/photo-1574217177748-deb9b741bc5a\",\n",
        "    \"https://images.unsplash.com/photo-1534347772883-c3c228d654e1\"\n",
        "]\n",
        "query = \"Dog eating food\"\n",
        "\n",
        "# Display Images\n",
        "fig, axs = plt.subplots(1, len(images), figsize=(15, 5))\n",
        "for i, image_url in enumerate(images):\n",
        "    image = download_image(image_url)\n",
        "    axs[i].imshow(image)\n",
        "    axs[i].axis(\"off\")\n",
        "    axs[i].set_title(f\"Image {i+1}\")"
      ],
      "id": "b263c0495e0ef48e",
      "outputs": [],
      "execution_count": null
    },
    {
      "metadata": {
        "id": "bc40e5de8f8701b7"
      },
      "cell_type": "markdown",
      "source": [
        "Compute the embeddings for the images and query"
      ],
      "id": "bc40e5de8f8701b7"
    },
    {
      "metadata": {
        "ExecuteTime": {
          "end_time": "2024-12-12T21:26:43.080357Z",
          "start_time": "2024-12-12T21:26:43.078044Z"
        },
        "id": "4f92e6152a51ab29"
      },
      "cell_type": "code",
      "source": [
        "def get_clip_text_embeddings(text: str) -> np.array:\n",
        "    \"\"\"Compute embeddings for the text using CLIP\"\"\"\n",
        "    model = CLIPModel.from_pretrained(\"openai/clip-vit-base-patch32\")\n",
        "    processor = CLIPProcessor.from_pretrained(\"openai/clip-vit-base-patch32\")\n",
        "\n",
        "    text_inputs = processor(text=text, return_tensors=\"pt\", padding=True)\n",
        "    text_features = model.get_text_features(**text_inputs).detach().numpy()\n",
        "\n",
        "    return text_features"
      ],
      "id": "4f92e6152a51ab29",
      "outputs": [],
      "execution_count": null
    },
    {
      "metadata": {
        "ExecuteTime": {
          "end_time": "2024-12-12T21:26:47.942322Z",
          "start_time": "2024-12-12T21:26:43.111018Z"
        },
        "id": "d80749e9d2a5b8fc"
      },
      "cell_type": "code",
      "source": [
        "image_embeddings = get_clip_image_embeddings(images)\n",
        "query_embedding = get_clip_text_embeddings(query)"
      ],
      "id": "d80749e9d2a5b8fc",
      "outputs": [],
      "execution_count": null
    },
    {
      "metadata": {
        "id": "a2ab365c4238eb3c"
      },
      "cell_type": "markdown",
      "source": [
        "Compute the similarity between the query and images"
      ],
      "id": "a2ab365c4238eb3c"
    },
    {
      "metadata": {
        "ExecuteTime": {
          "end_time": "2024-12-12T21:26:47.956974Z",
          "start_time": "2024-12-12T21:26:47.954924Z"
        },
        "id": "bae5adae4b44b0b5"
      },
      "cell_type": "code",
      "source": [
        "similarities = np.dot(query_embedding, image_embeddings.T).flatten()  # Dot product for similarity"
      ],
      "id": "bae5adae4b44b0b5",
      "outputs": [],
      "execution_count": null
    },
    {
      "metadata": {
        "id": "19dfe470d600d8bf"
      },
      "cell_type": "markdown",
      "source": [
        "### Results"
      ],
      "id": "19dfe470d600d8bf"
    },
    {
      "metadata": {
        "ExecuteTime": {
          "end_time": "2024-12-12T21:26:47.974952Z",
          "start_time": "2024-12-12T21:26:47.972574Z"
        },
        "id": "e53a7e50054bc745"
      },
      "cell_type": "code",
      "source": [
        "print(\"Text-to-Image Similarities:\")\n",
        "for i, similarity in enumerate(similarities):\n",
        "    print(f\"Similarity with Image {i+1}: {similarity:.4f}\")\n",
        "\n",
        "most_similar_idx = np.argmax(similarities)\n",
        "print(f\"\\nMost Similar Image: Image {most_similar_idx + 1}\")"
      ],
      "id": "e53a7e50054bc745",
      "outputs": [],
      "execution_count": null
    },
    {
      "metadata": {
        "id": "dc469040737b8fc5"
      },
      "cell_type": "markdown",
      "source": [
        "#"
      ],
      "id": "dc469040737b8fc5"
    },
    {
      "metadata": {
        "id": "354c6c5738d0a48c"
      },
      "cell_type": "markdown",
      "source": [
        "# 4. Vector Database"
      ],
      "id": "354c6c5738d0a48c"
    },
    {
      "metadata": {
        "id": "45340c161949d844"
      },
      "cell_type": "markdown",
      "source": [
        "## 4.1. ChromaDB"
      ],
      "id": "45340c161949d844"
    },
    {
      "metadata": {
        "ExecuteTime": {
          "end_time": "2024-12-12T21:26:48.276735Z",
          "start_time": "2024-12-12T21:26:47.996069Z"
        },
        "id": "5d2aa8e558b937b4"
      },
      "cell_type": "code",
      "source": [
        "from chromadb import Client"
      ],
      "id": "5d2aa8e558b937b4",
      "outputs": [],
      "execution_count": null
    },
    {
      "metadata": {
        "id": "d503fbc30b0dbaec"
      },
      "cell_type": "markdown",
      "source": [
        "### Create Index"
      ],
      "id": "d503fbc30b0dbaec"
    },
    {
      "metadata": {
        "id": "417c24a80e9a9f3c"
      },
      "cell_type": "markdown",
      "source": [
        "Prepare the sample documents and vector embeddings"
      ],
      "id": "417c24a80e9a9f3c"
    },
    {
      "metadata": {
        "ExecuteTime": {
          "end_time": "2024-12-12T21:26:48.289266Z",
          "start_time": "2024-12-12T21:26:48.287564Z"
        },
        "id": "9496095b6f72c18a"
      },
      "cell_type": "code",
      "source": [
        "documents = [\n",
        "    \"AI is the future of technology\",\n",
        "    \"The world is becoming more digital\",\n",
        "    \"Data science is the key to innovation\",\n",
        "    \"Remote work is the new normal\",\n",
        "    \"OpenAI provides powerful tools for developers\",\n",
        "    \"I like to code in Python\"\n",
        "]"
      ],
      "id": "9496095b6f72c18a",
      "outputs": [],
      "execution_count": null
    },
    {
      "metadata": {
        "id": "d53957e7f858b19d"
      },
      "cell_type": "markdown",
      "source": [
        "Set up the ChromaDB client and create a collection that stores embeddings"
      ],
      "id": "d53957e7f858b19d"
    },
    {
      "metadata": {
        "ExecuteTime": {
          "end_time": "2024-12-12T21:26:48.394707Z",
          "start_time": "2024-12-12T21:26:48.299206Z"
        },
        "id": "f4d3e490390820eb"
      },
      "cell_type": "code",
      "source": [
        "index_name = \"NAI\"\n",
        "\n",
        "chromadb_client = Client()\n",
        "\n",
        "# Check if the index exists and delete it\n",
        "if index_name in [i.name for i in chromadb_client.list_collections()]:\n",
        "    chromadb_client.delete_collection(index_name)\n",
        "\n",
        "index = chromadb_client.create_collection(\n",
        "    name=index_name,\n",
        "    metadata={\"hnsw:space\": \"cosine\"}  # Use cosine similarity for retrieval (default is Euclidean)\n",
        ")"
      ],
      "id": "f4d3e490390820eb",
      "outputs": [],
      "execution_count": null
    },
    {
      "metadata": {
        "id": "4a349895295ecaec"
      },
      "cell_type": "markdown",
      "source": [
        "### Insert Documents"
      ],
      "id": "4a349895295ecaec"
    },
    {
      "metadata": {
        "ExecuteTime": {
          "end_time": "2024-12-12T21:26:49.953018Z",
          "start_time": "2024-12-12T21:26:48.405769Z"
        },
        "id": "b0dbe965b63e5e18"
      },
      "cell_type": "code",
      "source": [
        "index.add(documents=documents, ids=[f\"{i}\" for i in range(len(documents))])"
      ],
      "id": "b0dbe965b63e5e18",
      "outputs": [],
      "execution_count": null
    },
    {
      "metadata": {
        "id": "bdc4a3077b9534"
      },
      "cell_type": "markdown",
      "source": [
        "### Retrieve Documents"
      ],
      "id": "bdc4a3077b9534"
    },
    {
      "metadata": {
        "id": "4f6f5bc7f5ad566f"
      },
      "cell_type": "markdown",
      "source": [
        "Prepare the query"
      ],
      "id": "4f6f5bc7f5ad566f"
    },
    {
      "metadata": {
        "ExecuteTime": {
          "end_time": "2024-12-12T21:26:49.987516Z",
          "start_time": "2024-12-12T21:26:49.985568Z"
        },
        "id": "73b4ee7d5b50003e"
      },
      "cell_type": "code",
      "source": [
        "query = \"What is the future of technology?\""
      ],
      "id": "73b4ee7d5b50003e",
      "outputs": [],
      "execution_count": null
    },
    {
      "metadata": {
        "ExecuteTime": {
          "end_time": "2024-12-12T21:26:50.162727Z",
          "start_time": "2024-12-12T21:26:50.009788Z"
        },
        "id": "569b6d2ff86150ce"
      },
      "cell_type": "code",
      "source": [
        "results = index.query(query_texts=[query], n_results=3)\n",
        "\n",
        "results_df = pd.DataFrame({\n",
        "    \"Document\": results[\"documents\"][0],\n",
        "    \"Distance\": results[\"distances\"][0]\n",
        "})\n",
        "\n",
        "print(\"Query Results:\")\n",
        "print(results_df)"
      ],
      "id": "569b6d2ff86150ce",
      "outputs": [],
      "execution_count": null
    },
    {
      "metadata": {
        "id": "cece3bc009d72d63"
      },
      "cell_type": "markdown",
      "source": [
        "#"
      ],
      "id": "cece3bc009d72d63"
    },
    {
      "metadata": {
        "id": "8c55560578547824"
      },
      "cell_type": "markdown",
      "source": [
        "# 5. Chunking"
      ],
      "id": "8c55560578547824"
    },
    {
      "metadata": {
        "id": "1d496b0b518436e9"
      },
      "cell_type": "markdown",
      "source": [
        "## 5.1. Fixed-Length Chunking"
      ],
      "id": "1d496b0b518436e9"
    },
    {
      "metadata": {
        "ExecuteTime": {
          "end_time": "2024-12-12T21:26:50.510240Z",
          "start_time": "2024-12-12T21:26:50.184849Z"
        },
        "id": "fe81f40c6bb592e"
      },
      "cell_type": "code",
      "source": [
        "from langchain_text_splitters import CharacterTextSplitter"
      ],
      "id": "fe81f40c6bb592e",
      "outputs": [],
      "execution_count": 63
    },
    {
      "metadata": {
        "id": "9134c408e927aedf"
      },
      "cell_type": "markdown",
      "source": [
        "### Split Text"
      ],
      "id": "9134c408e927aedf"
    },
    {
      "metadata": {
        "id": "50241b387ad1e2ab"
      },
      "cell_type": "markdown",
      "source": [
        "Prepare the sample text"
      ],
      "id": "50241b387ad1e2ab"
    },
    {
      "metadata": {
        "ExecuteTime": {
          "end_time": "2024-12-12T21:26:50.522231Z",
          "start_time": "2024-12-12T21:26:50.520780Z"
        },
        "id": "87636f00f7415b26"
      },
      "cell_type": "code",
      "source": [
        "document = \"This is a sample document for text chunking. The text will be split into smaller chunks of fixed length.\""
      ],
      "id": "87636f00f7415b26",
      "outputs": [],
      "execution_count": 64
    },
    {
      "metadata": {
        "id": "c3350daa6a8dcc53"
      },
      "cell_type": "markdown",
      "source": [
        "Split the text into fixed-length chunks"
      ],
      "id": "c3350daa6a8dcc53"
    },
    {
      "metadata": {
        "ExecuteTime": {
          "end_time": "2024-12-12T21:26:50.538679Z",
          "start_time": "2024-12-12T21:26:50.536491Z"
        },
        "colab": {
          "base_uri": "https://localhost:8080/"
        },
        "id": "e3ecb7f612dab25a",
        "outputId": "28be4928-6980-41e8-83c1-c3f12944e8a3"
      },
      "cell_type": "code",
      "source": [
        "text_splitter = CharacterTextSplitter(\n",
        "    # Set a really small chunk size, just to show\n",
        "    chunk_size=30,\n",
        "    chunk_overlap=10,\n",
        "    separator=' ',\n",
        ")\n",
        "\n",
        "chunks = text_splitter.split_text(document)\n",
        "\n",
        "print(\"Chunks:\")\n",
        "for i, chunk in enumerate(chunks):\n",
        "    print(f\"Chunk {i+1}: {chunk}\")"
      ],
      "id": "e3ecb7f612dab25a",
      "outputs": [
        {
          "output_type": "stream",
          "name": "stdout",
          "text": [
            "Chunks:\n",
            "Chunk 1: This is a sample document for\n",
            "Chunk 2: for text chunking. The text\n",
            "Chunk 3: The text will be split into\n",
            "Chunk 4: split into smaller chunks of\n",
            "Chunk 5: chunks of fixed length.\n"
          ]
        }
      ],
      "execution_count": 65
    },
    {
      "metadata": {
        "id": "27beb0d7d8b96de1"
      },
      "cell_type": "markdown",
      "source": [
        "## 5.2. Content-Based Chunking"
      ],
      "id": "27beb0d7d8b96de1"
    },
    {
      "metadata": {
        "id": "d957bf985b24e1a3"
      },
      "cell_type": "markdown",
      "source": [
        "### Split Text"
      ],
      "id": "d957bf985b24e1a3"
    },
    {
      "metadata": {
        "id": "8d899c02ee7fa26f"
      },
      "cell_type": "markdown",
      "source": [
        "Prepare the sample text"
      ],
      "id": "8d899c02ee7fa26f"
    },
    {
      "metadata": {
        "ExecuteTime": {
          "end_time": "2024-12-12T21:26:50.560903Z",
          "start_time": "2024-12-12T21:26:50.559331Z"
        },
        "id": "8e29230ac486ac7e"
      },
      "cell_type": "code",
      "source": [
        "text = \"\"\"\n",
        "This is a sample document for recursive text chunking. The text will be split into smaller chunks based on the logical structure of the content.\n",
        "\n",
        "The process involves recursively splitting the text into smaller chunks, ensuring that the content is divided based on sentences and paragraphs.\n",
        "\"\"\""
      ],
      "id": "8e29230ac486ac7e",
      "outputs": [],
      "execution_count": null
    },
    {
      "metadata": {
        "id": "7383b07006014aad"
      },
      "cell_type": "markdown",
      "source": [
        "Split the text into content-based chunks"
      ],
      "id": "7383b07006014aad"
    },
    {
      "metadata": {
        "ExecuteTime": {
          "end_time": "2024-12-12T21:26:50.575675Z",
          "start_time": "2024-12-12T21:26:50.573411Z"
        },
        "id": "1981ad16717a1e53"
      },
      "cell_type": "code",
      "source": [
        "text_splitter = CharacterTextSplitter(\n",
        "    chunk_size=100,\n",
        "    chunk_overlap=5,\n",
        "    separator='.'  # '\\n' for paragraphs\n",
        ")\n",
        "\n",
        "chunks = text_splitter.create_documents([text])\n",
        "\n",
        "print(\"Chunks:\")\n",
        "for i, chunk in enumerate(chunks):\n",
        "    print(f\"Chunk {i+1}: {chunk.page_content}\")"
      ],
      "id": "1981ad16717a1e53",
      "outputs": [],
      "execution_count": null
    },
    {
      "metadata": {
        "id": "851c9f920217d226"
      },
      "cell_type": "markdown",
      "source": [
        "## 5.3. Semantic Chunking"
      ],
      "id": "851c9f920217d226"
    },
    {
      "metadata": {
        "ExecuteTime": {
          "end_time": "2024-12-12T21:26:50.751564Z",
          "start_time": "2024-12-12T21:26:50.625665Z"
        },
        "id": "96903207d1bc496e"
      },
      "cell_type": "code",
      "source": [
        "from langchain_experimental.text_splitter import SemanticChunker\n",
        "from langchain_huggingface import HuggingFaceEmbeddings"
      ],
      "id": "96903207d1bc496e",
      "outputs": [],
      "execution_count": null
    },
    {
      "metadata": {
        "id": "97236f3e6df720f8"
      },
      "cell_type": "markdown",
      "source": [
        "### Split Text"
      ],
      "id": "97236f3e6df720f8"
    },
    {
      "metadata": {
        "id": "1e768cbb0b780f39"
      },
      "cell_type": "markdown",
      "source": [
        "Prepare the sample text"
      ],
      "id": "1e768cbb0b780f39"
    },
    {
      "metadata": {
        "ExecuteTime": {
          "end_time": "2024-12-12T21:26:50.763888Z",
          "start_time": "2024-12-12T21:26:50.762440Z"
        },
        "id": "a4241cbcaf1b30c5"
      },
      "cell_type": "code",
      "source": [
        "text = (\n",
        "    \"This is a sample document for semantic text chunking. \"\n",
        "    \"The text will be split into smaller chunks based on semantic similarity. \"\n",
        "    \"And this is another sentence. Cats are beautiful animals. \"\n",
        "    \"The quick brown fox jumps over the lazy dog.\"\n",
        ")"
      ],
      "id": "a4241cbcaf1b30c5",
      "outputs": [],
      "execution_count": null
    },
    {
      "metadata": {
        "id": "2ad04dc00269e278"
      },
      "cell_type": "markdown",
      "source": [
        "Split the text into semantically similar chunks"
      ],
      "id": "2ad04dc00269e278"
    },
    {
      "metadata": {
        "ExecuteTime": {
          "end_time": "2024-12-12T21:26:52.907050Z",
          "start_time": "2024-12-12T21:26:50.776173Z"
        },
        "id": "ca6d48f0ffcd25e3"
      },
      "cell_type": "code",
      "source": [
        "text_splitter = SemanticChunker(HuggingFaceEmbeddings(model_name=\"all-MiniLM-L6-v2\"))\n",
        "\n",
        "chunks = text_splitter.split_text(text)\n",
        "\n",
        "print(\"Chunks:\")\n",
        "for i, chunk in enumerate(chunks):\n",
        "    print(f\"Chunk {i+1}: {chunk}\")"
      ],
      "id": "ca6d48f0ffcd25e3",
      "outputs": [],
      "execution_count": null
    },
    {
      "metadata": {
        "id": "688699082c277334"
      },
      "cell_type": "markdown",
      "source": [
        "#"
      ],
      "id": "688699082c277334"
    },
    {
      "metadata": {
        "id": "68d5d63913691549"
      },
      "cell_type": "markdown",
      "source": [
        "# 6. End-to-End IR System"
      ],
      "id": "68d5d63913691549"
    },
    {
      "metadata": {
        "id": "c84e73d01c487c79"
      },
      "cell_type": "markdown",
      "source": [
        "## 6.1. Load Data"
      ],
      "id": "c84e73d01c487c79"
    },
    {
      "metadata": {
        "ExecuteTime": {
          "end_time": "2024-12-12T21:26:53.449239Z",
          "start_time": "2024-12-12T21:26:52.933827Z"
        },
        "id": "ec97449e2f9a1f1b"
      },
      "cell_type": "code",
      "source": [
        "import fitz\n",
        "from langchain_text_splitters import RecursiveCharacterTextSplitter"
      ],
      "id": "ec97449e2f9a1f1b",
      "outputs": [],
      "execution_count": null
    },
    {
      "metadata": {
        "id": "8de587bd055f3877"
      },
      "cell_type": "markdown",
      "source": [
        "### Extract Text and Images"
      ],
      "id": "8de587bd055f3877"
    },
    {
      "metadata": {
        "ExecuteTime": {
          "end_time": "2024-12-12T21:26:53.475606Z",
          "start_time": "2024-12-12T21:26:53.473540Z"
        },
        "id": "37bfc312d9177c71"
      },
      "cell_type": "code",
      "source": [
        "def extract_text(pdf_path: str) -> tuple[str, list[bytes]]:\n",
        "    \"\"\"Extracts text and images from a PDF file.\"\"\"\n",
        "    doc = fitz.open(pdf_path)\n",
        "\n",
        "    text = \"\"\n",
        "\n",
        "    for page in doc:\n",
        "        text += page.get_text()\n",
        "\n",
        "    return text"
      ],
      "id": "37bfc312d9177c71",
      "outputs": [],
      "execution_count": null
    },
    {
      "metadata": {
        "ExecuteTime": {
          "end_time": "2024-12-12T21:26:53.625724Z",
          "start_time": "2024-12-12T21:26:53.480101Z"
        },
        "id": "98de2e4920962778"
      },
      "cell_type": "code",
      "source": [
        "file_path = \"./cookbook.pdf\"\n",
        "\n",
        "text = extract_text(file_path)"
      ],
      "id": "98de2e4920962778",
      "outputs": [],
      "execution_count": null
    },
    {
      "metadata": {
        "id": "f19cbb1e84a94015"
      },
      "cell_type": "markdown",
      "source": [
        "### Chunk Text"
      ],
      "id": "f19cbb1e84a94015"
    },
    {
      "metadata": {
        "ExecuteTime": {
          "end_time": "2024-12-12T21:26:53.638800Z",
          "start_time": "2024-12-12T21:26:53.636759Z"
        },
        "id": "fc8dee3a85966017"
      },
      "cell_type": "code",
      "source": [
        "def chunk_text(text: str, chunk_size: int, chunk_overlap: int) -> list[str]:\n",
        "    \"\"\"Chunk the text into smaller segments based on the specified chunk size and overlap.\"\"\"\n",
        "    splitter = RecursiveCharacterTextSplitter(\n",
        "        chunk_size=chunk_size,\n",
        "        chunk_overlap=chunk_overlap\n",
        "    )\n",
        "\n",
        "    chunks = splitter.split_text(text)\n",
        "\n",
        "    return chunks\n"
      ],
      "id": "fc8dee3a85966017",
      "outputs": [],
      "execution_count": null
    },
    {
      "metadata": {
        "ExecuteTime": {
          "end_time": "2024-12-12T21:26:53.653680Z",
          "start_time": "2024-12-12T21:26:53.649387Z"
        },
        "id": "8e054e1b46b8600"
      },
      "cell_type": "code",
      "source": [
        "text_chunks = chunk_text(text, chunk_size=1000, chunk_overlap=100)"
      ],
      "id": "8e054e1b46b8600",
      "outputs": [],
      "execution_count": null
    },
    {
      "metadata": {
        "id": "c92c33ef470ff6cb"
      },
      "cell_type": "markdown",
      "source": [
        "## 6.2. Indexing"
      ],
      "id": "c92c33ef470ff6cb"
    },
    {
      "metadata": {
        "id": "32ce7c53588a69a3"
      },
      "cell_type": "markdown",
      "source": [
        "### Create Index"
      ],
      "id": "32ce7c53588a69a3"
    },
    {
      "metadata": {
        "ExecuteTime": {
          "end_time": "2024-12-12T21:26:53.666207Z",
          "start_time": "2024-12-12T21:26:53.664306Z"
        },
        "id": "53b07083878b2b69"
      },
      "cell_type": "code",
      "source": [
        "def create_index(index_name: str) -> Client:\n",
        "    \"\"\"Create a ChromaDB index and add the documents.\"\"\"\n",
        "    chromadb_client = Client()\n",
        "\n",
        "    # Check if the index exists and delete it\n",
        "    if index_name in [i.name for i in chromadb_client.list_collections()]:\n",
        "        chromadb_client.delete_collection(index_name)\n",
        "\n",
        "    index = chromadb_client.create_collection(\n",
        "        name=index_name,\n",
        "        metadata={\"hnsw:space\": \"cosine\"}\n",
        "    )\n",
        "\n",
        "    return index"
      ],
      "id": "53b07083878b2b69",
      "outputs": [],
      "execution_count": null
    },
    {
      "metadata": {
        "ExecuteTime": {
          "end_time": "2024-12-12T21:26:53.681180Z",
          "start_time": "2024-12-12T21:26:53.676821Z"
        },
        "id": "56c4fc7baf5af744"
      },
      "cell_type": "code",
      "source": [
        "index_name = \"Cookbook\"\n",
        "\n",
        "index = create_index(index_name=index_name)"
      ],
      "id": "56c4fc7baf5af744",
      "outputs": [],
      "execution_count": null
    },
    {
      "metadata": {
        "id": "cc59b131bb74c3dd"
      },
      "cell_type": "markdown",
      "source": [
        "### Get Embeddings"
      ],
      "id": "cc59b131bb74c3dd"
    },
    {
      "metadata": {
        "ExecuteTime": {
          "end_time": "2024-12-12T21:26:55.397590Z",
          "start_time": "2024-12-12T21:26:53.691444Z"
        },
        "id": "f11681738aa8ecc"
      },
      "cell_type": "code",
      "source": [
        "text_embeddings = get_gpt_embedding(text_chunks)"
      ],
      "id": "f11681738aa8ecc",
      "outputs": [],
      "execution_count": null
    },
    {
      "metadata": {
        "id": "228e8f6698455f92"
      },
      "cell_type": "markdown",
      "source": [
        "### Insert Embeddings"
      ],
      "id": "228e8f6698455f92"
    },
    {
      "metadata": {
        "ExecuteTime": {
          "end_time": "2024-12-12T21:26:55.514896Z",
          "start_time": "2024-12-12T21:26:55.412848Z"
        },
        "id": "d5e80c57e9515fe0"
      },
      "cell_type": "code",
      "source": [
        "index.add(\n",
        "    embeddings=text_embeddings,\n",
        "    documents=text_chunks,\n",
        "    ids=[f\"if_{i+1}\" for i in range(len(text_chunks))]\n",
        ")"
      ],
      "id": "d5e80c57e9515fe0",
      "outputs": [],
      "execution_count": null
    },
    {
      "metadata": {
        "id": "8378b4c3cbee971e"
      },
      "cell_type": "markdown",
      "source": [
        "## 6.3. Querying"
      ],
      "id": "8378b4c3cbee971e"
    },
    {
      "metadata": {
        "ExecuteTime": {
          "end_time": "2024-12-12T21:26:55.527314Z",
          "start_time": "2024-12-12T21:26:55.525736Z"
        },
        "id": "14f23ea3720b4fb6"
      },
      "cell_type": "code",
      "source": [
        "query = \"How can I make Margherita Pizza Quesadillas?\""
      ],
      "id": "14f23ea3720b4fb6",
      "outputs": [],
      "execution_count": null
    },
    {
      "metadata": {
        "ExecuteTime": {
          "end_time": "2024-12-12T21:26:56.007239Z",
          "start_time": "2024-12-12T21:26:55.538492Z"
        },
        "id": "b489df0b8d385020"
      },
      "cell_type": "code",
      "source": [
        "query_embedding = get_gpt_embedding([query])\n",
        "\n",
        "results = index.query(query_embeddings=query_embedding, n_results=10)"
      ],
      "id": "b489df0b8d385020",
      "outputs": [],
      "execution_count": null
    },
    {
      "metadata": {
        "ExecuteTime": {
          "end_time": "2024-12-12T21:26:56.031813Z",
          "start_time": "2024-12-12T21:26:56.029173Z"
        },
        "id": "5b3e13974592cc9a"
      },
      "cell_type": "code",
      "source": [
        "for doc in results[\"documents\"][0]:\n",
        "    print(doc)\n",
        "    print(\"-\"*50)"
      ],
      "id": "5b3e13974592cc9a",
      "outputs": [],
      "execution_count": null
    },
    {
      "metadata": {
        "ExecuteTime": {
          "end_time": "2024-12-12T21:26:56.141840Z",
          "start_time": "2024-12-12T21:26:56.140324Z"
        },
        "id": "411367e73630d8fe"
      },
      "cell_type": "code",
      "source": [],
      "id": "411367e73630d8fe",
      "outputs": [],
      "execution_count": null
    }
  ],
  "metadata": {
    "kernelspec": {
      "display_name": "Python 3",
      "language": "python",
      "name": "python3"
    },
    "language_info": {
      "codemirror_mode": {
        "name": "ipython",
        "version": 2
      },
      "file_extension": ".py",
      "mimetype": "text/x-python",
      "name": "python",
      "nbconvert_exporter": "python",
      "pygments_lexer": "ipython2",
      "version": "2.7.6"
    },
    "colab": {
      "provenance": []
    },
    "widgets": {
      "application/vnd.jupyter.widget-state+json": {
        "5ddd181f7d5845dc8aa00579e901f0d2": {
          "model_module": "@jupyter-widgets/controls",
          "model_name": "HBoxModel",
          "model_module_version": "1.5.0",
          "state": {
            "_dom_classes": [],
            "_model_module": "@jupyter-widgets/controls",
            "_model_module_version": "1.5.0",
            "_model_name": "HBoxModel",
            "_view_count": null,
            "_view_module": "@jupyter-widgets/controls",
            "_view_module_version": "1.5.0",
            "_view_name": "HBoxView",
            "box_style": "",
            "children": [
              "IPY_MODEL_8824523f8989421c8eb01bfd1a586cdd",
              "IPY_MODEL_825d89ecab9c44b591c6e54ea04eac6a",
              "IPY_MODEL_2d91d9c61f084261943660cf6bc155fe"
            ],
            "layout": "IPY_MODEL_d10c59ea2b164c5198d6e7e85602cd21"
          }
        },
        "8824523f8989421c8eb01bfd1a586cdd": {
          "model_module": "@jupyter-widgets/controls",
          "model_name": "HTMLModel",
          "model_module_version": "1.5.0",
          "state": {
            "_dom_classes": [],
            "_model_module": "@jupyter-widgets/controls",
            "_model_module_version": "1.5.0",
            "_model_name": "HTMLModel",
            "_view_count": null,
            "_view_module": "@jupyter-widgets/controls",
            "_view_module_version": "1.5.0",
            "_view_name": "HTMLView",
            "description": "",
            "description_tooltip": null,
            "layout": "IPY_MODEL_d6f86baf17d34023aa117cd3d31d7522",
            "placeholder": "​",
            "style": "IPY_MODEL_bbff357c38094dda989d9ad454b59577",
            "value": "modules.json: 100%"
          }
        },
        "825d89ecab9c44b591c6e54ea04eac6a": {
          "model_module": "@jupyter-widgets/controls",
          "model_name": "FloatProgressModel",
          "model_module_version": "1.5.0",
          "state": {
            "_dom_classes": [],
            "_model_module": "@jupyter-widgets/controls",
            "_model_module_version": "1.5.0",
            "_model_name": "FloatProgressModel",
            "_view_count": null,
            "_view_module": "@jupyter-widgets/controls",
            "_view_module_version": "1.5.0",
            "_view_name": "ProgressView",
            "bar_style": "success",
            "description": "",
            "description_tooltip": null,
            "layout": "IPY_MODEL_63b64ac69d8b46699d7c346df124fd2e",
            "max": 349,
            "min": 0,
            "orientation": "horizontal",
            "style": "IPY_MODEL_70a247f6e93e4b348e658f57cff9ccd1",
            "value": 349
          }
        },
        "2d91d9c61f084261943660cf6bc155fe": {
          "model_module": "@jupyter-widgets/controls",
          "model_name": "HTMLModel",
          "model_module_version": "1.5.0",
          "state": {
            "_dom_classes": [],
            "_model_module": "@jupyter-widgets/controls",
            "_model_module_version": "1.5.0",
            "_model_name": "HTMLModel",
            "_view_count": null,
            "_view_module": "@jupyter-widgets/controls",
            "_view_module_version": "1.5.0",
            "_view_name": "HTMLView",
            "description": "",
            "description_tooltip": null,
            "layout": "IPY_MODEL_7a1208060bd043059a6232f7c57e0fe5",
            "placeholder": "​",
            "style": "IPY_MODEL_05c0419006754ef6bccf8c20dd6039ec",
            "value": " 349/349 [00:00&lt;00:00, 22.6kB/s]"
          }
        },
        "d10c59ea2b164c5198d6e7e85602cd21": {
          "model_module": "@jupyter-widgets/base",
          "model_name": "LayoutModel",
          "model_module_version": "1.2.0",
          "state": {
            "_model_module": "@jupyter-widgets/base",
            "_model_module_version": "1.2.0",
            "_model_name": "LayoutModel",
            "_view_count": null,
            "_view_module": "@jupyter-widgets/base",
            "_view_module_version": "1.2.0",
            "_view_name": "LayoutView",
            "align_content": null,
            "align_items": null,
            "align_self": null,
            "border": null,
            "bottom": null,
            "display": null,
            "flex": null,
            "flex_flow": null,
            "grid_area": null,
            "grid_auto_columns": null,
            "grid_auto_flow": null,
            "grid_auto_rows": null,
            "grid_column": null,
            "grid_gap": null,
            "grid_row": null,
            "grid_template_areas": null,
            "grid_template_columns": null,
            "grid_template_rows": null,
            "height": null,
            "justify_content": null,
            "justify_items": null,
            "left": null,
            "margin": null,
            "max_height": null,
            "max_width": null,
            "min_height": null,
            "min_width": null,
            "object_fit": null,
            "object_position": null,
            "order": null,
            "overflow": null,
            "overflow_x": null,
            "overflow_y": null,
            "padding": null,
            "right": null,
            "top": null,
            "visibility": null,
            "width": null
          }
        },
        "d6f86baf17d34023aa117cd3d31d7522": {
          "model_module": "@jupyter-widgets/base",
          "model_name": "LayoutModel",
          "model_module_version": "1.2.0",
          "state": {
            "_model_module": "@jupyter-widgets/base",
            "_model_module_version": "1.2.0",
            "_model_name": "LayoutModel",
            "_view_count": null,
            "_view_module": "@jupyter-widgets/base",
            "_view_module_version": "1.2.0",
            "_view_name": "LayoutView",
            "align_content": null,
            "align_items": null,
            "align_self": null,
            "border": null,
            "bottom": null,
            "display": null,
            "flex": null,
            "flex_flow": null,
            "grid_area": null,
            "grid_auto_columns": null,
            "grid_auto_flow": null,
            "grid_auto_rows": null,
            "grid_column": null,
            "grid_gap": null,
            "grid_row": null,
            "grid_template_areas": null,
            "grid_template_columns": null,
            "grid_template_rows": null,
            "height": null,
            "justify_content": null,
            "justify_items": null,
            "left": null,
            "margin": null,
            "max_height": null,
            "max_width": null,
            "min_height": null,
            "min_width": null,
            "object_fit": null,
            "object_position": null,
            "order": null,
            "overflow": null,
            "overflow_x": null,
            "overflow_y": null,
            "padding": null,
            "right": null,
            "top": null,
            "visibility": null,
            "width": null
          }
        },
        "bbff357c38094dda989d9ad454b59577": {
          "model_module": "@jupyter-widgets/controls",
          "model_name": "DescriptionStyleModel",
          "model_module_version": "1.5.0",
          "state": {
            "_model_module": "@jupyter-widgets/controls",
            "_model_module_version": "1.5.0",
            "_model_name": "DescriptionStyleModel",
            "_view_count": null,
            "_view_module": "@jupyter-widgets/base",
            "_view_module_version": "1.2.0",
            "_view_name": "StyleView",
            "description_width": ""
          }
        },
        "63b64ac69d8b46699d7c346df124fd2e": {
          "model_module": "@jupyter-widgets/base",
          "model_name": "LayoutModel",
          "model_module_version": "1.2.0",
          "state": {
            "_model_module": "@jupyter-widgets/base",
            "_model_module_version": "1.2.0",
            "_model_name": "LayoutModel",
            "_view_count": null,
            "_view_module": "@jupyter-widgets/base",
            "_view_module_version": "1.2.0",
            "_view_name": "LayoutView",
            "align_content": null,
            "align_items": null,
            "align_self": null,
            "border": null,
            "bottom": null,
            "display": null,
            "flex": null,
            "flex_flow": null,
            "grid_area": null,
            "grid_auto_columns": null,
            "grid_auto_flow": null,
            "grid_auto_rows": null,
            "grid_column": null,
            "grid_gap": null,
            "grid_row": null,
            "grid_template_areas": null,
            "grid_template_columns": null,
            "grid_template_rows": null,
            "height": null,
            "justify_content": null,
            "justify_items": null,
            "left": null,
            "margin": null,
            "max_height": null,
            "max_width": null,
            "min_height": null,
            "min_width": null,
            "object_fit": null,
            "object_position": null,
            "order": null,
            "overflow": null,
            "overflow_x": null,
            "overflow_y": null,
            "padding": null,
            "right": null,
            "top": null,
            "visibility": null,
            "width": null
          }
        },
        "70a247f6e93e4b348e658f57cff9ccd1": {
          "model_module": "@jupyter-widgets/controls",
          "model_name": "ProgressStyleModel",
          "model_module_version": "1.5.0",
          "state": {
            "_model_module": "@jupyter-widgets/controls",
            "_model_module_version": "1.5.0",
            "_model_name": "ProgressStyleModel",
            "_view_count": null,
            "_view_module": "@jupyter-widgets/base",
            "_view_module_version": "1.2.0",
            "_view_name": "StyleView",
            "bar_color": null,
            "description_width": ""
          }
        },
        "7a1208060bd043059a6232f7c57e0fe5": {
          "model_module": "@jupyter-widgets/base",
          "model_name": "LayoutModel",
          "model_module_version": "1.2.0",
          "state": {
            "_model_module": "@jupyter-widgets/base",
            "_model_module_version": "1.2.0",
            "_model_name": "LayoutModel",
            "_view_count": null,
            "_view_module": "@jupyter-widgets/base",
            "_view_module_version": "1.2.0",
            "_view_name": "LayoutView",
            "align_content": null,
            "align_items": null,
            "align_self": null,
            "border": null,
            "bottom": null,
            "display": null,
            "flex": null,
            "flex_flow": null,
            "grid_area": null,
            "grid_auto_columns": null,
            "grid_auto_flow": null,
            "grid_auto_rows": null,
            "grid_column": null,
            "grid_gap": null,
            "grid_row": null,
            "grid_template_areas": null,
            "grid_template_columns": null,
            "grid_template_rows": null,
            "height": null,
            "justify_content": null,
            "justify_items": null,
            "left": null,
            "margin": null,
            "max_height": null,
            "max_width": null,
            "min_height": null,
            "min_width": null,
            "object_fit": null,
            "object_position": null,
            "order": null,
            "overflow": null,
            "overflow_x": null,
            "overflow_y": null,
            "padding": null,
            "right": null,
            "top": null,
            "visibility": null,
            "width": null
          }
        },
        "05c0419006754ef6bccf8c20dd6039ec": {
          "model_module": "@jupyter-widgets/controls",
          "model_name": "DescriptionStyleModel",
          "model_module_version": "1.5.0",
          "state": {
            "_model_module": "@jupyter-widgets/controls",
            "_model_module_version": "1.5.0",
            "_model_name": "DescriptionStyleModel",
            "_view_count": null,
            "_view_module": "@jupyter-widgets/base",
            "_view_module_version": "1.2.0",
            "_view_name": "StyleView",
            "description_width": ""
          }
        },
        "1132321a188e437cbbfee5a013ad8225": {
          "model_module": "@jupyter-widgets/controls",
          "model_name": "HBoxModel",
          "model_module_version": "1.5.0",
          "state": {
            "_dom_classes": [],
            "_model_module": "@jupyter-widgets/controls",
            "_model_module_version": "1.5.0",
            "_model_name": "HBoxModel",
            "_view_count": null,
            "_view_module": "@jupyter-widgets/controls",
            "_view_module_version": "1.5.0",
            "_view_name": "HBoxView",
            "box_style": "",
            "children": [
              "IPY_MODEL_7d0fe28b945d4bc7bd773ed8ec56c2be",
              "IPY_MODEL_336c0e34f24d4aee8bdd1fd524c2eb31",
              "IPY_MODEL_4b4ca72729e6485b8f8247c4314e981e"
            ],
            "layout": "IPY_MODEL_a0994f65727a45399fc234658c94f390"
          }
        },
        "7d0fe28b945d4bc7bd773ed8ec56c2be": {
          "model_module": "@jupyter-widgets/controls",
          "model_name": "HTMLModel",
          "model_module_version": "1.5.0",
          "state": {
            "_dom_classes": [],
            "_model_module": "@jupyter-widgets/controls",
            "_model_module_version": "1.5.0",
            "_model_name": "HTMLModel",
            "_view_count": null,
            "_view_module": "@jupyter-widgets/controls",
            "_view_module_version": "1.5.0",
            "_view_name": "HTMLView",
            "description": "",
            "description_tooltip": null,
            "layout": "IPY_MODEL_6494e8d563f04017a6604c857a66258d",
            "placeholder": "​",
            "style": "IPY_MODEL_10e93c56a0f241c7be23ddac084c5565",
            "value": "config_sentence_transformers.json: 100%"
          }
        },
        "336c0e34f24d4aee8bdd1fd524c2eb31": {
          "model_module": "@jupyter-widgets/controls",
          "model_name": "FloatProgressModel",
          "model_module_version": "1.5.0",
          "state": {
            "_dom_classes": [],
            "_model_module": "@jupyter-widgets/controls",
            "_model_module_version": "1.5.0",
            "_model_name": "FloatProgressModel",
            "_view_count": null,
            "_view_module": "@jupyter-widgets/controls",
            "_view_module_version": "1.5.0",
            "_view_name": "ProgressView",
            "bar_style": "success",
            "description": "",
            "description_tooltip": null,
            "layout": "IPY_MODEL_627af07cc0b3472886416bab264da7e2",
            "max": 116,
            "min": 0,
            "orientation": "horizontal",
            "style": "IPY_MODEL_0cce44673ea04eea990f76b301a08e85",
            "value": 116
          }
        },
        "4b4ca72729e6485b8f8247c4314e981e": {
          "model_module": "@jupyter-widgets/controls",
          "model_name": "HTMLModel",
          "model_module_version": "1.5.0",
          "state": {
            "_dom_classes": [],
            "_model_module": "@jupyter-widgets/controls",
            "_model_module_version": "1.5.0",
            "_model_name": "HTMLModel",
            "_view_count": null,
            "_view_module": "@jupyter-widgets/controls",
            "_view_module_version": "1.5.0",
            "_view_name": "HTMLView",
            "description": "",
            "description_tooltip": null,
            "layout": "IPY_MODEL_e39df7178c594a12bc292ef383e328c2",
            "placeholder": "​",
            "style": "IPY_MODEL_ca98313b54ce4996a6bc03212095bdf4",
            "value": " 116/116 [00:00&lt;00:00, 7.00kB/s]"
          }
        },
        "a0994f65727a45399fc234658c94f390": {
          "model_module": "@jupyter-widgets/base",
          "model_name": "LayoutModel",
          "model_module_version": "1.2.0",
          "state": {
            "_model_module": "@jupyter-widgets/base",
            "_model_module_version": "1.2.0",
            "_model_name": "LayoutModel",
            "_view_count": null,
            "_view_module": "@jupyter-widgets/base",
            "_view_module_version": "1.2.0",
            "_view_name": "LayoutView",
            "align_content": null,
            "align_items": null,
            "align_self": null,
            "border": null,
            "bottom": null,
            "display": null,
            "flex": null,
            "flex_flow": null,
            "grid_area": null,
            "grid_auto_columns": null,
            "grid_auto_flow": null,
            "grid_auto_rows": null,
            "grid_column": null,
            "grid_gap": null,
            "grid_row": null,
            "grid_template_areas": null,
            "grid_template_columns": null,
            "grid_template_rows": null,
            "height": null,
            "justify_content": null,
            "justify_items": null,
            "left": null,
            "margin": null,
            "max_height": null,
            "max_width": null,
            "min_height": null,
            "min_width": null,
            "object_fit": null,
            "object_position": null,
            "order": null,
            "overflow": null,
            "overflow_x": null,
            "overflow_y": null,
            "padding": null,
            "right": null,
            "top": null,
            "visibility": null,
            "width": null
          }
        },
        "6494e8d563f04017a6604c857a66258d": {
          "model_module": "@jupyter-widgets/base",
          "model_name": "LayoutModel",
          "model_module_version": "1.2.0",
          "state": {
            "_model_module": "@jupyter-widgets/base",
            "_model_module_version": "1.2.0",
            "_model_name": "LayoutModel",
            "_view_count": null,
            "_view_module": "@jupyter-widgets/base",
            "_view_module_version": "1.2.0",
            "_view_name": "LayoutView",
            "align_content": null,
            "align_items": null,
            "align_self": null,
            "border": null,
            "bottom": null,
            "display": null,
            "flex": null,
            "flex_flow": null,
            "grid_area": null,
            "grid_auto_columns": null,
            "grid_auto_flow": null,
            "grid_auto_rows": null,
            "grid_column": null,
            "grid_gap": null,
            "grid_row": null,
            "grid_template_areas": null,
            "grid_template_columns": null,
            "grid_template_rows": null,
            "height": null,
            "justify_content": null,
            "justify_items": null,
            "left": null,
            "margin": null,
            "max_height": null,
            "max_width": null,
            "min_height": null,
            "min_width": null,
            "object_fit": null,
            "object_position": null,
            "order": null,
            "overflow": null,
            "overflow_x": null,
            "overflow_y": null,
            "padding": null,
            "right": null,
            "top": null,
            "visibility": null,
            "width": null
          }
        },
        "10e93c56a0f241c7be23ddac084c5565": {
          "model_module": "@jupyter-widgets/controls",
          "model_name": "DescriptionStyleModel",
          "model_module_version": "1.5.0",
          "state": {
            "_model_module": "@jupyter-widgets/controls",
            "_model_module_version": "1.5.0",
            "_model_name": "DescriptionStyleModel",
            "_view_count": null,
            "_view_module": "@jupyter-widgets/base",
            "_view_module_version": "1.2.0",
            "_view_name": "StyleView",
            "description_width": ""
          }
        },
        "627af07cc0b3472886416bab264da7e2": {
          "model_module": "@jupyter-widgets/base",
          "model_name": "LayoutModel",
          "model_module_version": "1.2.0",
          "state": {
            "_model_module": "@jupyter-widgets/base",
            "_model_module_version": "1.2.0",
            "_model_name": "LayoutModel",
            "_view_count": null,
            "_view_module": "@jupyter-widgets/base",
            "_view_module_version": "1.2.0",
            "_view_name": "LayoutView",
            "align_content": null,
            "align_items": null,
            "align_self": null,
            "border": null,
            "bottom": null,
            "display": null,
            "flex": null,
            "flex_flow": null,
            "grid_area": null,
            "grid_auto_columns": null,
            "grid_auto_flow": null,
            "grid_auto_rows": null,
            "grid_column": null,
            "grid_gap": null,
            "grid_row": null,
            "grid_template_areas": null,
            "grid_template_columns": null,
            "grid_template_rows": null,
            "height": null,
            "justify_content": null,
            "justify_items": null,
            "left": null,
            "margin": null,
            "max_height": null,
            "max_width": null,
            "min_height": null,
            "min_width": null,
            "object_fit": null,
            "object_position": null,
            "order": null,
            "overflow": null,
            "overflow_x": null,
            "overflow_y": null,
            "padding": null,
            "right": null,
            "top": null,
            "visibility": null,
            "width": null
          }
        },
        "0cce44673ea04eea990f76b301a08e85": {
          "model_module": "@jupyter-widgets/controls",
          "model_name": "ProgressStyleModel",
          "model_module_version": "1.5.0",
          "state": {
            "_model_module": "@jupyter-widgets/controls",
            "_model_module_version": "1.5.0",
            "_model_name": "ProgressStyleModel",
            "_view_count": null,
            "_view_module": "@jupyter-widgets/base",
            "_view_module_version": "1.2.0",
            "_view_name": "StyleView",
            "bar_color": null,
            "description_width": ""
          }
        },
        "e39df7178c594a12bc292ef383e328c2": {
          "model_module": "@jupyter-widgets/base",
          "model_name": "LayoutModel",
          "model_module_version": "1.2.0",
          "state": {
            "_model_module": "@jupyter-widgets/base",
            "_model_module_version": "1.2.0",
            "_model_name": "LayoutModel",
            "_view_count": null,
            "_view_module": "@jupyter-widgets/base",
            "_view_module_version": "1.2.0",
            "_view_name": "LayoutView",
            "align_content": null,
            "align_items": null,
            "align_self": null,
            "border": null,
            "bottom": null,
            "display": null,
            "flex": null,
            "flex_flow": null,
            "grid_area": null,
            "grid_auto_columns": null,
            "grid_auto_flow": null,
            "grid_auto_rows": null,
            "grid_column": null,
            "grid_gap": null,
            "grid_row": null,
            "grid_template_areas": null,
            "grid_template_columns": null,
            "grid_template_rows": null,
            "height": null,
            "justify_content": null,
            "justify_items": null,
            "left": null,
            "margin": null,
            "max_height": null,
            "max_width": null,
            "min_height": null,
            "min_width": null,
            "object_fit": null,
            "object_position": null,
            "order": null,
            "overflow": null,
            "overflow_x": null,
            "overflow_y": null,
            "padding": null,
            "right": null,
            "top": null,
            "visibility": null,
            "width": null
          }
        },
        "ca98313b54ce4996a6bc03212095bdf4": {
          "model_module": "@jupyter-widgets/controls",
          "model_name": "DescriptionStyleModel",
          "model_module_version": "1.5.0",
          "state": {
            "_model_module": "@jupyter-widgets/controls",
            "_model_module_version": "1.5.0",
            "_model_name": "DescriptionStyleModel",
            "_view_count": null,
            "_view_module": "@jupyter-widgets/base",
            "_view_module_version": "1.2.0",
            "_view_name": "StyleView",
            "description_width": ""
          }
        },
        "3be1db9228b84c98b886e5013faae1d9": {
          "model_module": "@jupyter-widgets/controls",
          "model_name": "HBoxModel",
          "model_module_version": "1.5.0",
          "state": {
            "_dom_classes": [],
            "_model_module": "@jupyter-widgets/controls",
            "_model_module_version": "1.5.0",
            "_model_name": "HBoxModel",
            "_view_count": null,
            "_view_module": "@jupyter-widgets/controls",
            "_view_module_version": "1.5.0",
            "_view_name": "HBoxView",
            "box_style": "",
            "children": [
              "IPY_MODEL_8dcf0d6237064a94a9550848c6ffd4e8",
              "IPY_MODEL_8cba094a701f4721b614d897b4c574ca",
              "IPY_MODEL_a00a2f093313467fb1eacdc1f1fe2ef8"
            ],
            "layout": "IPY_MODEL_8bc48544ea5a4f9390fc1a064bfa879d"
          }
        },
        "8dcf0d6237064a94a9550848c6ffd4e8": {
          "model_module": "@jupyter-widgets/controls",
          "model_name": "HTMLModel",
          "model_module_version": "1.5.0",
          "state": {
            "_dom_classes": [],
            "_model_module": "@jupyter-widgets/controls",
            "_model_module_version": "1.5.0",
            "_model_name": "HTMLModel",
            "_view_count": null,
            "_view_module": "@jupyter-widgets/controls",
            "_view_module_version": "1.5.0",
            "_view_name": "HTMLView",
            "description": "",
            "description_tooltip": null,
            "layout": "IPY_MODEL_07fcad7c22794bebb76d2dfb50ea1ce2",
            "placeholder": "​",
            "style": "IPY_MODEL_f0131816b5034646983915977abe8039",
            "value": "README.md: 100%"
          }
        },
        "8cba094a701f4721b614d897b4c574ca": {
          "model_module": "@jupyter-widgets/controls",
          "model_name": "FloatProgressModel",
          "model_module_version": "1.5.0",
          "state": {
            "_dom_classes": [],
            "_model_module": "@jupyter-widgets/controls",
            "_model_module_version": "1.5.0",
            "_model_name": "FloatProgressModel",
            "_view_count": null,
            "_view_module": "@jupyter-widgets/controls",
            "_view_module_version": "1.5.0",
            "_view_name": "ProgressView",
            "bar_style": "success",
            "description": "",
            "description_tooltip": null,
            "layout": "IPY_MODEL_0024873b151d49a4ad1399f876f59875",
            "max": 10659,
            "min": 0,
            "orientation": "horizontal",
            "style": "IPY_MODEL_6942bb2af5b0431aa1de9edae04aa6af",
            "value": 10659
          }
        },
        "a00a2f093313467fb1eacdc1f1fe2ef8": {
          "model_module": "@jupyter-widgets/controls",
          "model_name": "HTMLModel",
          "model_module_version": "1.5.0",
          "state": {
            "_dom_classes": [],
            "_model_module": "@jupyter-widgets/controls",
            "_model_module_version": "1.5.0",
            "_model_name": "HTMLModel",
            "_view_count": null,
            "_view_module": "@jupyter-widgets/controls",
            "_view_module_version": "1.5.0",
            "_view_name": "HTMLView",
            "description": "",
            "description_tooltip": null,
            "layout": "IPY_MODEL_4c48dad7faec42a69eec638751decd57",
            "placeholder": "​",
            "style": "IPY_MODEL_311cae5b326b4903af76cc49482b1c49",
            "value": " 10.7k/10.7k [00:00&lt;00:00, 652kB/s]"
          }
        },
        "8bc48544ea5a4f9390fc1a064bfa879d": {
          "model_module": "@jupyter-widgets/base",
          "model_name": "LayoutModel",
          "model_module_version": "1.2.0",
          "state": {
            "_model_module": "@jupyter-widgets/base",
            "_model_module_version": "1.2.0",
            "_model_name": "LayoutModel",
            "_view_count": null,
            "_view_module": "@jupyter-widgets/base",
            "_view_module_version": "1.2.0",
            "_view_name": "LayoutView",
            "align_content": null,
            "align_items": null,
            "align_self": null,
            "border": null,
            "bottom": null,
            "display": null,
            "flex": null,
            "flex_flow": null,
            "grid_area": null,
            "grid_auto_columns": null,
            "grid_auto_flow": null,
            "grid_auto_rows": null,
            "grid_column": null,
            "grid_gap": null,
            "grid_row": null,
            "grid_template_areas": null,
            "grid_template_columns": null,
            "grid_template_rows": null,
            "height": null,
            "justify_content": null,
            "justify_items": null,
            "left": null,
            "margin": null,
            "max_height": null,
            "max_width": null,
            "min_height": null,
            "min_width": null,
            "object_fit": null,
            "object_position": null,
            "order": null,
            "overflow": null,
            "overflow_x": null,
            "overflow_y": null,
            "padding": null,
            "right": null,
            "top": null,
            "visibility": null,
            "width": null
          }
        },
        "07fcad7c22794bebb76d2dfb50ea1ce2": {
          "model_module": "@jupyter-widgets/base",
          "model_name": "LayoutModel",
          "model_module_version": "1.2.0",
          "state": {
            "_model_module": "@jupyter-widgets/base",
            "_model_module_version": "1.2.0",
            "_model_name": "LayoutModel",
            "_view_count": null,
            "_view_module": "@jupyter-widgets/base",
            "_view_module_version": "1.2.0",
            "_view_name": "LayoutView",
            "align_content": null,
            "align_items": null,
            "align_self": null,
            "border": null,
            "bottom": null,
            "display": null,
            "flex": null,
            "flex_flow": null,
            "grid_area": null,
            "grid_auto_columns": null,
            "grid_auto_flow": null,
            "grid_auto_rows": null,
            "grid_column": null,
            "grid_gap": null,
            "grid_row": null,
            "grid_template_areas": null,
            "grid_template_columns": null,
            "grid_template_rows": null,
            "height": null,
            "justify_content": null,
            "justify_items": null,
            "left": null,
            "margin": null,
            "max_height": null,
            "max_width": null,
            "min_height": null,
            "min_width": null,
            "object_fit": null,
            "object_position": null,
            "order": null,
            "overflow": null,
            "overflow_x": null,
            "overflow_y": null,
            "padding": null,
            "right": null,
            "top": null,
            "visibility": null,
            "width": null
          }
        },
        "f0131816b5034646983915977abe8039": {
          "model_module": "@jupyter-widgets/controls",
          "model_name": "DescriptionStyleModel",
          "model_module_version": "1.5.0",
          "state": {
            "_model_module": "@jupyter-widgets/controls",
            "_model_module_version": "1.5.0",
            "_model_name": "DescriptionStyleModel",
            "_view_count": null,
            "_view_module": "@jupyter-widgets/base",
            "_view_module_version": "1.2.0",
            "_view_name": "StyleView",
            "description_width": ""
          }
        },
        "0024873b151d49a4ad1399f876f59875": {
          "model_module": "@jupyter-widgets/base",
          "model_name": "LayoutModel",
          "model_module_version": "1.2.0",
          "state": {
            "_model_module": "@jupyter-widgets/base",
            "_model_module_version": "1.2.0",
            "_model_name": "LayoutModel",
            "_view_count": null,
            "_view_module": "@jupyter-widgets/base",
            "_view_module_version": "1.2.0",
            "_view_name": "LayoutView",
            "align_content": null,
            "align_items": null,
            "align_self": null,
            "border": null,
            "bottom": null,
            "display": null,
            "flex": null,
            "flex_flow": null,
            "grid_area": null,
            "grid_auto_columns": null,
            "grid_auto_flow": null,
            "grid_auto_rows": null,
            "grid_column": null,
            "grid_gap": null,
            "grid_row": null,
            "grid_template_areas": null,
            "grid_template_columns": null,
            "grid_template_rows": null,
            "height": null,
            "justify_content": null,
            "justify_items": null,
            "left": null,
            "margin": null,
            "max_height": null,
            "max_width": null,
            "min_height": null,
            "min_width": null,
            "object_fit": null,
            "object_position": null,
            "order": null,
            "overflow": null,
            "overflow_x": null,
            "overflow_y": null,
            "padding": null,
            "right": null,
            "top": null,
            "visibility": null,
            "width": null
          }
        },
        "6942bb2af5b0431aa1de9edae04aa6af": {
          "model_module": "@jupyter-widgets/controls",
          "model_name": "ProgressStyleModel",
          "model_module_version": "1.5.0",
          "state": {
            "_model_module": "@jupyter-widgets/controls",
            "_model_module_version": "1.5.0",
            "_model_name": "ProgressStyleModel",
            "_view_count": null,
            "_view_module": "@jupyter-widgets/base",
            "_view_module_version": "1.2.0",
            "_view_name": "StyleView",
            "bar_color": null,
            "description_width": ""
          }
        },
        "4c48dad7faec42a69eec638751decd57": {
          "model_module": "@jupyter-widgets/base",
          "model_name": "LayoutModel",
          "model_module_version": "1.2.0",
          "state": {
            "_model_module": "@jupyter-widgets/base",
            "_model_module_version": "1.2.0",
            "_model_name": "LayoutModel",
            "_view_count": null,
            "_view_module": "@jupyter-widgets/base",
            "_view_module_version": "1.2.0",
            "_view_name": "LayoutView",
            "align_content": null,
            "align_items": null,
            "align_self": null,
            "border": null,
            "bottom": null,
            "display": null,
            "flex": null,
            "flex_flow": null,
            "grid_area": null,
            "grid_auto_columns": null,
            "grid_auto_flow": null,
            "grid_auto_rows": null,
            "grid_column": null,
            "grid_gap": null,
            "grid_row": null,
            "grid_template_areas": null,
            "grid_template_columns": null,
            "grid_template_rows": null,
            "height": null,
            "justify_content": null,
            "justify_items": null,
            "left": null,
            "margin": null,
            "max_height": null,
            "max_width": null,
            "min_height": null,
            "min_width": null,
            "object_fit": null,
            "object_position": null,
            "order": null,
            "overflow": null,
            "overflow_x": null,
            "overflow_y": null,
            "padding": null,
            "right": null,
            "top": null,
            "visibility": null,
            "width": null
          }
        },
        "311cae5b326b4903af76cc49482b1c49": {
          "model_module": "@jupyter-widgets/controls",
          "model_name": "DescriptionStyleModel",
          "model_module_version": "1.5.0",
          "state": {
            "_model_module": "@jupyter-widgets/controls",
            "_model_module_version": "1.5.0",
            "_model_name": "DescriptionStyleModel",
            "_view_count": null,
            "_view_module": "@jupyter-widgets/base",
            "_view_module_version": "1.2.0",
            "_view_name": "StyleView",
            "description_width": ""
          }
        },
        "23d7071e79c64418b0e7d924db78003c": {
          "model_module": "@jupyter-widgets/controls",
          "model_name": "HBoxModel",
          "model_module_version": "1.5.0",
          "state": {
            "_dom_classes": [],
            "_model_module": "@jupyter-widgets/controls",
            "_model_module_version": "1.5.0",
            "_model_name": "HBoxModel",
            "_view_count": null,
            "_view_module": "@jupyter-widgets/controls",
            "_view_module_version": "1.5.0",
            "_view_name": "HBoxView",
            "box_style": "",
            "children": [
              "IPY_MODEL_de51bd0225e74dfbab06881af0962e92",
              "IPY_MODEL_ab0dc92c7c2c4e15b4b572b168982b4c",
              "IPY_MODEL_a02dfab1013a4a8e975b52244c602947"
            ],
            "layout": "IPY_MODEL_da69f1e1fafb43a4bbd48a57cdad042c"
          }
        },
        "de51bd0225e74dfbab06881af0962e92": {
          "model_module": "@jupyter-widgets/controls",
          "model_name": "HTMLModel",
          "model_module_version": "1.5.0",
          "state": {
            "_dom_classes": [],
            "_model_module": "@jupyter-widgets/controls",
            "_model_module_version": "1.5.0",
            "_model_name": "HTMLModel",
            "_view_count": null,
            "_view_module": "@jupyter-widgets/controls",
            "_view_module_version": "1.5.0",
            "_view_name": "HTMLView",
            "description": "",
            "description_tooltip": null,
            "layout": "IPY_MODEL_52934b3ac1a6446b8e1f3e8b3c749630",
            "placeholder": "​",
            "style": "IPY_MODEL_5aac72c4bfba458992eb1c87ca9bf88e",
            "value": "sentence_bert_config.json: 100%"
          }
        },
        "ab0dc92c7c2c4e15b4b572b168982b4c": {
          "model_module": "@jupyter-widgets/controls",
          "model_name": "FloatProgressModel",
          "model_module_version": "1.5.0",
          "state": {
            "_dom_classes": [],
            "_model_module": "@jupyter-widgets/controls",
            "_model_module_version": "1.5.0",
            "_model_name": "FloatProgressModel",
            "_view_count": null,
            "_view_module": "@jupyter-widgets/controls",
            "_view_module_version": "1.5.0",
            "_view_name": "ProgressView",
            "bar_style": "success",
            "description": "",
            "description_tooltip": null,
            "layout": "IPY_MODEL_d0b872710d6a4d4f94625f3e89316728",
            "max": 53,
            "min": 0,
            "orientation": "horizontal",
            "style": "IPY_MODEL_af6a3a0867f74f5391bf9c2e4a663379",
            "value": 53
          }
        },
        "a02dfab1013a4a8e975b52244c602947": {
          "model_module": "@jupyter-widgets/controls",
          "model_name": "HTMLModel",
          "model_module_version": "1.5.0",
          "state": {
            "_dom_classes": [],
            "_model_module": "@jupyter-widgets/controls",
            "_model_module_version": "1.5.0",
            "_model_name": "HTMLModel",
            "_view_count": null,
            "_view_module": "@jupyter-widgets/controls",
            "_view_module_version": "1.5.0",
            "_view_name": "HTMLView",
            "description": "",
            "description_tooltip": null,
            "layout": "IPY_MODEL_5511319627d94c7da10dd3fc7f886525",
            "placeholder": "​",
            "style": "IPY_MODEL_7b16d0bfdaa8497f99a795991cc274b4",
            "value": " 53.0/53.0 [00:00&lt;00:00, 2.86kB/s]"
          }
        },
        "da69f1e1fafb43a4bbd48a57cdad042c": {
          "model_module": "@jupyter-widgets/base",
          "model_name": "LayoutModel",
          "model_module_version": "1.2.0",
          "state": {
            "_model_module": "@jupyter-widgets/base",
            "_model_module_version": "1.2.0",
            "_model_name": "LayoutModel",
            "_view_count": null,
            "_view_module": "@jupyter-widgets/base",
            "_view_module_version": "1.2.0",
            "_view_name": "LayoutView",
            "align_content": null,
            "align_items": null,
            "align_self": null,
            "border": null,
            "bottom": null,
            "display": null,
            "flex": null,
            "flex_flow": null,
            "grid_area": null,
            "grid_auto_columns": null,
            "grid_auto_flow": null,
            "grid_auto_rows": null,
            "grid_column": null,
            "grid_gap": null,
            "grid_row": null,
            "grid_template_areas": null,
            "grid_template_columns": null,
            "grid_template_rows": null,
            "height": null,
            "justify_content": null,
            "justify_items": null,
            "left": null,
            "margin": null,
            "max_height": null,
            "max_width": null,
            "min_height": null,
            "min_width": null,
            "object_fit": null,
            "object_position": null,
            "order": null,
            "overflow": null,
            "overflow_x": null,
            "overflow_y": null,
            "padding": null,
            "right": null,
            "top": null,
            "visibility": null,
            "width": null
          }
        },
        "52934b3ac1a6446b8e1f3e8b3c749630": {
          "model_module": "@jupyter-widgets/base",
          "model_name": "LayoutModel",
          "model_module_version": "1.2.0",
          "state": {
            "_model_module": "@jupyter-widgets/base",
            "_model_module_version": "1.2.0",
            "_model_name": "LayoutModel",
            "_view_count": null,
            "_view_module": "@jupyter-widgets/base",
            "_view_module_version": "1.2.0",
            "_view_name": "LayoutView",
            "align_content": null,
            "align_items": null,
            "align_self": null,
            "border": null,
            "bottom": null,
            "display": null,
            "flex": null,
            "flex_flow": null,
            "grid_area": null,
            "grid_auto_columns": null,
            "grid_auto_flow": null,
            "grid_auto_rows": null,
            "grid_column": null,
            "grid_gap": null,
            "grid_row": null,
            "grid_template_areas": null,
            "grid_template_columns": null,
            "grid_template_rows": null,
            "height": null,
            "justify_content": null,
            "justify_items": null,
            "left": null,
            "margin": null,
            "max_height": null,
            "max_width": null,
            "min_height": null,
            "min_width": null,
            "object_fit": null,
            "object_position": null,
            "order": null,
            "overflow": null,
            "overflow_x": null,
            "overflow_y": null,
            "padding": null,
            "right": null,
            "top": null,
            "visibility": null,
            "width": null
          }
        },
        "5aac72c4bfba458992eb1c87ca9bf88e": {
          "model_module": "@jupyter-widgets/controls",
          "model_name": "DescriptionStyleModel",
          "model_module_version": "1.5.0",
          "state": {
            "_model_module": "@jupyter-widgets/controls",
            "_model_module_version": "1.5.0",
            "_model_name": "DescriptionStyleModel",
            "_view_count": null,
            "_view_module": "@jupyter-widgets/base",
            "_view_module_version": "1.2.0",
            "_view_name": "StyleView",
            "description_width": ""
          }
        },
        "d0b872710d6a4d4f94625f3e89316728": {
          "model_module": "@jupyter-widgets/base",
          "model_name": "LayoutModel",
          "model_module_version": "1.2.0",
          "state": {
            "_model_module": "@jupyter-widgets/base",
            "_model_module_version": "1.2.0",
            "_model_name": "LayoutModel",
            "_view_count": null,
            "_view_module": "@jupyter-widgets/base",
            "_view_module_version": "1.2.0",
            "_view_name": "LayoutView",
            "align_content": null,
            "align_items": null,
            "align_self": null,
            "border": null,
            "bottom": null,
            "display": null,
            "flex": null,
            "flex_flow": null,
            "grid_area": null,
            "grid_auto_columns": null,
            "grid_auto_flow": null,
            "grid_auto_rows": null,
            "grid_column": null,
            "grid_gap": null,
            "grid_row": null,
            "grid_template_areas": null,
            "grid_template_columns": null,
            "grid_template_rows": null,
            "height": null,
            "justify_content": null,
            "justify_items": null,
            "left": null,
            "margin": null,
            "max_height": null,
            "max_width": null,
            "min_height": null,
            "min_width": null,
            "object_fit": null,
            "object_position": null,
            "order": null,
            "overflow": null,
            "overflow_x": null,
            "overflow_y": null,
            "padding": null,
            "right": null,
            "top": null,
            "visibility": null,
            "width": null
          }
        },
        "af6a3a0867f74f5391bf9c2e4a663379": {
          "model_module": "@jupyter-widgets/controls",
          "model_name": "ProgressStyleModel",
          "model_module_version": "1.5.0",
          "state": {
            "_model_module": "@jupyter-widgets/controls",
            "_model_module_version": "1.5.0",
            "_model_name": "ProgressStyleModel",
            "_view_count": null,
            "_view_module": "@jupyter-widgets/base",
            "_view_module_version": "1.2.0",
            "_view_name": "StyleView",
            "bar_color": null,
            "description_width": ""
          }
        },
        "5511319627d94c7da10dd3fc7f886525": {
          "model_module": "@jupyter-widgets/base",
          "model_name": "LayoutModel",
          "model_module_version": "1.2.0",
          "state": {
            "_model_module": "@jupyter-widgets/base",
            "_model_module_version": "1.2.0",
            "_model_name": "LayoutModel",
            "_view_count": null,
            "_view_module": "@jupyter-widgets/base",
            "_view_module_version": "1.2.0",
            "_view_name": "LayoutView",
            "align_content": null,
            "align_items": null,
            "align_self": null,
            "border": null,
            "bottom": null,
            "display": null,
            "flex": null,
            "flex_flow": null,
            "grid_area": null,
            "grid_auto_columns": null,
            "grid_auto_flow": null,
            "grid_auto_rows": null,
            "grid_column": null,
            "grid_gap": null,
            "grid_row": null,
            "grid_template_areas": null,
            "grid_template_columns": null,
            "grid_template_rows": null,
            "height": null,
            "justify_content": null,
            "justify_items": null,
            "left": null,
            "margin": null,
            "max_height": null,
            "max_width": null,
            "min_height": null,
            "min_width": null,
            "object_fit": null,
            "object_position": null,
            "order": null,
            "overflow": null,
            "overflow_x": null,
            "overflow_y": null,
            "padding": null,
            "right": null,
            "top": null,
            "visibility": null,
            "width": null
          }
        },
        "7b16d0bfdaa8497f99a795991cc274b4": {
          "model_module": "@jupyter-widgets/controls",
          "model_name": "DescriptionStyleModel",
          "model_module_version": "1.5.0",
          "state": {
            "_model_module": "@jupyter-widgets/controls",
            "_model_module_version": "1.5.0",
            "_model_name": "DescriptionStyleModel",
            "_view_count": null,
            "_view_module": "@jupyter-widgets/base",
            "_view_module_version": "1.2.0",
            "_view_name": "StyleView",
            "description_width": ""
          }
        },
        "fc02adc5a0e045a3a71f7b090b76a6f6": {
          "model_module": "@jupyter-widgets/controls",
          "model_name": "HBoxModel",
          "model_module_version": "1.5.0",
          "state": {
            "_dom_classes": [],
            "_model_module": "@jupyter-widgets/controls",
            "_model_module_version": "1.5.0",
            "_model_name": "HBoxModel",
            "_view_count": null,
            "_view_module": "@jupyter-widgets/controls",
            "_view_module_version": "1.5.0",
            "_view_name": "HBoxView",
            "box_style": "",
            "children": [
              "IPY_MODEL_40cfd6383732415393b1f96d68265091",
              "IPY_MODEL_fc14b846c4b940ac83bd59e5dfebe3b2",
              "IPY_MODEL_a31557a81b49423bbe5482b8f7510e2d"
            ],
            "layout": "IPY_MODEL_18fe5a358b5e4af39466d249c0f3fdf2"
          }
        },
        "40cfd6383732415393b1f96d68265091": {
          "model_module": "@jupyter-widgets/controls",
          "model_name": "HTMLModel",
          "model_module_version": "1.5.0",
          "state": {
            "_dom_classes": [],
            "_model_module": "@jupyter-widgets/controls",
            "_model_module_version": "1.5.0",
            "_model_name": "HTMLModel",
            "_view_count": null,
            "_view_module": "@jupyter-widgets/controls",
            "_view_module_version": "1.5.0",
            "_view_name": "HTMLView",
            "description": "",
            "description_tooltip": null,
            "layout": "IPY_MODEL_13593ece16284310a0ef88b848dffeac",
            "placeholder": "​",
            "style": "IPY_MODEL_8fefaa1e1f734c1185977b8e25df371b",
            "value": "config.json: 100%"
          }
        },
        "fc14b846c4b940ac83bd59e5dfebe3b2": {
          "model_module": "@jupyter-widgets/controls",
          "model_name": "FloatProgressModel",
          "model_module_version": "1.5.0",
          "state": {
            "_dom_classes": [],
            "_model_module": "@jupyter-widgets/controls",
            "_model_module_version": "1.5.0",
            "_model_name": "FloatProgressModel",
            "_view_count": null,
            "_view_module": "@jupyter-widgets/controls",
            "_view_module_version": "1.5.0",
            "_view_name": "ProgressView",
            "bar_style": "success",
            "description": "",
            "description_tooltip": null,
            "layout": "IPY_MODEL_f715a05ce1a341d9a97500b7276b364b",
            "max": 612,
            "min": 0,
            "orientation": "horizontal",
            "style": "IPY_MODEL_85f80504e77f4aceaaafff9726d150a5",
            "value": 612
          }
        },
        "a31557a81b49423bbe5482b8f7510e2d": {
          "model_module": "@jupyter-widgets/controls",
          "model_name": "HTMLModel",
          "model_module_version": "1.5.0",
          "state": {
            "_dom_classes": [],
            "_model_module": "@jupyter-widgets/controls",
            "_model_module_version": "1.5.0",
            "_model_name": "HTMLModel",
            "_view_count": null,
            "_view_module": "@jupyter-widgets/controls",
            "_view_module_version": "1.5.0",
            "_view_name": "HTMLView",
            "description": "",
            "description_tooltip": null,
            "layout": "IPY_MODEL_6191b661b1174de9b82ccb6c27d1b3cd",
            "placeholder": "​",
            "style": "IPY_MODEL_0a3d62e13e8945a7a4d563fe851c7113",
            "value": " 612/612 [00:00&lt;00:00, 29.2kB/s]"
          }
        },
        "18fe5a358b5e4af39466d249c0f3fdf2": {
          "model_module": "@jupyter-widgets/base",
          "model_name": "LayoutModel",
          "model_module_version": "1.2.0",
          "state": {
            "_model_module": "@jupyter-widgets/base",
            "_model_module_version": "1.2.0",
            "_model_name": "LayoutModel",
            "_view_count": null,
            "_view_module": "@jupyter-widgets/base",
            "_view_module_version": "1.2.0",
            "_view_name": "LayoutView",
            "align_content": null,
            "align_items": null,
            "align_self": null,
            "border": null,
            "bottom": null,
            "display": null,
            "flex": null,
            "flex_flow": null,
            "grid_area": null,
            "grid_auto_columns": null,
            "grid_auto_flow": null,
            "grid_auto_rows": null,
            "grid_column": null,
            "grid_gap": null,
            "grid_row": null,
            "grid_template_areas": null,
            "grid_template_columns": null,
            "grid_template_rows": null,
            "height": null,
            "justify_content": null,
            "justify_items": null,
            "left": null,
            "margin": null,
            "max_height": null,
            "max_width": null,
            "min_height": null,
            "min_width": null,
            "object_fit": null,
            "object_position": null,
            "order": null,
            "overflow": null,
            "overflow_x": null,
            "overflow_y": null,
            "padding": null,
            "right": null,
            "top": null,
            "visibility": null,
            "width": null
          }
        },
        "13593ece16284310a0ef88b848dffeac": {
          "model_module": "@jupyter-widgets/base",
          "model_name": "LayoutModel",
          "model_module_version": "1.2.0",
          "state": {
            "_model_module": "@jupyter-widgets/base",
            "_model_module_version": "1.2.0",
            "_model_name": "LayoutModel",
            "_view_count": null,
            "_view_module": "@jupyter-widgets/base",
            "_view_module_version": "1.2.0",
            "_view_name": "LayoutView",
            "align_content": null,
            "align_items": null,
            "align_self": null,
            "border": null,
            "bottom": null,
            "display": null,
            "flex": null,
            "flex_flow": null,
            "grid_area": null,
            "grid_auto_columns": null,
            "grid_auto_flow": null,
            "grid_auto_rows": null,
            "grid_column": null,
            "grid_gap": null,
            "grid_row": null,
            "grid_template_areas": null,
            "grid_template_columns": null,
            "grid_template_rows": null,
            "height": null,
            "justify_content": null,
            "justify_items": null,
            "left": null,
            "margin": null,
            "max_height": null,
            "max_width": null,
            "min_height": null,
            "min_width": null,
            "object_fit": null,
            "object_position": null,
            "order": null,
            "overflow": null,
            "overflow_x": null,
            "overflow_y": null,
            "padding": null,
            "right": null,
            "top": null,
            "visibility": null,
            "width": null
          }
        },
        "8fefaa1e1f734c1185977b8e25df371b": {
          "model_module": "@jupyter-widgets/controls",
          "model_name": "DescriptionStyleModel",
          "model_module_version": "1.5.0",
          "state": {
            "_model_module": "@jupyter-widgets/controls",
            "_model_module_version": "1.5.0",
            "_model_name": "DescriptionStyleModel",
            "_view_count": null,
            "_view_module": "@jupyter-widgets/base",
            "_view_module_version": "1.2.0",
            "_view_name": "StyleView",
            "description_width": ""
          }
        },
        "f715a05ce1a341d9a97500b7276b364b": {
          "model_module": "@jupyter-widgets/base",
          "model_name": "LayoutModel",
          "model_module_version": "1.2.0",
          "state": {
            "_model_module": "@jupyter-widgets/base",
            "_model_module_version": "1.2.0",
            "_model_name": "LayoutModel",
            "_view_count": null,
            "_view_module": "@jupyter-widgets/base",
            "_view_module_version": "1.2.0",
            "_view_name": "LayoutView",
            "align_content": null,
            "align_items": null,
            "align_self": null,
            "border": null,
            "bottom": null,
            "display": null,
            "flex": null,
            "flex_flow": null,
            "grid_area": null,
            "grid_auto_columns": null,
            "grid_auto_flow": null,
            "grid_auto_rows": null,
            "grid_column": null,
            "grid_gap": null,
            "grid_row": null,
            "grid_template_areas": null,
            "grid_template_columns": null,
            "grid_template_rows": null,
            "height": null,
            "justify_content": null,
            "justify_items": null,
            "left": null,
            "margin": null,
            "max_height": null,
            "max_width": null,
            "min_height": null,
            "min_width": null,
            "object_fit": null,
            "object_position": null,
            "order": null,
            "overflow": null,
            "overflow_x": null,
            "overflow_y": null,
            "padding": null,
            "right": null,
            "top": null,
            "visibility": null,
            "width": null
          }
        },
        "85f80504e77f4aceaaafff9726d150a5": {
          "model_module": "@jupyter-widgets/controls",
          "model_name": "ProgressStyleModel",
          "model_module_version": "1.5.0",
          "state": {
            "_model_module": "@jupyter-widgets/controls",
            "_model_module_version": "1.5.0",
            "_model_name": "ProgressStyleModel",
            "_view_count": null,
            "_view_module": "@jupyter-widgets/base",
            "_view_module_version": "1.2.0",
            "_view_name": "StyleView",
            "bar_color": null,
            "description_width": ""
          }
        },
        "6191b661b1174de9b82ccb6c27d1b3cd": {
          "model_module": "@jupyter-widgets/base",
          "model_name": "LayoutModel",
          "model_module_version": "1.2.0",
          "state": {
            "_model_module": "@jupyter-widgets/base",
            "_model_module_version": "1.2.0",
            "_model_name": "LayoutModel",
            "_view_count": null,
            "_view_module": "@jupyter-widgets/base",
            "_view_module_version": "1.2.0",
            "_view_name": "LayoutView",
            "align_content": null,
            "align_items": null,
            "align_self": null,
            "border": null,
            "bottom": null,
            "display": null,
            "flex": null,
            "flex_flow": null,
            "grid_area": null,
            "grid_auto_columns": null,
            "grid_auto_flow": null,
            "grid_auto_rows": null,
            "grid_column": null,
            "grid_gap": null,
            "grid_row": null,
            "grid_template_areas": null,
            "grid_template_columns": null,
            "grid_template_rows": null,
            "height": null,
            "justify_content": null,
            "justify_items": null,
            "left": null,
            "margin": null,
            "max_height": null,
            "max_width": null,
            "min_height": null,
            "min_width": null,
            "object_fit": null,
            "object_position": null,
            "order": null,
            "overflow": null,
            "overflow_x": null,
            "overflow_y": null,
            "padding": null,
            "right": null,
            "top": null,
            "visibility": null,
            "width": null
          }
        },
        "0a3d62e13e8945a7a4d563fe851c7113": {
          "model_module": "@jupyter-widgets/controls",
          "model_name": "DescriptionStyleModel",
          "model_module_version": "1.5.0",
          "state": {
            "_model_module": "@jupyter-widgets/controls",
            "_model_module_version": "1.5.0",
            "_model_name": "DescriptionStyleModel",
            "_view_count": null,
            "_view_module": "@jupyter-widgets/base",
            "_view_module_version": "1.2.0",
            "_view_name": "StyleView",
            "description_width": ""
          }
        },
        "8160ce1aa35a42d18039a0de422eef5d": {
          "model_module": "@jupyter-widgets/controls",
          "model_name": "HBoxModel",
          "model_module_version": "1.5.0",
          "state": {
            "_dom_classes": [],
            "_model_module": "@jupyter-widgets/controls",
            "_model_module_version": "1.5.0",
            "_model_name": "HBoxModel",
            "_view_count": null,
            "_view_module": "@jupyter-widgets/controls",
            "_view_module_version": "1.5.0",
            "_view_name": "HBoxView",
            "box_style": "",
            "children": [
              "IPY_MODEL_63ad28c4f1e3471885ece605a23fc79a",
              "IPY_MODEL_47d552558b714b11bdf01b7f5a449566",
              "IPY_MODEL_b91e969b8d41488a88d57a8199696d5f"
            ],
            "layout": "IPY_MODEL_36b5486d1cda400886b33a15a58e5d2d"
          }
        },
        "63ad28c4f1e3471885ece605a23fc79a": {
          "model_module": "@jupyter-widgets/controls",
          "model_name": "HTMLModel",
          "model_module_version": "1.5.0",
          "state": {
            "_dom_classes": [],
            "_model_module": "@jupyter-widgets/controls",
            "_model_module_version": "1.5.0",
            "_model_name": "HTMLModel",
            "_view_count": null,
            "_view_module": "@jupyter-widgets/controls",
            "_view_module_version": "1.5.0",
            "_view_name": "HTMLView",
            "description": "",
            "description_tooltip": null,
            "layout": "IPY_MODEL_4355b6b7386e43d79e2b68869daa72aa",
            "placeholder": "​",
            "style": "IPY_MODEL_6c4f262b3be94dd697c520357d0c624b",
            "value": "model.safetensors: 100%"
          }
        },
        "47d552558b714b11bdf01b7f5a449566": {
          "model_module": "@jupyter-widgets/controls",
          "model_name": "FloatProgressModel",
          "model_module_version": "1.5.0",
          "state": {
            "_dom_classes": [],
            "_model_module": "@jupyter-widgets/controls",
            "_model_module_version": "1.5.0",
            "_model_name": "FloatProgressModel",
            "_view_count": null,
            "_view_module": "@jupyter-widgets/controls",
            "_view_module_version": "1.5.0",
            "_view_name": "ProgressView",
            "bar_style": "success",
            "description": "",
            "description_tooltip": null,
            "layout": "IPY_MODEL_862d29ad1ccc4fcc84d7dedc0f336add",
            "max": 90868376,
            "min": 0,
            "orientation": "horizontal",
            "style": "IPY_MODEL_67225a3db46047e7ade3f255f07065aa",
            "value": 90868376
          }
        },
        "b91e969b8d41488a88d57a8199696d5f": {
          "model_module": "@jupyter-widgets/controls",
          "model_name": "HTMLModel",
          "model_module_version": "1.5.0",
          "state": {
            "_dom_classes": [],
            "_model_module": "@jupyter-widgets/controls",
            "_model_module_version": "1.5.0",
            "_model_name": "HTMLModel",
            "_view_count": null,
            "_view_module": "@jupyter-widgets/controls",
            "_view_module_version": "1.5.0",
            "_view_name": "HTMLView",
            "description": "",
            "description_tooltip": null,
            "layout": "IPY_MODEL_371dd6dc3dc74d4db5a8577a8c05e67f",
            "placeholder": "​",
            "style": "IPY_MODEL_869beba908ce44408bf1f8260fe3dbac",
            "value": " 90.9M/90.9M [00:00&lt;00:00, 153MB/s]"
          }
        },
        "36b5486d1cda400886b33a15a58e5d2d": {
          "model_module": "@jupyter-widgets/base",
          "model_name": "LayoutModel",
          "model_module_version": "1.2.0",
          "state": {
            "_model_module": "@jupyter-widgets/base",
            "_model_module_version": "1.2.0",
            "_model_name": "LayoutModel",
            "_view_count": null,
            "_view_module": "@jupyter-widgets/base",
            "_view_module_version": "1.2.0",
            "_view_name": "LayoutView",
            "align_content": null,
            "align_items": null,
            "align_self": null,
            "border": null,
            "bottom": null,
            "display": null,
            "flex": null,
            "flex_flow": null,
            "grid_area": null,
            "grid_auto_columns": null,
            "grid_auto_flow": null,
            "grid_auto_rows": null,
            "grid_column": null,
            "grid_gap": null,
            "grid_row": null,
            "grid_template_areas": null,
            "grid_template_columns": null,
            "grid_template_rows": null,
            "height": null,
            "justify_content": null,
            "justify_items": null,
            "left": null,
            "margin": null,
            "max_height": null,
            "max_width": null,
            "min_height": null,
            "min_width": null,
            "object_fit": null,
            "object_position": null,
            "order": null,
            "overflow": null,
            "overflow_x": null,
            "overflow_y": null,
            "padding": null,
            "right": null,
            "top": null,
            "visibility": null,
            "width": null
          }
        },
        "4355b6b7386e43d79e2b68869daa72aa": {
          "model_module": "@jupyter-widgets/base",
          "model_name": "LayoutModel",
          "model_module_version": "1.2.0",
          "state": {
            "_model_module": "@jupyter-widgets/base",
            "_model_module_version": "1.2.0",
            "_model_name": "LayoutModel",
            "_view_count": null,
            "_view_module": "@jupyter-widgets/base",
            "_view_module_version": "1.2.0",
            "_view_name": "LayoutView",
            "align_content": null,
            "align_items": null,
            "align_self": null,
            "border": null,
            "bottom": null,
            "display": null,
            "flex": null,
            "flex_flow": null,
            "grid_area": null,
            "grid_auto_columns": null,
            "grid_auto_flow": null,
            "grid_auto_rows": null,
            "grid_column": null,
            "grid_gap": null,
            "grid_row": null,
            "grid_template_areas": null,
            "grid_template_columns": null,
            "grid_template_rows": null,
            "height": null,
            "justify_content": null,
            "justify_items": null,
            "left": null,
            "margin": null,
            "max_height": null,
            "max_width": null,
            "min_height": null,
            "min_width": null,
            "object_fit": null,
            "object_position": null,
            "order": null,
            "overflow": null,
            "overflow_x": null,
            "overflow_y": null,
            "padding": null,
            "right": null,
            "top": null,
            "visibility": null,
            "width": null
          }
        },
        "6c4f262b3be94dd697c520357d0c624b": {
          "model_module": "@jupyter-widgets/controls",
          "model_name": "DescriptionStyleModel",
          "model_module_version": "1.5.0",
          "state": {
            "_model_module": "@jupyter-widgets/controls",
            "_model_module_version": "1.5.0",
            "_model_name": "DescriptionStyleModel",
            "_view_count": null,
            "_view_module": "@jupyter-widgets/base",
            "_view_module_version": "1.2.0",
            "_view_name": "StyleView",
            "description_width": ""
          }
        },
        "862d29ad1ccc4fcc84d7dedc0f336add": {
          "model_module": "@jupyter-widgets/base",
          "model_name": "LayoutModel",
          "model_module_version": "1.2.0",
          "state": {
            "_model_module": "@jupyter-widgets/base",
            "_model_module_version": "1.2.0",
            "_model_name": "LayoutModel",
            "_view_count": null,
            "_view_module": "@jupyter-widgets/base",
            "_view_module_version": "1.2.0",
            "_view_name": "LayoutView",
            "align_content": null,
            "align_items": null,
            "align_self": null,
            "border": null,
            "bottom": null,
            "display": null,
            "flex": null,
            "flex_flow": null,
            "grid_area": null,
            "grid_auto_columns": null,
            "grid_auto_flow": null,
            "grid_auto_rows": null,
            "grid_column": null,
            "grid_gap": null,
            "grid_row": null,
            "grid_template_areas": null,
            "grid_template_columns": null,
            "grid_template_rows": null,
            "height": null,
            "justify_content": null,
            "justify_items": null,
            "left": null,
            "margin": null,
            "max_height": null,
            "max_width": null,
            "min_height": null,
            "min_width": null,
            "object_fit": null,
            "object_position": null,
            "order": null,
            "overflow": null,
            "overflow_x": null,
            "overflow_y": null,
            "padding": null,
            "right": null,
            "top": null,
            "visibility": null,
            "width": null
          }
        },
        "67225a3db46047e7ade3f255f07065aa": {
          "model_module": "@jupyter-widgets/controls",
          "model_name": "ProgressStyleModel",
          "model_module_version": "1.5.0",
          "state": {
            "_model_module": "@jupyter-widgets/controls",
            "_model_module_version": "1.5.0",
            "_model_name": "ProgressStyleModel",
            "_view_count": null,
            "_view_module": "@jupyter-widgets/base",
            "_view_module_version": "1.2.0",
            "_view_name": "StyleView",
            "bar_color": null,
            "description_width": ""
          }
        },
        "371dd6dc3dc74d4db5a8577a8c05e67f": {
          "model_module": "@jupyter-widgets/base",
          "model_name": "LayoutModel",
          "model_module_version": "1.2.0",
          "state": {
            "_model_module": "@jupyter-widgets/base",
            "_model_module_version": "1.2.0",
            "_model_name": "LayoutModel",
            "_view_count": null,
            "_view_module": "@jupyter-widgets/base",
            "_view_module_version": "1.2.0",
            "_view_name": "LayoutView",
            "align_content": null,
            "align_items": null,
            "align_self": null,
            "border": null,
            "bottom": null,
            "display": null,
            "flex": null,
            "flex_flow": null,
            "grid_area": null,
            "grid_auto_columns": null,
            "grid_auto_flow": null,
            "grid_auto_rows": null,
            "grid_column": null,
            "grid_gap": null,
            "grid_row": null,
            "grid_template_areas": null,
            "grid_template_columns": null,
            "grid_template_rows": null,
            "height": null,
            "justify_content": null,
            "justify_items": null,
            "left": null,
            "margin": null,
            "max_height": null,
            "max_width": null,
            "min_height": null,
            "min_width": null,
            "object_fit": null,
            "object_position": null,
            "order": null,
            "overflow": null,
            "overflow_x": null,
            "overflow_y": null,
            "padding": null,
            "right": null,
            "top": null,
            "visibility": null,
            "width": null
          }
        },
        "869beba908ce44408bf1f8260fe3dbac": {
          "model_module": "@jupyter-widgets/controls",
          "model_name": "DescriptionStyleModel",
          "model_module_version": "1.5.0",
          "state": {
            "_model_module": "@jupyter-widgets/controls",
            "_model_module_version": "1.5.0",
            "_model_name": "DescriptionStyleModel",
            "_view_count": null,
            "_view_module": "@jupyter-widgets/base",
            "_view_module_version": "1.2.0",
            "_view_name": "StyleView",
            "description_width": ""
          }
        },
        "8f4340635733485eb035aecb15565e9a": {
          "model_module": "@jupyter-widgets/controls",
          "model_name": "HBoxModel",
          "model_module_version": "1.5.0",
          "state": {
            "_dom_classes": [],
            "_model_module": "@jupyter-widgets/controls",
            "_model_module_version": "1.5.0",
            "_model_name": "HBoxModel",
            "_view_count": null,
            "_view_module": "@jupyter-widgets/controls",
            "_view_module_version": "1.5.0",
            "_view_name": "HBoxView",
            "box_style": "",
            "children": [
              "IPY_MODEL_9e6b0c5c72ed486197b474a02e327abd",
              "IPY_MODEL_15228406033b4e5eb9976f58d4af007f",
              "IPY_MODEL_b80029b9fd6644229443c7951885aa25"
            ],
            "layout": "IPY_MODEL_33043ec7a53541648d114d4141f149c8"
          }
        },
        "9e6b0c5c72ed486197b474a02e327abd": {
          "model_module": "@jupyter-widgets/controls",
          "model_name": "HTMLModel",
          "model_module_version": "1.5.0",
          "state": {
            "_dom_classes": [],
            "_model_module": "@jupyter-widgets/controls",
            "_model_module_version": "1.5.0",
            "_model_name": "HTMLModel",
            "_view_count": null,
            "_view_module": "@jupyter-widgets/controls",
            "_view_module_version": "1.5.0",
            "_view_name": "HTMLView",
            "description": "",
            "description_tooltip": null,
            "layout": "IPY_MODEL_d3d1338c487e4bc69a3f70f5cdc4ecfe",
            "placeholder": "​",
            "style": "IPY_MODEL_fcca37e62b164e47a274c0e3a4c29efc",
            "value": "tokenizer_config.json: 100%"
          }
        },
        "15228406033b4e5eb9976f58d4af007f": {
          "model_module": "@jupyter-widgets/controls",
          "model_name": "FloatProgressModel",
          "model_module_version": "1.5.0",
          "state": {
            "_dom_classes": [],
            "_model_module": "@jupyter-widgets/controls",
            "_model_module_version": "1.5.0",
            "_model_name": "FloatProgressModel",
            "_view_count": null,
            "_view_module": "@jupyter-widgets/controls",
            "_view_module_version": "1.5.0",
            "_view_name": "ProgressView",
            "bar_style": "success",
            "description": "",
            "description_tooltip": null,
            "layout": "IPY_MODEL_0a395c804b8049a1b25cfd96bced544b",
            "max": 350,
            "min": 0,
            "orientation": "horizontal",
            "style": "IPY_MODEL_eec670bdc43a4fc1b619713b71f3b6e9",
            "value": 350
          }
        },
        "b80029b9fd6644229443c7951885aa25": {
          "model_module": "@jupyter-widgets/controls",
          "model_name": "HTMLModel",
          "model_module_version": "1.5.0",
          "state": {
            "_dom_classes": [],
            "_model_module": "@jupyter-widgets/controls",
            "_model_module_version": "1.5.0",
            "_model_name": "HTMLModel",
            "_view_count": null,
            "_view_module": "@jupyter-widgets/controls",
            "_view_module_version": "1.5.0",
            "_view_name": "HTMLView",
            "description": "",
            "description_tooltip": null,
            "layout": "IPY_MODEL_bf07664c16b24caca602a1c1d4489501",
            "placeholder": "​",
            "style": "IPY_MODEL_3587a713faec4beea03bc10802333ffe",
            "value": " 350/350 [00:00&lt;00:00, 22.8kB/s]"
          }
        },
        "33043ec7a53541648d114d4141f149c8": {
          "model_module": "@jupyter-widgets/base",
          "model_name": "LayoutModel",
          "model_module_version": "1.2.0",
          "state": {
            "_model_module": "@jupyter-widgets/base",
            "_model_module_version": "1.2.0",
            "_model_name": "LayoutModel",
            "_view_count": null,
            "_view_module": "@jupyter-widgets/base",
            "_view_module_version": "1.2.0",
            "_view_name": "LayoutView",
            "align_content": null,
            "align_items": null,
            "align_self": null,
            "border": null,
            "bottom": null,
            "display": null,
            "flex": null,
            "flex_flow": null,
            "grid_area": null,
            "grid_auto_columns": null,
            "grid_auto_flow": null,
            "grid_auto_rows": null,
            "grid_column": null,
            "grid_gap": null,
            "grid_row": null,
            "grid_template_areas": null,
            "grid_template_columns": null,
            "grid_template_rows": null,
            "height": null,
            "justify_content": null,
            "justify_items": null,
            "left": null,
            "margin": null,
            "max_height": null,
            "max_width": null,
            "min_height": null,
            "min_width": null,
            "object_fit": null,
            "object_position": null,
            "order": null,
            "overflow": null,
            "overflow_x": null,
            "overflow_y": null,
            "padding": null,
            "right": null,
            "top": null,
            "visibility": null,
            "width": null
          }
        },
        "d3d1338c487e4bc69a3f70f5cdc4ecfe": {
          "model_module": "@jupyter-widgets/base",
          "model_name": "LayoutModel",
          "model_module_version": "1.2.0",
          "state": {
            "_model_module": "@jupyter-widgets/base",
            "_model_module_version": "1.2.0",
            "_model_name": "LayoutModel",
            "_view_count": null,
            "_view_module": "@jupyter-widgets/base",
            "_view_module_version": "1.2.0",
            "_view_name": "LayoutView",
            "align_content": null,
            "align_items": null,
            "align_self": null,
            "border": null,
            "bottom": null,
            "display": null,
            "flex": null,
            "flex_flow": null,
            "grid_area": null,
            "grid_auto_columns": null,
            "grid_auto_flow": null,
            "grid_auto_rows": null,
            "grid_column": null,
            "grid_gap": null,
            "grid_row": null,
            "grid_template_areas": null,
            "grid_template_columns": null,
            "grid_template_rows": null,
            "height": null,
            "justify_content": null,
            "justify_items": null,
            "left": null,
            "margin": null,
            "max_height": null,
            "max_width": null,
            "min_height": null,
            "min_width": null,
            "object_fit": null,
            "object_position": null,
            "order": null,
            "overflow": null,
            "overflow_x": null,
            "overflow_y": null,
            "padding": null,
            "right": null,
            "top": null,
            "visibility": null,
            "width": null
          }
        },
        "fcca37e62b164e47a274c0e3a4c29efc": {
          "model_module": "@jupyter-widgets/controls",
          "model_name": "DescriptionStyleModel",
          "model_module_version": "1.5.0",
          "state": {
            "_model_module": "@jupyter-widgets/controls",
            "_model_module_version": "1.5.0",
            "_model_name": "DescriptionStyleModel",
            "_view_count": null,
            "_view_module": "@jupyter-widgets/base",
            "_view_module_version": "1.2.0",
            "_view_name": "StyleView",
            "description_width": ""
          }
        },
        "0a395c804b8049a1b25cfd96bced544b": {
          "model_module": "@jupyter-widgets/base",
          "model_name": "LayoutModel",
          "model_module_version": "1.2.0",
          "state": {
            "_model_module": "@jupyter-widgets/base",
            "_model_module_version": "1.2.0",
            "_model_name": "LayoutModel",
            "_view_count": null,
            "_view_module": "@jupyter-widgets/base",
            "_view_module_version": "1.2.0",
            "_view_name": "LayoutView",
            "align_content": null,
            "align_items": null,
            "align_self": null,
            "border": null,
            "bottom": null,
            "display": null,
            "flex": null,
            "flex_flow": null,
            "grid_area": null,
            "grid_auto_columns": null,
            "grid_auto_flow": null,
            "grid_auto_rows": null,
            "grid_column": null,
            "grid_gap": null,
            "grid_row": null,
            "grid_template_areas": null,
            "grid_template_columns": null,
            "grid_template_rows": null,
            "height": null,
            "justify_content": null,
            "justify_items": null,
            "left": null,
            "margin": null,
            "max_height": null,
            "max_width": null,
            "min_height": null,
            "min_width": null,
            "object_fit": null,
            "object_position": null,
            "order": null,
            "overflow": null,
            "overflow_x": null,
            "overflow_y": null,
            "padding": null,
            "right": null,
            "top": null,
            "visibility": null,
            "width": null
          }
        },
        "eec670bdc43a4fc1b619713b71f3b6e9": {
          "model_module": "@jupyter-widgets/controls",
          "model_name": "ProgressStyleModel",
          "model_module_version": "1.5.0",
          "state": {
            "_model_module": "@jupyter-widgets/controls",
            "_model_module_version": "1.5.0",
            "_model_name": "ProgressStyleModel",
            "_view_count": null,
            "_view_module": "@jupyter-widgets/base",
            "_view_module_version": "1.2.0",
            "_view_name": "StyleView",
            "bar_color": null,
            "description_width": ""
          }
        },
        "bf07664c16b24caca602a1c1d4489501": {
          "model_module": "@jupyter-widgets/base",
          "model_name": "LayoutModel",
          "model_module_version": "1.2.0",
          "state": {
            "_model_module": "@jupyter-widgets/base",
            "_model_module_version": "1.2.0",
            "_model_name": "LayoutModel",
            "_view_count": null,
            "_view_module": "@jupyter-widgets/base",
            "_view_module_version": "1.2.0",
            "_view_name": "LayoutView",
            "align_content": null,
            "align_items": null,
            "align_self": null,
            "border": null,
            "bottom": null,
            "display": null,
            "flex": null,
            "flex_flow": null,
            "grid_area": null,
            "grid_auto_columns": null,
            "grid_auto_flow": null,
            "grid_auto_rows": null,
            "grid_column": null,
            "grid_gap": null,
            "grid_row": null,
            "grid_template_areas": null,
            "grid_template_columns": null,
            "grid_template_rows": null,
            "height": null,
            "justify_content": null,
            "justify_items": null,
            "left": null,
            "margin": null,
            "max_height": null,
            "max_width": null,
            "min_height": null,
            "min_width": null,
            "object_fit": null,
            "object_position": null,
            "order": null,
            "overflow": null,
            "overflow_x": null,
            "overflow_y": null,
            "padding": null,
            "right": null,
            "top": null,
            "visibility": null,
            "width": null
          }
        },
        "3587a713faec4beea03bc10802333ffe": {
          "model_module": "@jupyter-widgets/controls",
          "model_name": "DescriptionStyleModel",
          "model_module_version": "1.5.0",
          "state": {
            "_model_module": "@jupyter-widgets/controls",
            "_model_module_version": "1.5.0",
            "_model_name": "DescriptionStyleModel",
            "_view_count": null,
            "_view_module": "@jupyter-widgets/base",
            "_view_module_version": "1.2.0",
            "_view_name": "StyleView",
            "description_width": ""
          }
        },
        "4e3e7fcd708142fdb434c6d31029da2a": {
          "model_module": "@jupyter-widgets/controls",
          "model_name": "HBoxModel",
          "model_module_version": "1.5.0",
          "state": {
            "_dom_classes": [],
            "_model_module": "@jupyter-widgets/controls",
            "_model_module_version": "1.5.0",
            "_model_name": "HBoxModel",
            "_view_count": null,
            "_view_module": "@jupyter-widgets/controls",
            "_view_module_version": "1.5.0",
            "_view_name": "HBoxView",
            "box_style": "",
            "children": [
              "IPY_MODEL_d41c5a02b91e4d45a2fa5eb7c16a89e2",
              "IPY_MODEL_dca06dc1efb745cf9a958d0aa87bbdf4",
              "IPY_MODEL_c787fd0f28a8418a85a831dc12a28103"
            ],
            "layout": "IPY_MODEL_369dfb1ba479464bb2d546feb59ddb29"
          }
        },
        "d41c5a02b91e4d45a2fa5eb7c16a89e2": {
          "model_module": "@jupyter-widgets/controls",
          "model_name": "HTMLModel",
          "model_module_version": "1.5.0",
          "state": {
            "_dom_classes": [],
            "_model_module": "@jupyter-widgets/controls",
            "_model_module_version": "1.5.0",
            "_model_name": "HTMLModel",
            "_view_count": null,
            "_view_module": "@jupyter-widgets/controls",
            "_view_module_version": "1.5.0",
            "_view_name": "HTMLView",
            "description": "",
            "description_tooltip": null,
            "layout": "IPY_MODEL_5ce1fa066257421c849b18305f7848db",
            "placeholder": "​",
            "style": "IPY_MODEL_f7989a5d326e44cf87fa32ce78dbed52",
            "value": "vocab.txt: 100%"
          }
        },
        "dca06dc1efb745cf9a958d0aa87bbdf4": {
          "model_module": "@jupyter-widgets/controls",
          "model_name": "FloatProgressModel",
          "model_module_version": "1.5.0",
          "state": {
            "_dom_classes": [],
            "_model_module": "@jupyter-widgets/controls",
            "_model_module_version": "1.5.0",
            "_model_name": "FloatProgressModel",
            "_view_count": null,
            "_view_module": "@jupyter-widgets/controls",
            "_view_module_version": "1.5.0",
            "_view_name": "ProgressView",
            "bar_style": "success",
            "description": "",
            "description_tooltip": null,
            "layout": "IPY_MODEL_4418b8e5f0d24407a6522747b80e9db1",
            "max": 231508,
            "min": 0,
            "orientation": "horizontal",
            "style": "IPY_MODEL_74f95867068c47089fd976fc3dd43e1e",
            "value": 231508
          }
        },
        "c787fd0f28a8418a85a831dc12a28103": {
          "model_module": "@jupyter-widgets/controls",
          "model_name": "HTMLModel",
          "model_module_version": "1.5.0",
          "state": {
            "_dom_classes": [],
            "_model_module": "@jupyter-widgets/controls",
            "_model_module_version": "1.5.0",
            "_model_name": "HTMLModel",
            "_view_count": null,
            "_view_module": "@jupyter-widgets/controls",
            "_view_module_version": "1.5.0",
            "_view_name": "HTMLView",
            "description": "",
            "description_tooltip": null,
            "layout": "IPY_MODEL_3c712e984c124d419b3981e4c58481d9",
            "placeholder": "​",
            "style": "IPY_MODEL_5133cd404a6f4735be147e99e2415eb0",
            "value": " 232k/232k [00:00&lt;00:00, 9.94MB/s]"
          }
        },
        "369dfb1ba479464bb2d546feb59ddb29": {
          "model_module": "@jupyter-widgets/base",
          "model_name": "LayoutModel",
          "model_module_version": "1.2.0",
          "state": {
            "_model_module": "@jupyter-widgets/base",
            "_model_module_version": "1.2.0",
            "_model_name": "LayoutModel",
            "_view_count": null,
            "_view_module": "@jupyter-widgets/base",
            "_view_module_version": "1.2.0",
            "_view_name": "LayoutView",
            "align_content": null,
            "align_items": null,
            "align_self": null,
            "border": null,
            "bottom": null,
            "display": null,
            "flex": null,
            "flex_flow": null,
            "grid_area": null,
            "grid_auto_columns": null,
            "grid_auto_flow": null,
            "grid_auto_rows": null,
            "grid_column": null,
            "grid_gap": null,
            "grid_row": null,
            "grid_template_areas": null,
            "grid_template_columns": null,
            "grid_template_rows": null,
            "height": null,
            "justify_content": null,
            "justify_items": null,
            "left": null,
            "margin": null,
            "max_height": null,
            "max_width": null,
            "min_height": null,
            "min_width": null,
            "object_fit": null,
            "object_position": null,
            "order": null,
            "overflow": null,
            "overflow_x": null,
            "overflow_y": null,
            "padding": null,
            "right": null,
            "top": null,
            "visibility": null,
            "width": null
          }
        },
        "5ce1fa066257421c849b18305f7848db": {
          "model_module": "@jupyter-widgets/base",
          "model_name": "LayoutModel",
          "model_module_version": "1.2.0",
          "state": {
            "_model_module": "@jupyter-widgets/base",
            "_model_module_version": "1.2.0",
            "_model_name": "LayoutModel",
            "_view_count": null,
            "_view_module": "@jupyter-widgets/base",
            "_view_module_version": "1.2.0",
            "_view_name": "LayoutView",
            "align_content": null,
            "align_items": null,
            "align_self": null,
            "border": null,
            "bottom": null,
            "display": null,
            "flex": null,
            "flex_flow": null,
            "grid_area": null,
            "grid_auto_columns": null,
            "grid_auto_flow": null,
            "grid_auto_rows": null,
            "grid_column": null,
            "grid_gap": null,
            "grid_row": null,
            "grid_template_areas": null,
            "grid_template_columns": null,
            "grid_template_rows": null,
            "height": null,
            "justify_content": null,
            "justify_items": null,
            "left": null,
            "margin": null,
            "max_height": null,
            "max_width": null,
            "min_height": null,
            "min_width": null,
            "object_fit": null,
            "object_position": null,
            "order": null,
            "overflow": null,
            "overflow_x": null,
            "overflow_y": null,
            "padding": null,
            "right": null,
            "top": null,
            "visibility": null,
            "width": null
          }
        },
        "f7989a5d326e44cf87fa32ce78dbed52": {
          "model_module": "@jupyter-widgets/controls",
          "model_name": "DescriptionStyleModel",
          "model_module_version": "1.5.0",
          "state": {
            "_model_module": "@jupyter-widgets/controls",
            "_model_module_version": "1.5.0",
            "_model_name": "DescriptionStyleModel",
            "_view_count": null,
            "_view_module": "@jupyter-widgets/base",
            "_view_module_version": "1.2.0",
            "_view_name": "StyleView",
            "description_width": ""
          }
        },
        "4418b8e5f0d24407a6522747b80e9db1": {
          "model_module": "@jupyter-widgets/base",
          "model_name": "LayoutModel",
          "model_module_version": "1.2.0",
          "state": {
            "_model_module": "@jupyter-widgets/base",
            "_model_module_version": "1.2.0",
            "_model_name": "LayoutModel",
            "_view_count": null,
            "_view_module": "@jupyter-widgets/base",
            "_view_module_version": "1.2.0",
            "_view_name": "LayoutView",
            "align_content": null,
            "align_items": null,
            "align_self": null,
            "border": null,
            "bottom": null,
            "display": null,
            "flex": null,
            "flex_flow": null,
            "grid_area": null,
            "grid_auto_columns": null,
            "grid_auto_flow": null,
            "grid_auto_rows": null,
            "grid_column": null,
            "grid_gap": null,
            "grid_row": null,
            "grid_template_areas": null,
            "grid_template_columns": null,
            "grid_template_rows": null,
            "height": null,
            "justify_content": null,
            "justify_items": null,
            "left": null,
            "margin": null,
            "max_height": null,
            "max_width": null,
            "min_height": null,
            "min_width": null,
            "object_fit": null,
            "object_position": null,
            "order": null,
            "overflow": null,
            "overflow_x": null,
            "overflow_y": null,
            "padding": null,
            "right": null,
            "top": null,
            "visibility": null,
            "width": null
          }
        },
        "74f95867068c47089fd976fc3dd43e1e": {
          "model_module": "@jupyter-widgets/controls",
          "model_name": "ProgressStyleModel",
          "model_module_version": "1.5.0",
          "state": {
            "_model_module": "@jupyter-widgets/controls",
            "_model_module_version": "1.5.0",
            "_model_name": "ProgressStyleModel",
            "_view_count": null,
            "_view_module": "@jupyter-widgets/base",
            "_view_module_version": "1.2.0",
            "_view_name": "StyleView",
            "bar_color": null,
            "description_width": ""
          }
        },
        "3c712e984c124d419b3981e4c58481d9": {
          "model_module": "@jupyter-widgets/base",
          "model_name": "LayoutModel",
          "model_module_version": "1.2.0",
          "state": {
            "_model_module": "@jupyter-widgets/base",
            "_model_module_version": "1.2.0",
            "_model_name": "LayoutModel",
            "_view_count": null,
            "_view_module": "@jupyter-widgets/base",
            "_view_module_version": "1.2.0",
            "_view_name": "LayoutView",
            "align_content": null,
            "align_items": null,
            "align_self": null,
            "border": null,
            "bottom": null,
            "display": null,
            "flex": null,
            "flex_flow": null,
            "grid_area": null,
            "grid_auto_columns": null,
            "grid_auto_flow": null,
            "grid_auto_rows": null,
            "grid_column": null,
            "grid_gap": null,
            "grid_row": null,
            "grid_template_areas": null,
            "grid_template_columns": null,
            "grid_template_rows": null,
            "height": null,
            "justify_content": null,
            "justify_items": null,
            "left": null,
            "margin": null,
            "max_height": null,
            "max_width": null,
            "min_height": null,
            "min_width": null,
            "object_fit": null,
            "object_position": null,
            "order": null,
            "overflow": null,
            "overflow_x": null,
            "overflow_y": null,
            "padding": null,
            "right": null,
            "top": null,
            "visibility": null,
            "width": null
          }
        },
        "5133cd404a6f4735be147e99e2415eb0": {
          "model_module": "@jupyter-widgets/controls",
          "model_name": "DescriptionStyleModel",
          "model_module_version": "1.5.0",
          "state": {
            "_model_module": "@jupyter-widgets/controls",
            "_model_module_version": "1.5.0",
            "_model_name": "DescriptionStyleModel",
            "_view_count": null,
            "_view_module": "@jupyter-widgets/base",
            "_view_module_version": "1.2.0",
            "_view_name": "StyleView",
            "description_width": ""
          }
        },
        "43540bd0f2764929a85259b481ee277b": {
          "model_module": "@jupyter-widgets/controls",
          "model_name": "HBoxModel",
          "model_module_version": "1.5.0",
          "state": {
            "_dom_classes": [],
            "_model_module": "@jupyter-widgets/controls",
            "_model_module_version": "1.5.0",
            "_model_name": "HBoxModel",
            "_view_count": null,
            "_view_module": "@jupyter-widgets/controls",
            "_view_module_version": "1.5.0",
            "_view_name": "HBoxView",
            "box_style": "",
            "children": [
              "IPY_MODEL_93003f0dc59f406b9644ad1dbbc0801f",
              "IPY_MODEL_13dadd8d6f394256b72f15155864533c",
              "IPY_MODEL_65917b045b754cf291d15c99cde448e4"
            ],
            "layout": "IPY_MODEL_bd43f798d6564582a0fdc3c67abc17e6"
          }
        },
        "93003f0dc59f406b9644ad1dbbc0801f": {
          "model_module": "@jupyter-widgets/controls",
          "model_name": "HTMLModel",
          "model_module_version": "1.5.0",
          "state": {
            "_dom_classes": [],
            "_model_module": "@jupyter-widgets/controls",
            "_model_module_version": "1.5.0",
            "_model_name": "HTMLModel",
            "_view_count": null,
            "_view_module": "@jupyter-widgets/controls",
            "_view_module_version": "1.5.0",
            "_view_name": "HTMLView",
            "description": "",
            "description_tooltip": null,
            "layout": "IPY_MODEL_4268f78f650d437e9b5e6c67fa06ec5f",
            "placeholder": "​",
            "style": "IPY_MODEL_ad027a939b3b4fbf843d0209f7fc067f",
            "value": "tokenizer.json: 100%"
          }
        },
        "13dadd8d6f394256b72f15155864533c": {
          "model_module": "@jupyter-widgets/controls",
          "model_name": "FloatProgressModel",
          "model_module_version": "1.5.0",
          "state": {
            "_dom_classes": [],
            "_model_module": "@jupyter-widgets/controls",
            "_model_module_version": "1.5.0",
            "_model_name": "FloatProgressModel",
            "_view_count": null,
            "_view_module": "@jupyter-widgets/controls",
            "_view_module_version": "1.5.0",
            "_view_name": "ProgressView",
            "bar_style": "success",
            "description": "",
            "description_tooltip": null,
            "layout": "IPY_MODEL_ac9f16a2029042b09dc0d7895f481506",
            "max": 466247,
            "min": 0,
            "orientation": "horizontal",
            "style": "IPY_MODEL_3c82822e68a746c6a423a59f845fe857",
            "value": 466247
          }
        },
        "65917b045b754cf291d15c99cde448e4": {
          "model_module": "@jupyter-widgets/controls",
          "model_name": "HTMLModel",
          "model_module_version": "1.5.0",
          "state": {
            "_dom_classes": [],
            "_model_module": "@jupyter-widgets/controls",
            "_model_module_version": "1.5.0",
            "_model_name": "HTMLModel",
            "_view_count": null,
            "_view_module": "@jupyter-widgets/controls",
            "_view_module_version": "1.5.0",
            "_view_name": "HTMLView",
            "description": "",
            "description_tooltip": null,
            "layout": "IPY_MODEL_6b51ac4604f245a1865b043094b38553",
            "placeholder": "​",
            "style": "IPY_MODEL_2f5f43e298df4c0a92c66df294ce181a",
            "value": " 466k/466k [00:00&lt;00:00, 16.0MB/s]"
          }
        },
        "bd43f798d6564582a0fdc3c67abc17e6": {
          "model_module": "@jupyter-widgets/base",
          "model_name": "LayoutModel",
          "model_module_version": "1.2.0",
          "state": {
            "_model_module": "@jupyter-widgets/base",
            "_model_module_version": "1.2.0",
            "_model_name": "LayoutModel",
            "_view_count": null,
            "_view_module": "@jupyter-widgets/base",
            "_view_module_version": "1.2.0",
            "_view_name": "LayoutView",
            "align_content": null,
            "align_items": null,
            "align_self": null,
            "border": null,
            "bottom": null,
            "display": null,
            "flex": null,
            "flex_flow": null,
            "grid_area": null,
            "grid_auto_columns": null,
            "grid_auto_flow": null,
            "grid_auto_rows": null,
            "grid_column": null,
            "grid_gap": null,
            "grid_row": null,
            "grid_template_areas": null,
            "grid_template_columns": null,
            "grid_template_rows": null,
            "height": null,
            "justify_content": null,
            "justify_items": null,
            "left": null,
            "margin": null,
            "max_height": null,
            "max_width": null,
            "min_height": null,
            "min_width": null,
            "object_fit": null,
            "object_position": null,
            "order": null,
            "overflow": null,
            "overflow_x": null,
            "overflow_y": null,
            "padding": null,
            "right": null,
            "top": null,
            "visibility": null,
            "width": null
          }
        },
        "4268f78f650d437e9b5e6c67fa06ec5f": {
          "model_module": "@jupyter-widgets/base",
          "model_name": "LayoutModel",
          "model_module_version": "1.2.0",
          "state": {
            "_model_module": "@jupyter-widgets/base",
            "_model_module_version": "1.2.0",
            "_model_name": "LayoutModel",
            "_view_count": null,
            "_view_module": "@jupyter-widgets/base",
            "_view_module_version": "1.2.0",
            "_view_name": "LayoutView",
            "align_content": null,
            "align_items": null,
            "align_self": null,
            "border": null,
            "bottom": null,
            "display": null,
            "flex": null,
            "flex_flow": null,
            "grid_area": null,
            "grid_auto_columns": null,
            "grid_auto_flow": null,
            "grid_auto_rows": null,
            "grid_column": null,
            "grid_gap": null,
            "grid_row": null,
            "grid_template_areas": null,
            "grid_template_columns": null,
            "grid_template_rows": null,
            "height": null,
            "justify_content": null,
            "justify_items": null,
            "left": null,
            "margin": null,
            "max_height": null,
            "max_width": null,
            "min_height": null,
            "min_width": null,
            "object_fit": null,
            "object_position": null,
            "order": null,
            "overflow": null,
            "overflow_x": null,
            "overflow_y": null,
            "padding": null,
            "right": null,
            "top": null,
            "visibility": null,
            "width": null
          }
        },
        "ad027a939b3b4fbf843d0209f7fc067f": {
          "model_module": "@jupyter-widgets/controls",
          "model_name": "DescriptionStyleModel",
          "model_module_version": "1.5.0",
          "state": {
            "_model_module": "@jupyter-widgets/controls",
            "_model_module_version": "1.5.0",
            "_model_name": "DescriptionStyleModel",
            "_view_count": null,
            "_view_module": "@jupyter-widgets/base",
            "_view_module_version": "1.2.0",
            "_view_name": "StyleView",
            "description_width": ""
          }
        },
        "ac9f16a2029042b09dc0d7895f481506": {
          "model_module": "@jupyter-widgets/base",
          "model_name": "LayoutModel",
          "model_module_version": "1.2.0",
          "state": {
            "_model_module": "@jupyter-widgets/base",
            "_model_module_version": "1.2.0",
            "_model_name": "LayoutModel",
            "_view_count": null,
            "_view_module": "@jupyter-widgets/base",
            "_view_module_version": "1.2.0",
            "_view_name": "LayoutView",
            "align_content": null,
            "align_items": null,
            "align_self": null,
            "border": null,
            "bottom": null,
            "display": null,
            "flex": null,
            "flex_flow": null,
            "grid_area": null,
            "grid_auto_columns": null,
            "grid_auto_flow": null,
            "grid_auto_rows": null,
            "grid_column": null,
            "grid_gap": null,
            "grid_row": null,
            "grid_template_areas": null,
            "grid_template_columns": null,
            "grid_template_rows": null,
            "height": null,
            "justify_content": null,
            "justify_items": null,
            "left": null,
            "margin": null,
            "max_height": null,
            "max_width": null,
            "min_height": null,
            "min_width": null,
            "object_fit": null,
            "object_position": null,
            "order": null,
            "overflow": null,
            "overflow_x": null,
            "overflow_y": null,
            "padding": null,
            "right": null,
            "top": null,
            "visibility": null,
            "width": null
          }
        },
        "3c82822e68a746c6a423a59f845fe857": {
          "model_module": "@jupyter-widgets/controls",
          "model_name": "ProgressStyleModel",
          "model_module_version": "1.5.0",
          "state": {
            "_model_module": "@jupyter-widgets/controls",
            "_model_module_version": "1.5.0",
            "_model_name": "ProgressStyleModel",
            "_view_count": null,
            "_view_module": "@jupyter-widgets/base",
            "_view_module_version": "1.2.0",
            "_view_name": "StyleView",
            "bar_color": null,
            "description_width": ""
          }
        },
        "6b51ac4604f245a1865b043094b38553": {
          "model_module": "@jupyter-widgets/base",
          "model_name": "LayoutModel",
          "model_module_version": "1.2.0",
          "state": {
            "_model_module": "@jupyter-widgets/base",
            "_model_module_version": "1.2.0",
            "_model_name": "LayoutModel",
            "_view_count": null,
            "_view_module": "@jupyter-widgets/base",
            "_view_module_version": "1.2.0",
            "_view_name": "LayoutView",
            "align_content": null,
            "align_items": null,
            "align_self": null,
            "border": null,
            "bottom": null,
            "display": null,
            "flex": null,
            "flex_flow": null,
            "grid_area": null,
            "grid_auto_columns": null,
            "grid_auto_flow": null,
            "grid_auto_rows": null,
            "grid_column": null,
            "grid_gap": null,
            "grid_row": null,
            "grid_template_areas": null,
            "grid_template_columns": null,
            "grid_template_rows": null,
            "height": null,
            "justify_content": null,
            "justify_items": null,
            "left": null,
            "margin": null,
            "max_height": null,
            "max_width": null,
            "min_height": null,
            "min_width": null,
            "object_fit": null,
            "object_position": null,
            "order": null,
            "overflow": null,
            "overflow_x": null,
            "overflow_y": null,
            "padding": null,
            "right": null,
            "top": null,
            "visibility": null,
            "width": null
          }
        },
        "2f5f43e298df4c0a92c66df294ce181a": {
          "model_module": "@jupyter-widgets/controls",
          "model_name": "DescriptionStyleModel",
          "model_module_version": "1.5.0",
          "state": {
            "_model_module": "@jupyter-widgets/controls",
            "_model_module_version": "1.5.0",
            "_model_name": "DescriptionStyleModel",
            "_view_count": null,
            "_view_module": "@jupyter-widgets/base",
            "_view_module_version": "1.2.0",
            "_view_name": "StyleView",
            "description_width": ""
          }
        },
        "88502f2eb2bc4a9f993c9e70f009b690": {
          "model_module": "@jupyter-widgets/controls",
          "model_name": "HBoxModel",
          "model_module_version": "1.5.0",
          "state": {
            "_dom_classes": [],
            "_model_module": "@jupyter-widgets/controls",
            "_model_module_version": "1.5.0",
            "_model_name": "HBoxModel",
            "_view_count": null,
            "_view_module": "@jupyter-widgets/controls",
            "_view_module_version": "1.5.0",
            "_view_name": "HBoxView",
            "box_style": "",
            "children": [
              "IPY_MODEL_bbf50a457a68432fb7cd5a9fff75c2d9",
              "IPY_MODEL_f7dca742304b421fb4e21c0c5878695a",
              "IPY_MODEL_49572e666a2d48dfa6d16b73027a1530"
            ],
            "layout": "IPY_MODEL_c8d2192b919d4bbf80e597faca58b1ff"
          }
        },
        "bbf50a457a68432fb7cd5a9fff75c2d9": {
          "model_module": "@jupyter-widgets/controls",
          "model_name": "HTMLModel",
          "model_module_version": "1.5.0",
          "state": {
            "_dom_classes": [],
            "_model_module": "@jupyter-widgets/controls",
            "_model_module_version": "1.5.0",
            "_model_name": "HTMLModel",
            "_view_count": null,
            "_view_module": "@jupyter-widgets/controls",
            "_view_module_version": "1.5.0",
            "_view_name": "HTMLView",
            "description": "",
            "description_tooltip": null,
            "layout": "IPY_MODEL_647644328ce94b758bc059142c19b31c",
            "placeholder": "​",
            "style": "IPY_MODEL_66a206077ea54442ad5039b9a6c509f9",
            "value": "special_tokens_map.json: 100%"
          }
        },
        "f7dca742304b421fb4e21c0c5878695a": {
          "model_module": "@jupyter-widgets/controls",
          "model_name": "FloatProgressModel",
          "model_module_version": "1.5.0",
          "state": {
            "_dom_classes": [],
            "_model_module": "@jupyter-widgets/controls",
            "_model_module_version": "1.5.0",
            "_model_name": "FloatProgressModel",
            "_view_count": null,
            "_view_module": "@jupyter-widgets/controls",
            "_view_module_version": "1.5.0",
            "_view_name": "ProgressView",
            "bar_style": "success",
            "description": "",
            "description_tooltip": null,
            "layout": "IPY_MODEL_34627323aed94f9babbde4519668d8ed",
            "max": 112,
            "min": 0,
            "orientation": "horizontal",
            "style": "IPY_MODEL_21c207b4306c4b609dc4867bd3fc1daf",
            "value": 112
          }
        },
        "49572e666a2d48dfa6d16b73027a1530": {
          "model_module": "@jupyter-widgets/controls",
          "model_name": "HTMLModel",
          "model_module_version": "1.5.0",
          "state": {
            "_dom_classes": [],
            "_model_module": "@jupyter-widgets/controls",
            "_model_module_version": "1.5.0",
            "_model_name": "HTMLModel",
            "_view_count": null,
            "_view_module": "@jupyter-widgets/controls",
            "_view_module_version": "1.5.0",
            "_view_name": "HTMLView",
            "description": "",
            "description_tooltip": null,
            "layout": "IPY_MODEL_5b6d7cf556ab4033a14b6dd718ed9d18",
            "placeholder": "​",
            "style": "IPY_MODEL_73eeb6cf81734fdb86bde52769b5f3cd",
            "value": " 112/112 [00:00&lt;00:00, 4.98kB/s]"
          }
        },
        "c8d2192b919d4bbf80e597faca58b1ff": {
          "model_module": "@jupyter-widgets/base",
          "model_name": "LayoutModel",
          "model_module_version": "1.2.0",
          "state": {
            "_model_module": "@jupyter-widgets/base",
            "_model_module_version": "1.2.0",
            "_model_name": "LayoutModel",
            "_view_count": null,
            "_view_module": "@jupyter-widgets/base",
            "_view_module_version": "1.2.0",
            "_view_name": "LayoutView",
            "align_content": null,
            "align_items": null,
            "align_self": null,
            "border": null,
            "bottom": null,
            "display": null,
            "flex": null,
            "flex_flow": null,
            "grid_area": null,
            "grid_auto_columns": null,
            "grid_auto_flow": null,
            "grid_auto_rows": null,
            "grid_column": null,
            "grid_gap": null,
            "grid_row": null,
            "grid_template_areas": null,
            "grid_template_columns": null,
            "grid_template_rows": null,
            "height": null,
            "justify_content": null,
            "justify_items": null,
            "left": null,
            "margin": null,
            "max_height": null,
            "max_width": null,
            "min_height": null,
            "min_width": null,
            "object_fit": null,
            "object_position": null,
            "order": null,
            "overflow": null,
            "overflow_x": null,
            "overflow_y": null,
            "padding": null,
            "right": null,
            "top": null,
            "visibility": null,
            "width": null
          }
        },
        "647644328ce94b758bc059142c19b31c": {
          "model_module": "@jupyter-widgets/base",
          "model_name": "LayoutModel",
          "model_module_version": "1.2.0",
          "state": {
            "_model_module": "@jupyter-widgets/base",
            "_model_module_version": "1.2.0",
            "_model_name": "LayoutModel",
            "_view_count": null,
            "_view_module": "@jupyter-widgets/base",
            "_view_module_version": "1.2.0",
            "_view_name": "LayoutView",
            "align_content": null,
            "align_items": null,
            "align_self": null,
            "border": null,
            "bottom": null,
            "display": null,
            "flex": null,
            "flex_flow": null,
            "grid_area": null,
            "grid_auto_columns": null,
            "grid_auto_flow": null,
            "grid_auto_rows": null,
            "grid_column": null,
            "grid_gap": null,
            "grid_row": null,
            "grid_template_areas": null,
            "grid_template_columns": null,
            "grid_template_rows": null,
            "height": null,
            "justify_content": null,
            "justify_items": null,
            "left": null,
            "margin": null,
            "max_height": null,
            "max_width": null,
            "min_height": null,
            "min_width": null,
            "object_fit": null,
            "object_position": null,
            "order": null,
            "overflow": null,
            "overflow_x": null,
            "overflow_y": null,
            "padding": null,
            "right": null,
            "top": null,
            "visibility": null,
            "width": null
          }
        },
        "66a206077ea54442ad5039b9a6c509f9": {
          "model_module": "@jupyter-widgets/controls",
          "model_name": "DescriptionStyleModel",
          "model_module_version": "1.5.0",
          "state": {
            "_model_module": "@jupyter-widgets/controls",
            "_model_module_version": "1.5.0",
            "_model_name": "DescriptionStyleModel",
            "_view_count": null,
            "_view_module": "@jupyter-widgets/base",
            "_view_module_version": "1.2.0",
            "_view_name": "StyleView",
            "description_width": ""
          }
        },
        "34627323aed94f9babbde4519668d8ed": {
          "model_module": "@jupyter-widgets/base",
          "model_name": "LayoutModel",
          "model_module_version": "1.2.0",
          "state": {
            "_model_module": "@jupyter-widgets/base",
            "_model_module_version": "1.2.0",
            "_model_name": "LayoutModel",
            "_view_count": null,
            "_view_module": "@jupyter-widgets/base",
            "_view_module_version": "1.2.0",
            "_view_name": "LayoutView",
            "align_content": null,
            "align_items": null,
            "align_self": null,
            "border": null,
            "bottom": null,
            "display": null,
            "flex": null,
            "flex_flow": null,
            "grid_area": null,
            "grid_auto_columns": null,
            "grid_auto_flow": null,
            "grid_auto_rows": null,
            "grid_column": null,
            "grid_gap": null,
            "grid_row": null,
            "grid_template_areas": null,
            "grid_template_columns": null,
            "grid_template_rows": null,
            "height": null,
            "justify_content": null,
            "justify_items": null,
            "left": null,
            "margin": null,
            "max_height": null,
            "max_width": null,
            "min_height": null,
            "min_width": null,
            "object_fit": null,
            "object_position": null,
            "order": null,
            "overflow": null,
            "overflow_x": null,
            "overflow_y": null,
            "padding": null,
            "right": null,
            "top": null,
            "visibility": null,
            "width": null
          }
        },
        "21c207b4306c4b609dc4867bd3fc1daf": {
          "model_module": "@jupyter-widgets/controls",
          "model_name": "ProgressStyleModel",
          "model_module_version": "1.5.0",
          "state": {
            "_model_module": "@jupyter-widgets/controls",
            "_model_module_version": "1.5.0",
            "_model_name": "ProgressStyleModel",
            "_view_count": null,
            "_view_module": "@jupyter-widgets/base",
            "_view_module_version": "1.2.0",
            "_view_name": "StyleView",
            "bar_color": null,
            "description_width": ""
          }
        },
        "5b6d7cf556ab4033a14b6dd718ed9d18": {
          "model_module": "@jupyter-widgets/base",
          "model_name": "LayoutModel",
          "model_module_version": "1.2.0",
          "state": {
            "_model_module": "@jupyter-widgets/base",
            "_model_module_version": "1.2.0",
            "_model_name": "LayoutModel",
            "_view_count": null,
            "_view_module": "@jupyter-widgets/base",
            "_view_module_version": "1.2.0",
            "_view_name": "LayoutView",
            "align_content": null,
            "align_items": null,
            "align_self": null,
            "border": null,
            "bottom": null,
            "display": null,
            "flex": null,
            "flex_flow": null,
            "grid_area": null,
            "grid_auto_columns": null,
            "grid_auto_flow": null,
            "grid_auto_rows": null,
            "grid_column": null,
            "grid_gap": null,
            "grid_row": null,
            "grid_template_areas": null,
            "grid_template_columns": null,
            "grid_template_rows": null,
            "height": null,
            "justify_content": null,
            "justify_items": null,
            "left": null,
            "margin": null,
            "max_height": null,
            "max_width": null,
            "min_height": null,
            "min_width": null,
            "object_fit": null,
            "object_position": null,
            "order": null,
            "overflow": null,
            "overflow_x": null,
            "overflow_y": null,
            "padding": null,
            "right": null,
            "top": null,
            "visibility": null,
            "width": null
          }
        },
        "73eeb6cf81734fdb86bde52769b5f3cd": {
          "model_module": "@jupyter-widgets/controls",
          "model_name": "DescriptionStyleModel",
          "model_module_version": "1.5.0",
          "state": {
            "_model_module": "@jupyter-widgets/controls",
            "_model_module_version": "1.5.0",
            "_model_name": "DescriptionStyleModel",
            "_view_count": null,
            "_view_module": "@jupyter-widgets/base",
            "_view_module_version": "1.2.0",
            "_view_name": "StyleView",
            "description_width": ""
          }
        },
        "bab692212b3545e5ac5dd9bff2cd9e34": {
          "model_module": "@jupyter-widgets/controls",
          "model_name": "HBoxModel",
          "model_module_version": "1.5.0",
          "state": {
            "_dom_classes": [],
            "_model_module": "@jupyter-widgets/controls",
            "_model_module_version": "1.5.0",
            "_model_name": "HBoxModel",
            "_view_count": null,
            "_view_module": "@jupyter-widgets/controls",
            "_view_module_version": "1.5.0",
            "_view_name": "HBoxView",
            "box_style": "",
            "children": [
              "IPY_MODEL_bb943e4c8c2c48cd8e64cfef740d65a8",
              "IPY_MODEL_49b78a0c60ce4af2bb326a8720b25fc4",
              "IPY_MODEL_a9add52b8a434a4f8cd059f0be31d5a8"
            ],
            "layout": "IPY_MODEL_77a9616f31cd41d0bbd2d4efbf15f5b6"
          }
        },
        "bb943e4c8c2c48cd8e64cfef740d65a8": {
          "model_module": "@jupyter-widgets/controls",
          "model_name": "HTMLModel",
          "model_module_version": "1.5.0",
          "state": {
            "_dom_classes": [],
            "_model_module": "@jupyter-widgets/controls",
            "_model_module_version": "1.5.0",
            "_model_name": "HTMLModel",
            "_view_count": null,
            "_view_module": "@jupyter-widgets/controls",
            "_view_module_version": "1.5.0",
            "_view_name": "HTMLView",
            "description": "",
            "description_tooltip": null,
            "layout": "IPY_MODEL_3efba501e0ea400abac1637edbb8af46",
            "placeholder": "​",
            "style": "IPY_MODEL_d261474359ff4576ac024510acf60a94",
            "value": "1_Pooling/config.json: 100%"
          }
        },
        "49b78a0c60ce4af2bb326a8720b25fc4": {
          "model_module": "@jupyter-widgets/controls",
          "model_name": "FloatProgressModel",
          "model_module_version": "1.5.0",
          "state": {
            "_dom_classes": [],
            "_model_module": "@jupyter-widgets/controls",
            "_model_module_version": "1.5.0",
            "_model_name": "FloatProgressModel",
            "_view_count": null,
            "_view_module": "@jupyter-widgets/controls",
            "_view_module_version": "1.5.0",
            "_view_name": "ProgressView",
            "bar_style": "success",
            "description": "",
            "description_tooltip": null,
            "layout": "IPY_MODEL_f8f7c6aee0dc4586b5d2f92845f7e78e",
            "max": 190,
            "min": 0,
            "orientation": "horizontal",
            "style": "IPY_MODEL_f1902d0f1c47474b8ae95d7e895110c7",
            "value": 190
          }
        },
        "a9add52b8a434a4f8cd059f0be31d5a8": {
          "model_module": "@jupyter-widgets/controls",
          "model_name": "HTMLModel",
          "model_module_version": "1.5.0",
          "state": {
            "_dom_classes": [],
            "_model_module": "@jupyter-widgets/controls",
            "_model_module_version": "1.5.0",
            "_model_name": "HTMLModel",
            "_view_count": null,
            "_view_module": "@jupyter-widgets/controls",
            "_view_module_version": "1.5.0",
            "_view_name": "HTMLView",
            "description": "",
            "description_tooltip": null,
            "layout": "IPY_MODEL_1ba33808ae3d4486b29f043b5c4a70c1",
            "placeholder": "​",
            "style": "IPY_MODEL_d1d1c559368b4730a49cc574c7af5b14",
            "value": " 190/190 [00:00&lt;00:00, 8.49kB/s]"
          }
        },
        "77a9616f31cd41d0bbd2d4efbf15f5b6": {
          "model_module": "@jupyter-widgets/base",
          "model_name": "LayoutModel",
          "model_module_version": "1.2.0",
          "state": {
            "_model_module": "@jupyter-widgets/base",
            "_model_module_version": "1.2.0",
            "_model_name": "LayoutModel",
            "_view_count": null,
            "_view_module": "@jupyter-widgets/base",
            "_view_module_version": "1.2.0",
            "_view_name": "LayoutView",
            "align_content": null,
            "align_items": null,
            "align_self": null,
            "border": null,
            "bottom": null,
            "display": null,
            "flex": null,
            "flex_flow": null,
            "grid_area": null,
            "grid_auto_columns": null,
            "grid_auto_flow": null,
            "grid_auto_rows": null,
            "grid_column": null,
            "grid_gap": null,
            "grid_row": null,
            "grid_template_areas": null,
            "grid_template_columns": null,
            "grid_template_rows": null,
            "height": null,
            "justify_content": null,
            "justify_items": null,
            "left": null,
            "margin": null,
            "max_height": null,
            "max_width": null,
            "min_height": null,
            "min_width": null,
            "object_fit": null,
            "object_position": null,
            "order": null,
            "overflow": null,
            "overflow_x": null,
            "overflow_y": null,
            "padding": null,
            "right": null,
            "top": null,
            "visibility": null,
            "width": null
          }
        },
        "3efba501e0ea400abac1637edbb8af46": {
          "model_module": "@jupyter-widgets/base",
          "model_name": "LayoutModel",
          "model_module_version": "1.2.0",
          "state": {
            "_model_module": "@jupyter-widgets/base",
            "_model_module_version": "1.2.0",
            "_model_name": "LayoutModel",
            "_view_count": null,
            "_view_module": "@jupyter-widgets/base",
            "_view_module_version": "1.2.0",
            "_view_name": "LayoutView",
            "align_content": null,
            "align_items": null,
            "align_self": null,
            "border": null,
            "bottom": null,
            "display": null,
            "flex": null,
            "flex_flow": null,
            "grid_area": null,
            "grid_auto_columns": null,
            "grid_auto_flow": null,
            "grid_auto_rows": null,
            "grid_column": null,
            "grid_gap": null,
            "grid_row": null,
            "grid_template_areas": null,
            "grid_template_columns": null,
            "grid_template_rows": null,
            "height": null,
            "justify_content": null,
            "justify_items": null,
            "left": null,
            "margin": null,
            "max_height": null,
            "max_width": null,
            "min_height": null,
            "min_width": null,
            "object_fit": null,
            "object_position": null,
            "order": null,
            "overflow": null,
            "overflow_x": null,
            "overflow_y": null,
            "padding": null,
            "right": null,
            "top": null,
            "visibility": null,
            "width": null
          }
        },
        "d261474359ff4576ac024510acf60a94": {
          "model_module": "@jupyter-widgets/controls",
          "model_name": "DescriptionStyleModel",
          "model_module_version": "1.5.0",
          "state": {
            "_model_module": "@jupyter-widgets/controls",
            "_model_module_version": "1.5.0",
            "_model_name": "DescriptionStyleModel",
            "_view_count": null,
            "_view_module": "@jupyter-widgets/base",
            "_view_module_version": "1.2.0",
            "_view_name": "StyleView",
            "description_width": ""
          }
        },
        "f8f7c6aee0dc4586b5d2f92845f7e78e": {
          "model_module": "@jupyter-widgets/base",
          "model_name": "LayoutModel",
          "model_module_version": "1.2.0",
          "state": {
            "_model_module": "@jupyter-widgets/base",
            "_model_module_version": "1.2.0",
            "_model_name": "LayoutModel",
            "_view_count": null,
            "_view_module": "@jupyter-widgets/base",
            "_view_module_version": "1.2.0",
            "_view_name": "LayoutView",
            "align_content": null,
            "align_items": null,
            "align_self": null,
            "border": null,
            "bottom": null,
            "display": null,
            "flex": null,
            "flex_flow": null,
            "grid_area": null,
            "grid_auto_columns": null,
            "grid_auto_flow": null,
            "grid_auto_rows": null,
            "grid_column": null,
            "grid_gap": null,
            "grid_row": null,
            "grid_template_areas": null,
            "grid_template_columns": null,
            "grid_template_rows": null,
            "height": null,
            "justify_content": null,
            "justify_items": null,
            "left": null,
            "margin": null,
            "max_height": null,
            "max_width": null,
            "min_height": null,
            "min_width": null,
            "object_fit": null,
            "object_position": null,
            "order": null,
            "overflow": null,
            "overflow_x": null,
            "overflow_y": null,
            "padding": null,
            "right": null,
            "top": null,
            "visibility": null,
            "width": null
          }
        },
        "f1902d0f1c47474b8ae95d7e895110c7": {
          "model_module": "@jupyter-widgets/controls",
          "model_name": "ProgressStyleModel",
          "model_module_version": "1.5.0",
          "state": {
            "_model_module": "@jupyter-widgets/controls",
            "_model_module_version": "1.5.0",
            "_model_name": "ProgressStyleModel",
            "_view_count": null,
            "_view_module": "@jupyter-widgets/base",
            "_view_module_version": "1.2.0",
            "_view_name": "StyleView",
            "bar_color": null,
            "description_width": ""
          }
        },
        "1ba33808ae3d4486b29f043b5c4a70c1": {
          "model_module": "@jupyter-widgets/base",
          "model_name": "LayoutModel",
          "model_module_version": "1.2.0",
          "state": {
            "_model_module": "@jupyter-widgets/base",
            "_model_module_version": "1.2.0",
            "_model_name": "LayoutModel",
            "_view_count": null,
            "_view_module": "@jupyter-widgets/base",
            "_view_module_version": "1.2.0",
            "_view_name": "LayoutView",
            "align_content": null,
            "align_items": null,
            "align_self": null,
            "border": null,
            "bottom": null,
            "display": null,
            "flex": null,
            "flex_flow": null,
            "grid_area": null,
            "grid_auto_columns": null,
            "grid_auto_flow": null,
            "grid_auto_rows": null,
            "grid_column": null,
            "grid_gap": null,
            "grid_row": null,
            "grid_template_areas": null,
            "grid_template_columns": null,
            "grid_template_rows": null,
            "height": null,
            "justify_content": null,
            "justify_items": null,
            "left": null,
            "margin": null,
            "max_height": null,
            "max_width": null,
            "min_height": null,
            "min_width": null,
            "object_fit": null,
            "object_position": null,
            "order": null,
            "overflow": null,
            "overflow_x": null,
            "overflow_y": null,
            "padding": null,
            "right": null,
            "top": null,
            "visibility": null,
            "width": null
          }
        },
        "d1d1c559368b4730a49cc574c7af5b14": {
          "model_module": "@jupyter-widgets/controls",
          "model_name": "DescriptionStyleModel",
          "model_module_version": "1.5.0",
          "state": {
            "_model_module": "@jupyter-widgets/controls",
            "_model_module_version": "1.5.0",
            "_model_name": "DescriptionStyleModel",
            "_view_count": null,
            "_view_module": "@jupyter-widgets/base",
            "_view_module_version": "1.2.0",
            "_view_name": "StyleView",
            "description_width": ""
          }
        }
      }
    }
  },
  "nbformat": 4,
  "nbformat_minor": 5
}