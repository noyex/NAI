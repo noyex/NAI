{
  "cells": [
    {
      "cell_type": "code",
      "execution_count": 16,
      "id": "4f7bc412b663c966",
      "metadata": {
        "colab": {
          "base_uri": "https://localhost:8080/"
        },
        "id": "4f7bc412b663c966",
        "outputId": "accf14eb-b47d-404e-f1a2-edd14a83dc4c"
      },
      "outputs": [
        {
          "output_type": "stream",
          "name": "stdout",
          "text": [
            "Requirement already satisfied: transformers in /usr/local/lib/python3.11/dist-packages (4.47.1)\n",
            "Requirement already satisfied: torch in /usr/local/lib/python3.11/dist-packages (2.5.1+cu121)\n",
            "Requirement already satisfied: langchain-community in /usr/local/lib/python3.11/dist-packages (0.3.15)\n",
            "Requirement already satisfied: youtube_transcript_api in /usr/local/lib/python3.11/dist-packages (0.6.3)\n",
            "Requirement already satisfied: filelock in /usr/local/lib/python3.11/dist-packages (from transformers) (3.16.1)\n",
            "Requirement already satisfied: huggingface-hub<1.0,>=0.24.0 in /usr/local/lib/python3.11/dist-packages (from transformers) (0.27.1)\n",
            "Requirement already satisfied: numpy>=1.17 in /usr/local/lib/python3.11/dist-packages (from transformers) (1.26.4)\n",
            "Requirement already satisfied: packaging>=20.0 in /usr/local/lib/python3.11/dist-packages (from transformers) (24.2)\n",
            "Requirement already satisfied: pyyaml>=5.1 in /usr/local/lib/python3.11/dist-packages (from transformers) (6.0.2)\n",
            "Requirement already satisfied: regex!=2019.12.17 in /usr/local/lib/python3.11/dist-packages (from transformers) (2024.11.6)\n",
            "Requirement already satisfied: requests in /usr/local/lib/python3.11/dist-packages (from transformers) (2.32.3)\n",
            "Requirement already satisfied: tokenizers<0.22,>=0.21 in /usr/local/lib/python3.11/dist-packages (from transformers) (0.21.0)\n",
            "Requirement already satisfied: safetensors>=0.4.1 in /usr/local/lib/python3.11/dist-packages (from transformers) (0.5.2)\n",
            "Requirement already satisfied: tqdm>=4.27 in /usr/local/lib/python3.11/dist-packages (from transformers) (4.67.1)\n",
            "Requirement already satisfied: typing-extensions>=4.8.0 in /usr/local/lib/python3.11/dist-packages (from torch) (4.12.2)\n",
            "Requirement already satisfied: networkx in /usr/local/lib/python3.11/dist-packages (from torch) (3.4.2)\n",
            "Requirement already satisfied: jinja2 in /usr/local/lib/python3.11/dist-packages (from torch) (3.1.5)\n",
            "Requirement already satisfied: fsspec in /usr/local/lib/python3.11/dist-packages (from torch) (2024.10.0)\n",
            "Requirement already satisfied: nvidia-cuda-nvrtc-cu12==12.1.105 in /usr/local/lib/python3.11/dist-packages (from torch) (12.1.105)\n",
            "Requirement already satisfied: nvidia-cuda-runtime-cu12==12.1.105 in /usr/local/lib/python3.11/dist-packages (from torch) (12.1.105)\n",
            "Requirement already satisfied: nvidia-cuda-cupti-cu12==12.1.105 in /usr/local/lib/python3.11/dist-packages (from torch) (12.1.105)\n",
            "Requirement already satisfied: nvidia-cudnn-cu12==9.1.0.70 in /usr/local/lib/python3.11/dist-packages (from torch) (9.1.0.70)\n",
            "Requirement already satisfied: nvidia-cublas-cu12==12.1.3.1 in /usr/local/lib/python3.11/dist-packages (from torch) (12.1.3.1)\n",
            "Requirement already satisfied: nvidia-cufft-cu12==11.0.2.54 in /usr/local/lib/python3.11/dist-packages (from torch) (11.0.2.54)\n",
            "Requirement already satisfied: nvidia-curand-cu12==10.3.2.106 in /usr/local/lib/python3.11/dist-packages (from torch) (10.3.2.106)\n",
            "Requirement already satisfied: nvidia-cusolver-cu12==11.4.5.107 in /usr/local/lib/python3.11/dist-packages (from torch) (11.4.5.107)\n",
            "Requirement already satisfied: nvidia-cusparse-cu12==12.1.0.106 in /usr/local/lib/python3.11/dist-packages (from torch) (12.1.0.106)\n",
            "Requirement already satisfied: nvidia-nccl-cu12==2.21.5 in /usr/local/lib/python3.11/dist-packages (from torch) (2.21.5)\n",
            "Requirement already satisfied: nvidia-nvtx-cu12==12.1.105 in /usr/local/lib/python3.11/dist-packages (from torch) (12.1.105)\n",
            "Requirement already satisfied: triton==3.1.0 in /usr/local/lib/python3.11/dist-packages (from torch) (3.1.0)\n",
            "Requirement already satisfied: sympy==1.13.1 in /usr/local/lib/python3.11/dist-packages (from torch) (1.13.1)\n",
            "Requirement already satisfied: nvidia-nvjitlink-cu12 in /usr/local/lib/python3.11/dist-packages (from nvidia-cusolver-cu12==11.4.5.107->torch) (12.6.85)\n",
            "Requirement already satisfied: mpmath<1.4,>=1.1.0 in /usr/local/lib/python3.11/dist-packages (from sympy==1.13.1->torch) (1.3.0)\n",
            "Requirement already satisfied: SQLAlchemy<3,>=1.4 in /usr/local/lib/python3.11/dist-packages (from langchain-community) (2.0.37)\n",
            "Requirement already satisfied: aiohttp<4.0.0,>=3.8.3 in /usr/local/lib/python3.11/dist-packages (from langchain-community) (3.11.11)\n",
            "Requirement already satisfied: dataclasses-json<0.7,>=0.5.7 in /usr/local/lib/python3.11/dist-packages (from langchain-community) (0.6.7)\n",
            "Requirement already satisfied: httpx-sse<0.5.0,>=0.4.0 in /usr/local/lib/python3.11/dist-packages (from langchain-community) (0.4.0)\n",
            "Requirement already satisfied: langchain<0.4.0,>=0.3.15 in /usr/local/lib/python3.11/dist-packages (from langchain-community) (0.3.15)\n",
            "Requirement already satisfied: langchain-core<0.4.0,>=0.3.31 in /usr/local/lib/python3.11/dist-packages (from langchain-community) (0.3.31)\n",
            "Requirement already satisfied: langsmith<0.4,>=0.1.125 in /usr/local/lib/python3.11/dist-packages (from langchain-community) (0.2.10)\n",
            "Requirement already satisfied: pydantic-settings<3.0.0,>=2.4.0 in /usr/local/lib/python3.11/dist-packages (from langchain-community) (2.7.1)\n",
            "Requirement already satisfied: tenacity!=8.4.0,<10,>=8.1.0 in /usr/local/lib/python3.11/dist-packages (from langchain-community) (9.0.0)\n",
            "Requirement already satisfied: defusedxml<0.8.0,>=0.7.1 in /usr/local/lib/python3.11/dist-packages (from youtube_transcript_api) (0.7.1)\n",
            "Requirement already satisfied: aiohappyeyeballs>=2.3.0 in /usr/local/lib/python3.11/dist-packages (from aiohttp<4.0.0,>=3.8.3->langchain-community) (2.4.4)\n",
            "Requirement already satisfied: aiosignal>=1.1.2 in /usr/local/lib/python3.11/dist-packages (from aiohttp<4.0.0,>=3.8.3->langchain-community) (1.3.2)\n",
            "Requirement already satisfied: attrs>=17.3.0 in /usr/local/lib/python3.11/dist-packages (from aiohttp<4.0.0,>=3.8.3->langchain-community) (24.3.0)\n",
            "Requirement already satisfied: frozenlist>=1.1.1 in /usr/local/lib/python3.11/dist-packages (from aiohttp<4.0.0,>=3.8.3->langchain-community) (1.5.0)\n",
            "Requirement already satisfied: multidict<7.0,>=4.5 in /usr/local/lib/python3.11/dist-packages (from aiohttp<4.0.0,>=3.8.3->langchain-community) (6.1.0)\n",
            "Requirement already satisfied: propcache>=0.2.0 in /usr/local/lib/python3.11/dist-packages (from aiohttp<4.0.0,>=3.8.3->langchain-community) (0.2.1)\n",
            "Requirement already satisfied: yarl<2.0,>=1.17.0 in /usr/local/lib/python3.11/dist-packages (from aiohttp<4.0.0,>=3.8.3->langchain-community) (1.18.3)\n",
            "Requirement already satisfied: marshmallow<4.0.0,>=3.18.0 in /usr/local/lib/python3.11/dist-packages (from dataclasses-json<0.7,>=0.5.7->langchain-community) (3.25.1)\n",
            "Requirement already satisfied: typing-inspect<1,>=0.4.0 in /usr/local/lib/python3.11/dist-packages (from dataclasses-json<0.7,>=0.5.7->langchain-community) (0.9.0)\n",
            "Requirement already satisfied: langchain-text-splitters<0.4.0,>=0.3.3 in /usr/local/lib/python3.11/dist-packages (from langchain<0.4.0,>=0.3.15->langchain-community) (0.3.5)\n",
            "Requirement already satisfied: pydantic<3.0.0,>=2.7.4 in /usr/local/lib/python3.11/dist-packages (from langchain<0.4.0,>=0.3.15->langchain-community) (2.10.5)\n",
            "Requirement already satisfied: jsonpatch<2.0,>=1.33 in /usr/local/lib/python3.11/dist-packages (from langchain-core<0.4.0,>=0.3.31->langchain-community) (1.33)\n",
            "Requirement already satisfied: httpx<1,>=0.23.0 in /usr/local/lib/python3.11/dist-packages (from langsmith<0.4,>=0.1.125->langchain-community) (0.28.1)\n",
            "Requirement already satisfied: orjson<4.0.0,>=3.9.14 in /usr/local/lib/python3.11/dist-packages (from langsmith<0.4,>=0.1.125->langchain-community) (3.10.14)\n",
            "Requirement already satisfied: requests-toolbelt<2.0.0,>=1.0.0 in /usr/local/lib/python3.11/dist-packages (from langsmith<0.4,>=0.1.125->langchain-community) (1.0.0)\n",
            "Requirement already satisfied: python-dotenv>=0.21.0 in /usr/local/lib/python3.11/dist-packages (from pydantic-settings<3.0.0,>=2.4.0->langchain-community) (1.0.1)\n",
            "Requirement already satisfied: charset-normalizer<4,>=2 in /usr/local/lib/python3.11/dist-packages (from requests->transformers) (3.4.1)\n",
            "Requirement already satisfied: idna<4,>=2.5 in /usr/local/lib/python3.11/dist-packages (from requests->transformers) (3.10)\n",
            "Requirement already satisfied: urllib3<3,>=1.21.1 in /usr/local/lib/python3.11/dist-packages (from requests->transformers) (2.3.0)\n",
            "Requirement already satisfied: certifi>=2017.4.17 in /usr/local/lib/python3.11/dist-packages (from requests->transformers) (2024.12.14)\n",
            "Requirement already satisfied: greenlet!=0.4.17 in /usr/local/lib/python3.11/dist-packages (from SQLAlchemy<3,>=1.4->langchain-community) (3.1.1)\n",
            "Requirement already satisfied: MarkupSafe>=2.0 in /usr/local/lib/python3.11/dist-packages (from jinja2->torch) (3.0.2)\n",
            "Requirement already satisfied: anyio in /usr/local/lib/python3.11/dist-packages (from httpx<1,>=0.23.0->langsmith<0.4,>=0.1.125->langchain-community) (3.7.1)\n",
            "Requirement already satisfied: httpcore==1.* in /usr/local/lib/python3.11/dist-packages (from httpx<1,>=0.23.0->langsmith<0.4,>=0.1.125->langchain-community) (1.0.7)\n",
            "Requirement already satisfied: h11<0.15,>=0.13 in /usr/local/lib/python3.11/dist-packages (from httpcore==1.*->httpx<1,>=0.23.0->langsmith<0.4,>=0.1.125->langchain-community) (0.14.0)\n",
            "Requirement already satisfied: jsonpointer>=1.9 in /usr/local/lib/python3.11/dist-packages (from jsonpatch<2.0,>=1.33->langchain-core<0.4.0,>=0.3.31->langchain-community) (3.0.0)\n",
            "Requirement already satisfied: annotated-types>=0.6.0 in /usr/local/lib/python3.11/dist-packages (from pydantic<3.0.0,>=2.7.4->langchain<0.4.0,>=0.3.15->langchain-community) (0.7.0)\n",
            "Requirement already satisfied: pydantic-core==2.27.2 in /usr/local/lib/python3.11/dist-packages (from pydantic<3.0.0,>=2.7.4->langchain<0.4.0,>=0.3.15->langchain-community) (2.27.2)\n",
            "Requirement already satisfied: mypy-extensions>=0.3.0 in /usr/local/lib/python3.11/dist-packages (from typing-inspect<1,>=0.4.0->dataclasses-json<0.7,>=0.5.7->langchain-community) (1.0.0)\n",
            "Requirement already satisfied: sniffio>=1.1 in /usr/local/lib/python3.11/dist-packages (from anyio->httpx<1,>=0.23.0->langsmith<0.4,>=0.1.125->langchain-community) (1.3.1)\n"
          ]
        }
      ],
      "source": [
        "pip install  transformers torch langchain-community youtube_transcript_api"
      ]
    },
    {
      "cell_type": "markdown",
      "id": "f0ab1ffe0969f2cf",
      "metadata": {
        "id": "f0ab1ffe0969f2cf"
      },
      "source": [
        "# 1. RAG - Porozmawiaj z danymi\n",
        "Można użyć `document_loaders` z biblioteki `langchain-community` żeby załadować różne typy danych i \"porozmawiać z nimi\" używając LLMów.\n",
        "\n",
        "Biblioteka `langchain-community` oferuje wiele różnych loaderów, między innymi:\n",
        "- [Web](https://python.langchain.com/docs/integrations/document_loaders/web_base/)\n",
        "- [Twitter](https://python.langchain.com/docs/integrations/document_loaders/twitter/)\n",
        "- [Discord](https://python.langchain.com/docs/integrations/document_loaders/discord/)\n",
        "- [Github](https://python.langchain.com/docs/integrations/document_loaders/github/)\n",
        "- [CSV](https://python.langchain.com/docs/integrations/document_loaders/csv/)\n",
        "- [Youtube](https://python.langchain.com/docs/integrations/document_loaders/youtube_transcript/)\n",
        "\n",
        "i wiele więcej."
      ]
    },
    {
      "cell_type": "markdown",
      "id": "e9ab046b467f5f36",
      "metadata": {
        "id": "e9ab046b467f5f36"
      },
      "source": [
        "### Zaimportować Loader\n",
        "Na początek trzeba zaimportować odpowiedni moduł z `langchain_community.document_loaders`. [Tutaj](https://python.langchain.com/docs/integrations/document_loaders/) można znaleźć wszystkie dostępne opcje.\n",
        "\n",
        "Niektóre loadery wymagają dodatkowych dependencji które trzeba samodzielnie doinstalować."
      ]
    },
    {
      "cell_type": "code",
      "execution_count": 17,
      "id": "1bc2797b90900050",
      "metadata": {
        "id": "1bc2797b90900050"
      },
      "outputs": [],
      "source": [
        "from langchain.document_loaders import PyPDFLoader"
      ]
    },
    {
      "cell_type": "markdown",
      "id": "bcc660e5e921fa17",
      "metadata": {
        "id": "bcc660e5e921fa17"
      },
      "source": [
        "### Załadować dane\n",
        "Stworzyć loader i użyć metody `load` żeby załadować dane."
      ]
    },
    {
      "cell_type": "code",
      "execution_count": 18,
      "id": "5b60d0175f129e92",
      "metadata": {
        "id": "5b60d0175f129e92"
      },
      "outputs": [],
      "source": [
        "loader = PyPDFLoader(file_path=\"zaliczenie.pdf\")\n",
        "\n",
        "data = loader.load()"
      ]
    },
    {
      "cell_type": "markdown",
      "id": "aa1bbdeb75b7e7ea",
      "metadata": {
        "id": "aa1bbdeb75b7e7ea"
      },
      "source": [
        "### Załadować Model"
      ]
    },
    {
      "cell_type": "code",
      "execution_count": 35,
      "id": "6e93717772620649",
      "metadata": {
        "id": "6e93717772620649",
        "outputId": "e7da9bfd-c999-478c-da17-30d3eeef417e",
        "colab": {
          "base_uri": "https://localhost:8080/",
          "height": 209,
          "referenced_widgets": [
            "9511d476d96d468b83cce284f568f71b",
            "18d2287cdd0c4f81b9db41580a689898",
            "c702fc8f29e84813b88449336656de57",
            "99818aa163fc4ba6b60e282716731f30",
            "3d6caa4b08e0433692de5e9ebe12d4b7",
            "e2546d4b48df4bddb2747ea24537f155",
            "e08ea9f256b5427984336e7d3f5f0d8d",
            "da9bb0e764f44d71a5c00c40a3097d39",
            "fda911a4af4a41f5b78282c240291133",
            "fc890f8d36df42a8b8f96413af4cb1dd",
            "8960af3c340a4eb0bef18ea2dedf021f",
            "84bbea23bbe74957894bbe49b8dc406e",
            "dfb0d868d6a44e9e80cf5342771ef703",
            "4ad86db602564fdaa96513bad6223711",
            "7b56d200d4b64b64bfbd7420e09c0055",
            "802abce2624a4b18aa129d98d099f112",
            "c8e1eb7d19934896b10a54b5e8c9a962",
            "f6620ed04025412d858ca7cfbcaf14d4",
            "f61780ee57bc498fa0e42344d2b19a13",
            "6b317bf44e1b4915929c356cf56fdeee",
            "b9dcca232be64956b28dc5c6b8952abb",
            "4833f4956cb64fc08ef79d68e7a0e3f3",
            "20bae3be640d4e2ca74cae539e3151a3",
            "4be52043b759455eb97cf9dfc5294090",
            "480e6c0efe074d6ebd7d7683385eaf50",
            "6cd4490afce54da89b6ee7f034373fbe",
            "97ddcdca9db44ad09746f80593052e6b",
            "6d2ad2677bc344208052e5d7eaabfffc",
            "116137c92e4f46408d6f39571488225c",
            "681ab7713b414073890cb33c39c9f899",
            "9b11561d7bbc466284ef61bd3c8b0b90",
            "cda0ce64ba8d45a4a32276d4f27615d7",
            "4458247aa4234dff97976db9dc8ae769",
            "1cac9b8a826947d3a9b839325a9fe957",
            "eb902433cb0248f9abcfdfc57161ecc8",
            "e99377da80784d9f800b7e423e0f9c7f",
            "599d047529b24018a2ca5c93d9fcaf9d",
            "793ba2edad5c467da9f5237cebd126d5",
            "f08684cabe3d4d5e92742da5bbe60db1",
            "b0d828a8f8704b5aaf7cd2fd728183ac",
            "6bf5cfceecd64be2b3120093cb1e3e2d",
            "79266927e156430da1ad76832b9a97db",
            "252e3a65ab3e4072836ed0c6d0d8535a",
            "b1541f662b3a4987894726d8325a948c",
            "5292bd6575894031a5e086a076f490b7",
            "851f0e7072e54ecb9222527f7c6b7007",
            "e792bb0c846749a686ed7c6ac87a2890",
            "6dc068b7885f41dd8f99d07dc0f2eaab",
            "6772a8ab25454a839d0440c33d674624",
            "fa2d46c2716746ae842555bc62873278",
            "d4cb62c071754ea99e406694a18bee08",
            "1cedd4107e1648ada03ac0acf494dbad",
            "b59b3d1864dd49309f10ec6d1c769eed",
            "835f328c3972429bb02b1edd53499efd",
            "ce527ee8cdf24451be65459408de848b",
            "b8ce4685aa6448c798f5a1f016214915",
            "a9f08e1c681a41768e06cd0f9508f330",
            "9dfd7f1c70264f24bd60f8cf0e90791f",
            "4b892f95671b4bebb70d7e5ab6366f77",
            "01f86eea8da14cc99ea47c80e91e0eff",
            "fe0ffdb4e05944b4b68d9f9443377f68",
            "d3be67f25d154e7fb89faa03d5e4568b",
            "105682d74a1a43ceb835a9fdb1133a9f",
            "2e29a321e2674e3bb128b5b1d860918c",
            "6acea99a08ed4a1db60cb1c23b12c571",
            "26c986283f4d4195851bf07a76359bab"
          ]
        }
      },
      "outputs": [
        {
          "output_type": "display_data",
          "data": {
            "text/plain": [
              "tokenizer_config.json:   0%|          | 0.00/54.7k [00:00<?, ?B/s]"
            ],
            "application/vnd.jupyter.widget-view+json": {
              "version_major": 2,
              "version_minor": 0,
              "model_id": "9511d476d96d468b83cce284f568f71b"
            }
          },
          "metadata": {}
        },
        {
          "output_type": "display_data",
          "data": {
            "text/plain": [
              "tokenizer.json:   0%|          | 0.00/17.2M [00:00<?, ?B/s]"
            ],
            "application/vnd.jupyter.widget-view+json": {
              "version_major": 2,
              "version_minor": 0,
              "model_id": "84bbea23bbe74957894bbe49b8dc406e"
            }
          },
          "metadata": {}
        },
        {
          "output_type": "display_data",
          "data": {
            "text/plain": [
              "special_tokens_map.json:   0%|          | 0.00/454 [00:00<?, ?B/s]"
            ],
            "application/vnd.jupyter.widget-view+json": {
              "version_major": 2,
              "version_minor": 0,
              "model_id": "20bae3be640d4e2ca74cae539e3151a3"
            }
          },
          "metadata": {}
        },
        {
          "output_type": "display_data",
          "data": {
            "text/plain": [
              "config.json:   0%|          | 0.00/978 [00:00<?, ?B/s]"
            ],
            "application/vnd.jupyter.widget-view+json": {
              "version_major": 2,
              "version_minor": 0,
              "model_id": "1cac9b8a826947d3a9b839325a9fe957"
            }
          },
          "metadata": {}
        },
        {
          "output_type": "display_data",
          "data": {
            "text/plain": [
              "model.safetensors:   0%|          | 0.00/2.47G [00:00<?, ?B/s]"
            ],
            "application/vnd.jupyter.widget-view+json": {
              "version_major": 2,
              "version_minor": 0,
              "model_id": "5292bd6575894031a5e086a076f490b7"
            }
          },
          "metadata": {}
        },
        {
          "output_type": "display_data",
          "data": {
            "text/plain": [
              "generation_config.json:   0%|          | 0.00/234 [00:00<?, ?B/s]"
            ],
            "application/vnd.jupyter.widget-view+json": {
              "version_major": 2,
              "version_minor": 0,
              "model_id": "b8ce4685aa6448c798f5a1f016214915"
            }
          },
          "metadata": {}
        }
      ],
      "source": [
        "# Load model directly\n",
        "from transformers import AutoTokenizer, AutoModelForCausalLM\n",
        "\n",
        "tokenizer = AutoTokenizer.from_pretrained(\"unsloth/Llama-3.2-1B-Instruct\")\n",
        "model = AutoModelForCausalLM.from_pretrained(\"unsloth/Llama-3.2-1B-Instruct\")"
      ]
    },
    {
      "cell_type": "markdown",
      "id": "4187e8ad67616e8f",
      "metadata": {
        "id": "4187e8ad67616e8f"
      },
      "source": [
        "### Zaimplementować funkcję `generate`\n"
      ]
    },
    {
      "cell_type": "code",
      "execution_count": 42,
      "id": "5d72303c4625c2c3",
      "metadata": {
        "id": "5d72303c4625c2c3"
      },
      "outputs": [],
      "source": [
        "def generate(prompt: str) -> str:\n",
        "    inputs = tokenizer(prompt, return_tensors=\"pt\")\n",
        "\n",
        "    outputs = model.generate(**inputs, max_new_tokens=256, temperature=0.7)\n",
        "\n",
        "    response = tokenizer.decode(outputs[0], skip_special_tokens=True)\n",
        "    return response\n"
      ]
    },
    {
      "cell_type": "code",
      "execution_count": 43,
      "id": "e58f7b5b2bf193fb",
      "metadata": {
        "id": "e58f7b5b2bf193fb",
        "outputId": "d689d2e4-adf6-4950-a0ea-187749eba6e6",
        "colab": {
          "base_uri": "https://localhost:8080/",
          "height": 122
        }
      },
      "outputs": [
        {
          "output_type": "execute_result",
          "data": {
            "text/plain": [
              "\"what is the fastest car? production car\\nThe fastest production car is the Bugatti Chiron Super Sport 300+, with a top speed of 330 mph (531 km/h). However, it's worth noting that this car is a one-off limited edition, and it's not intended for public sale.\\n\\nThe fastest production car that is currently available for public sale is the Hennessey Venom F5, with a top speed of 301 mph (484 km/h). However, it's also a one-off limited edition, and it's not intended for public sale.\\n\\nHere are some other fast production cars:\\n\\n* Koenigsegg Agera RS: 273 mph (439 km/h)\\n* Rimac C_Two: 258 mph (415 km/h)\\n* Pagani Huayra BC: 238 mph (383 km/h)\\n* SSC Tuatara: 238 mph (383 km/h)\\n* Aston Martin Valkyrie: 225 mph (362 km/h)\\n\\nNote: The top speeds listed are manufacturer-claimed, and may not be verified by independent sources.\\n\\nIt's worth noting that there are other contenders for the fastest production car, such as the:\\n\\n* McLaren Speedtail: 225 mph (362 km/h)\\n* Ferrari SF90 Stradale: \""
            ],
            "application/vnd.google.colaboratory.intrinsic+json": {
              "type": "string"
            }
          },
          "metadata": {},
          "execution_count": 43
        }
      ],
      "source": [
        "# Test the `generate` function\n",
        "generate(\"what is the fastest car?\")"
      ]
    },
    {
      "cell_type": "markdown",
      "id": "e6ed89b83521d067",
      "metadata": {
        "id": "e6ed89b83521d067"
      },
      "source": [
        "### Napisać prompt\n",
        "Napisać prompt bazowy na podstawie którego zostanie wygenerowana odpowiedź na `query` użytkownika w oparciu o dostępne dane."
      ]
    },
    {
      "cell_type": "code",
      "execution_count": 44,
      "id": "44af8a324d71cfe3",
      "metadata": {
        "id": "44af8a324d71cfe3"
      },
      "outputs": [],
      "source": [
        "BASE_PROMPT = \"\"\"\n",
        "You are an advanced assistant. Use the provided data to generate a precise and helpful response to the query below.\n",
        "\n",
        "Query: {query}\n",
        "\n",
        "Data:\n",
        "{data}\n",
        "\n",
        "Your response should be clear, concise, and directly address the query based on the data provided.\n",
        "\"\"\""
      ]
    },
    {
      "cell_type": "markdown",
      "id": "565704527b83fbfc",
      "metadata": {
        "id": "565704527b83fbfc"
      },
      "source": [
        "### Wygenerować odpowiedź"
      ]
    },
    {
      "cell_type": "code",
      "execution_count": 45,
      "id": "10a95bf7967552bb",
      "metadata": {
        "id": "10a95bf7967552bb"
      },
      "outputs": [],
      "source": [
        "query = \"Help me improve this project.\"\n",
        "prompt = BASE_PROMPT.format(query=query, data=data)"
      ]
    },
    {
      "cell_type": "code",
      "execution_count": 46,
      "id": "338cc51237e17f58",
      "metadata": {
        "id": "338cc51237e17f58",
        "outputId": "8baa3c5d-11f4-4141-c633-6936b4237c52",
        "colab": {
          "base_uri": "https://localhost:8080/",
          "height": 921
        }
      },
      "outputs": [
        {
          "output_type": "execute_result",
          "data": {
            "text/plain": [
              "\"\\nYou are an advanced assistant. Use the provided data to generate a precise and helpful response to the query below.\\n\\nQuery: Help me improve this project.\\n\\nData:\\n[Document(metadata={'source': 'zaliczenie.pdf', 'page': 0, 'page_label': '1'}, page_content='Wdrożenie innowacyjnej platformy Predictive Maintenance w \\\\nprzedsiębiorstwie produkcyjnym \\\\nMikołaj Szechniuk, Hubert Brzozowski, Kacper Miakinko \\\\n1. Wprowadzenie \\\\n1.1 Ogólna prezentacja kontekstu i problemu \\\\nW obliczu globalnej konkurencji i rosnących wymagań klientów \\\\nprzedsiębiorstwa produkcyjne potrzebują strategii pozwalających na \\\\nmaksymalizację dostępności maszyn oraz minimalizację kosztów napraw i \\\\nprzestojów. \\\\nTradycyjne podejście do utrzymania ruchu opiera się często na naprawach \\\\npoawaryjnych lub prewencyjnych w stałych odstępach czasu, co generuje \\\\nniepotrzebne koszty i nieprzewidywalne postoje. Rozwiązaniem jest wdrożenie \\\\nplatformy Predictive Maintenance, która, opierając się na danych z czujników \\\\nIoT oraz algorytmach uczenia maszynowego, pozwala przewidzieć awarie, a \\\\ntym samym planować konserwacje w sposób optymalny. \\\\n1.2 Prezentacja koncepcji innowacji \\\\nInnowacja to zaawansowana platforma do przewidywania awarii maszyn. \\\\nKluczowe elementy: \\\\n• Sensory IoT monitorujące w czasie rzeczywistym parametry pracy \\\\n(temperatura, wibracje, hałas). \\\\n• Algorytmy ML analizujące dane historyczne i bieżące, prognozujące \\\\nprawdopodobieństwo i czas wystąpienia awarii. \\\\n• Interfejsy webowe i mobilne dla działu utrzymania ruchu do zarządzania \\\\nplanami konserwacyjnymi, alertami i raportami. \\\\n1.3 Prezentacja środowiska wdrożenia \\\\nWdrożenie w średnim zakładzie produkcyjnym obróbki metali, posiadającym \\\\nlinie CNC i inne maszyny. Otoczenie: \\\\n• Różnorodny park maszynowy (nowe i starsze urządzenia), \\\\n• Infrastruktura sieciowa przemysłowa, \\\\n• Otwartość kadry zarządzającej i działu IT na innowacje. \\\\n \\\\n \\\\n \\\\n '), Document(metadata={'source': 'zaliczenie.pdf', 'page': 1, 'page_label': '2'}, page_content='Schematy obrazujące problemy i koncepcje \\\\nDiagram Ishikawy identyfikujący przyczyny nieplanowanych przestojów:\\\\n \\\\nFlowchart (uproszczony) procesu obecnego utrzymania ruchu: \\\\n \\\\n• W późniejszych sekcjach zostaną przedstawione analizy i wnioski potwierdzające \\\\nzasadność wdrożenia nowej platformy. \\\\n \\\\n'), Document(metadata={'source': 'zaliczenie.pdf', 'page': 2, 'page_label': '3'}, page_content='2. Analiza Strategiczna \\\\n2.1 Customer Journey Map (CJM) – Perspektywa działu utrzymania ruchu: \\\\n• Obecnie: Intuicyjne decyzje, brak precyzyjnych danych, niespodziewane awarie. \\\\n• Po wdrożeniu platformy: Dostęp do alertów i prognoz, planowanie przeglądów z \\\\nwyprzedzeniem, redukcja stresu i kosztów. \\\\n2.2 Model SWOT \\\\n• S (Mocne strony): Dostęp do nowoczesnych technologii IoT, wsparcie zarządu, \\\\nkompetencje działu IT. \\\\n• W (Słabe strony): Koszty początkowe, konieczność szkoleń, konieczność integracji z \\\\nistniejącymi systemami. \\\\n• O (Szanse): Popularność IoT, możliwość obniżenia kosztów i zwiększenia jakości. \\\\n• T (Zagrożenia): Konkurencja wdrażająca podobne rozwiązania, potencjalne \\\\nproblemy z bezpieczeństwem danych. \\\\n2.3 Model PESTLE \\\\n• P: Stabilne warunki polityczne, wsparcie programów innowacji. \\\\n• E: Presja kosztowa, potrzeba zwiększania efektywności. \\\\n• S: Klienci cenią terminowość i jakość dostaw. \\\\n• T: Dynamiczny rozwój IoT i ML. \\\\n• L: Normy bezpieczeństwa i RODO. \\\\n• E: Równowaga ekologiczna, oszczędność energii i materiałów. \\\\n2.4 Model 5 Sił Portera \\\\n• Nowi gracze: Bariery wejścia średnie, wymagana wiedza technologiczna. \\\\n• Dostawcy: Umiarkowana siła (dostawcy czujników i chmury). \\\\n• Nabywcy: Wewnętrzny dział utrzymania ruchu to odbiorca końcowy. \\\\n• Substytuty: Tradycyjne utrzymanie ruchu (mniej efektywne). \\\\n• Rywalizacja: Wzrost popularności rozwiązań Industry 4.0. \\\\n2.5 Business Canvas Model (kluczowe elementy) \\\\n• Kluczowe zasoby: Czujniki, infrastruktura IT, algorytmy ML, specjaliści IT. \\\\n• Działania: Gromadzenie i analiza danych, aktualizacja modeli ML, utrzymanie \\\\nsystemu. \\\\n• Wartość: Redukcja przestojów, optymalizacja konserwacji, mniejsze koszty. \\\\n• Relacje: Wewnętrzne wsparcie i szkolenia. \\\\n• Kanały: Interfejs platformy web/mobilnej, integracja z ERP. \\\\n• Koszty i przychody: Koszty wdrożenia i utrzymania vs. oszczędności z redukcji \\\\nawarii. \\\\n \\\\n '), Document(metadata={'source': 'zaliczenie.pdf', 'page': 3, 'page_label': '4'}, page_content='2.6 Macierz Kluczowych Czynników \\\\n• Innowacyjność (wysoka), Redukcja kosztów (wysoka), Skalowalność (średnia), \\\\nIntegracja (średnia). \\\\nPlatforma zapewnia wysoką wartość dodaną w kluczowych obszarach efektywności i \\\\ninnowacyjności. \\\\n2.7 Benchmarking \\\\nPorównanie z ofertami komercyjnymi: nasze rozwiązanie bardziej elastyczne, dostosowane \\\\ndo specyfiki maszyn, kontrola nad danymi i brak zależności od zewnętrznych dostawców. \\\\n2.8 Analiza ryzyka (Analiza wielokryterialna + Monte Carlo) \\\\nIdentyfikowane ryzyka: \\\\n• Awarie sieci – wpływ wysoki, prawdopodobieństwo średnie. \\\\n• Błędy algorytmów – wpływ umiarkowany, prawdopodobieństwo niskie. \\\\n• Opor personelu – wpływ średni, prawdopodobieństwo umiarkowane. \\\\nSymulacja Monte Carlo wykazała, że wdrożenie szkoleń i testów ograniczy \\\\nnegatywny wpływ do akceptowalnego poziomu. \\\\n \\\\n3. Strategia wdrożenia innowacji \\\\n3.1 Plan strategii rynkowej \\\\nChoć wdrożenie wewnętrzne, celem jest zwiększenie konkurencyjności i efektywności. W \\\\nprzyszłości rozważa się komercjalizację rozwiązania dla innych zakładów. \\\\n3.2 Plan struktury organizacyjnej \\\\n• Zespół ds. Predictive Maintenance: inżynier utrzymania ruchu, specjalista IoT, data \\\\nscientist. \\\\n• Raportowanie do kierownika działu produkcji. \\\\n• Ścisła współpraca z działem IT i jakości. \\\\n3.3 Plan kluczowych procesów \\\\n• Gromadzenie danych (IoT) → Analiza (ML) → Generowanie alertów → Decyzje o \\\\nkonserwacjach → Ciągłe doskonalenie modeli. \\\\n \\\\n \\\\n \\\\n \\\\n '), Document(metadata={'source': 'zaliczenie.pdf', 'page': 4, 'page_label': '5'}, page_content='Diagram procesu (Flowchart / UML Activity Diagram): \\\\n    \\\\n3.4 Plan procesu zarządzania przedsięwzięciem (Agile) \\\\n• Metodyka: Scrum \\\\n• Sprinty 2-tygodniowe, regularne spotkania, szybka reakcja na zmiany. \\\\n• Product Backlog: integracje czujników, modele ML, interfejs użytkownika. \\\\n3.5 Plan kontroli i zarządzania jakością \\\\n• KPI: redukcja nieplanowanych przestojów o 30%, dokładność prognoz >90%. \\\\n• Audyty danych, testy modeli, raportowanie kwartalne. \\\\n• Porównanie danych sprzed i po wdrożeniu. \\\\n \\\\n \\\\n'), Document(metadata={'source': 'zaliczenie.pdf', 'page': 5, 'page_label': '6'}, page_content='3.6 Harmonogram wdrożenia (Wykres Gantta – opis tekstowy) \\\\nHarmonogram obejmuje kluczowe etapy realizacji projektu Predictive Maintenance, \\\\npodzielone na logiczne sekcje i zadania. Poniżej znajduje się krótkie podsumowanie \\\\nposzczególnych etapów: \\\\n \\\\n1. Analiza i Przygotowanie (2025-01-01 – 2025-02-28) \\\\n• Analiza wymagań (2025-01-01 – 2025-02-15): Zbieranie danych, identyfikacja \\\\npotrzeb technicznych i procesowych. \\\\n• Zakup czujników (2025-02-16 – 2025-02-28): Nabycie odpowiedniego sprzętu IoT \\\\ndo monitorowania maszyn. \\\\n \\\\n2. Integracje Technologiczne (2025-03-01 – 2025-04-30) \\\\n• Integracja IoT (2025-03-01 – 2025-04-15): Połączenie czujników z platformą IoT \\\\noraz konfiguracja. \\\\n• Prototyp platformy (2025-03-10 – 2025-04-20): Budowa wstępnej wersji systemu \\\\n(frontend + backend). \\\\n• Pre-testy (2025-04-21 – 2025-04-30): Weryfikacja działania platformy w środowisku \\\\nlaboratoryjnym. \\\\n \\\\n3. Szkolenia i Optymalizacja (2025-05-01 – 2025-06-25) \\\\n• Szkolenia personelu (2025-05-01 – 2025-05-18): Przeprowadzenie warsztatów dla \\\\ndziału UR i zespołu IT. \\\\n• Optymalizacja algorytmów ML (2025-05-19 – 2025-06-17): Dostosowanie modeli \\\\npredykcyjnych do specyfiki danych maszynowych. \\\\n• Testy produkcyjne (2025-06-18 – 2025-06-30): Sprawdzenie systemu na \\\\nrzeczywistych danych z maszyn. \\\\n \\\\n4. Uruchomienie i Monitoring (2025-07-01 – 2025-07-31) \\\\n• Go live (2025-07-01 – 2025-07-05): Wdrożenie systemu w środowisku \\\\nprodukcyjnym. \\\\n• Monitoring i udoskonalenia (2025-07-06 – 2025-07-31): Ciągłe monitorowanie \\\\ndziałania systemu oraz implementacja usprawnień. \\\\n \\\\n \\\\n '), Document(metadata={'source': 'zaliczenie.pdf', 'page': 6, 'page_label': '7'}, page_content='Łączny czas realizacji: 7 miesięcy \\\\nProjekt zakłada sukcesywną realizację zadań od analizy wymagań do pełnego uruchomienia \\\\nsystemu Predictive Maintenance. Dzięki starannie zaplanowanemu harmonogramowi, każdy \\\\netap jest logicznie powiązany, co minimalizuje ryzyko opóźnień. \\\\n \\\\nPodsumowanie \\\\nWdrożenie platformy Predictive Maintenance jest uzasadnione i poparte solidnymi analizami \\\\n(SWOT, PESTLE, 5 Sił Portera, CJM, Benchmarking, Analiza ryzyka). Strategia zakłada \\\\nspójne działania organizacyjne, technologiczne i procesowe, a plany oraz harmonogram \\\\nwdrożenia uwzględniają kluczowe aspekty integracji, jakości oraz zarządzania ryzykiem. \\\\nDodane schematy, diagramy i wykres Gantta pozwalają w pełni zrozumieć etapy i zasady \\\\nfunkcjonowania innowacji, wspierając skuteczną realizację przedsięwzięcia. \\\\n \\\\n')]\\n\\nYour response should be clear, concise, and directly address the query based on the data provided.\\n### Query: Help me improve this project.\\n\\n### Data:\\n[Document(metadata={'source': 'zaliczenie.pdf', 'page': 0, 'page_label': '1'}, page_content='Wdrożenie innowacyjnej platformy Predictive Maintenance w \\\\nprzedsiębiorstwie produkcyjnym \\\\nMikołaj Szechniuk, Hubert Brzozowski, Kacper Miakinko \\\\n1. Wprowadzenie \\\\n1.1 Ogólna prezentacja kontekstu i problemu \\\\nW obliczu globalnej konkurencji i rosnących wymagań klientów \\\\nprzedsiębiorstwa produkcyjne potrzebują strategii pozwalających na \\\\nmaksymalizację dostępności maszyn oraz minimalizację kosztów napraw i \\\\nprzestojów. \\\\nTradycyjne podejście do utrzymania ruchu opiera się często na naprawach \\\\npoawaryjnych lub prewencyjnych w stałych odstępach czasu, co generuje \\\\nniepotrzebne\""
            ],
            "application/vnd.google.colaboratory.intrinsic+json": {
              "type": "string"
            }
          },
          "metadata": {},
          "execution_count": 46
        }
      ],
      "source": [
        "generate(prompt)"
      ]
    },
    {
      "cell_type": "markdown",
      "id": "1086294c02679db3",
      "metadata": {
        "id": "1086294c02679db3"
      },
      "source": [
        "# 2. Prompt Chaining\n",
        "Można łączyć wiele promptów jeden po drugim, aby przeprowadzać transformacje lub dodatkowe procesy na generowanych odpowiedziach przed osiągnięciem  pożądanego rezultatu.\n",
        "\n",
        "Zadaniem będzie przekształcić zadanie programistyczne w gotowy fragment kodu, łącząc prompty w następujący łańcuch:\n",
        "1. Wygenerować plan rozwiązania problemu (najlepiej w krokach)\n",
        "2. Wygenerować dodatkowe kwestie, które należy wziąć pod uwagę\n",
        "3. Wygenerować ostateczny kod"
      ]
    },
    {
      "cell_type": "markdown",
      "id": "37194ea74acf6c9e",
      "metadata": {
        "id": "37194ea74acf6c9e"
      },
      "source": [
        "### Zdefiniować prompty\n",
        "\n",
        "Prompt musi być odpowiednio sformatowany. Możesz użyć tagów HTML, markdown lub innych opcji formatowania.\n",
        "W zapytaniach należy używać placeholderów."
      ]
    },
    {
      "cell_type": "code",
      "execution_count": 47,
      "id": "fa009b15a83954e3",
      "metadata": {
        "id": "fa009b15a83954e3"
      },
      "outputs": [],
      "source": [
        "GENERATE_PLAN_PROMPT = \"\"\"\n",
        "Given the following query:\n",
        "\n",
        "Query: {query}\n",
        "\n",
        "Please generate a step-by-step plan to solve the problem described in the query. Focus on clear and logical steps that will guide the resolution process. Avoid providing any code or implementation details.\n",
        "\n",
        "Plan:\n",
        "\"\"\"\n"
      ]
    },
    {
      "cell_type": "code",
      "execution_count": 48,
      "id": "2f668b97c8d07b74",
      "metadata": {
        "id": "2f668b97c8d07b74"
      },
      "outputs": [],
      "source": [
        "GENERATE_CONSIDERATIONS_PROMPT = \"\"\"\n",
        "Based on the following query and plan:\n",
        "\n",
        "Query: {query}\n",
        "Plan:\n",
        "{plan}\n",
        "\n",
        "Please generate a list of additional considerations or constraints that should be taken into account when solving the problem. Avoid revising the plan or providing any code.\n",
        "\n",
        "Considerations:\n",
        "\"\"\"\n"
      ]
    },
    {
      "cell_type": "code",
      "execution_count": 49,
      "id": "591be5ed093f2138",
      "metadata": {
        "id": "591be5ed093f2138"
      },
      "outputs": [],
      "source": [
        "GENERATE_CODE_PROMPT = \"\"\"\n",
        "Using the query, plan, and considerations provided below:\n",
        "\n",
        "Query: {query}\n",
        "Plan:\n",
        "{plan}\n",
        "Considerations:\n",
        "{considerations}\n",
        "\n",
        "Generate the final Python code that implements the solution to the problem described in the query. The code should follow the provided plan and account for the considerations. Do not include any explanations or comments outside the code.\n",
        "\n",
        "Code:\n",
        "\"\"\"\n"
      ]
    },
    {
      "cell_type": "markdown",
      "id": "f5fcd3fffe681bad",
      "metadata": {
        "id": "f5fcd3fffe681bad"
      },
      "source": [
        "### Stwórzyć łańcuch"
      ]
    },
    {
      "cell_type": "code",
      "execution_count": 50,
      "id": "7e5c76bc5def6061",
      "metadata": {
        "id": "7e5c76bc5def6061"
      },
      "outputs": [],
      "source": [
        "def run_chain(query: str) -> str:\n",
        "    # 1. Generate a step-by-step plan\n",
        "    print(\"Generating a step-by-step plan...\")\n",
        "    prompt = GENERATE_PLAN_PROMPT.format(query=query)\n",
        "    plan = generate(prompt)\n",
        "    print(plan)\n",
        "\n",
        "    # 2. Generate additional considerations\n",
        "    print(\"\\n\\nGenerating additional considerations...\")\n",
        "    prompt = GENERATE_CONSIDERATIONS_PROMPT.format(query=query, plan=plan)\n",
        "    considerations = generate(prompt)\n",
        "    print(considerations)\n",
        "\n",
        "    # 3. Generate the final code snippet\n",
        "    print(\"\\n\\nGenerating the final code snippet...\")\n",
        "    prompt = GENERATE_CODE_PROMPT.format(query=query, plan=plan, considerations=considerations)\n",
        "    code = generate(prompt)\n",
        "    print(code)\n",
        "\n",
        "    return code"
      ]
    },
    {
      "cell_type": "markdown",
      "id": "33f721d89dfb13ec",
      "metadata": {
        "id": "33f721d89dfb13ec"
      },
      "source": [
        "### Przetestować łańcuch"
      ]
    },
    {
      "cell_type": "code",
      "execution_count": 51,
      "id": "3b18ee8724e1d565",
      "metadata": {
        "id": "3b18ee8724e1d565"
      },
      "outputs": [],
      "source": [
        "example_query_1 = \"Write a Python function to find all prime numbers in a range from 1 to n.\"\n",
        "example_query_2 = \"Write a function that takes a list of words and a single word, and returns all the words in the list that are anagrams of the given word.\"\n",
        "example_query_3 = \"Whire a python program that can manage inserting into Red Black trees\""
      ]
    },
    {
      "cell_type": "code",
      "execution_count": null,
      "id": "9d86f3ee276f3d6f",
      "metadata": {
        "id": "9d86f3ee276f3d6f",
        "outputId": "a6a5a2b7-7c37-459e-c3f9-5cafe392109e",
        "colab": {
          "base_uri": "https://localhost:8080/"
        }
      },
      "outputs": [
        {
          "output_type": "stream",
          "name": "stdout",
          "text": [
            "Generating a step-by-step plan...\n"
          ]
        }
      ],
      "source": [
        "code_snippet = run_chain(example_query_1)"
      ]
    },
    {
      "cell_type": "code",
      "execution_count": null,
      "id": "c88ea156c8c2e92",
      "metadata": {
        "id": "c88ea156c8c2e92"
      },
      "outputs": [],
      "source": [
        "from IPython.display import display, Code\n",
        "\n",
        "# Display the generated code snippet\n",
        "display(Code(code_snippet, language='python'))"
      ]
    },
    {
      "cell_type": "markdown",
      "id": "13bccb365aae74e8",
      "metadata": {
        "id": "13bccb365aae74e8"
      },
      "source": [
        "Wkleić wygenerowany kod do komórki poniżej żeby sprawdzić czy działa poprawnie."
      ]
    },
    {
      "cell_type": "code",
      "execution_count": null,
      "id": "221808d98ac6718b",
      "metadata": {
        "id": "221808d98ac6718b"
      },
      "outputs": [],
      "source": [
        "# Paste the generated code snippet here"
      ]
    },
    {
      "cell_type": "markdown",
      "id": "793f46a85e875dc",
      "metadata": {
        "id": "793f46a85e875dc"
      },
      "source": [
        "# 3. Walidator tekstu - Zadanie domowe\n",
        "Napisać walidator tekstu, który sprawdzi, czy tekst nie łamie żadnych reguł. Jeśli łamie, walidator powinien zwrócić odpowiednią informację."
      ]
    },
    {
      "cell_type": "markdown",
      "id": "8538ea274758ec26",
      "metadata": {
        "id": "8538ea274758ec26"
      },
      "source": [
        "### Zdefiniować kryteria"
      ]
    },
    {
      "cell_type": "code",
      "execution_count": null,
      "id": "6f40d35bae19b7b9",
      "metadata": {
        "id": "6f40d35bae19b7b9"
      },
      "outputs": [],
      "source": [
        "RULES = {\n",
        "    \"no_personal_info\": \"Should not contain any personal information.\",\n",
        "    \"english_only\": \"Should be in English.\",\n",
        "    \"no_questions\": \"Should not contain any questions.\",\n",
        "    # Feel free to add more rules here\n",
        "}"
      ]
    },
    {
      "cell_type": "markdown",
      "id": "ba8e4e9ab64b9e0c",
      "metadata": {
        "id": "ba8e4e9ab64b9e0c"
      },
      "source": [
        "### Zaimplementować walidator"
      ]
    },
    {
      "cell_type": "code",
      "execution_count": null,
      "id": "485771b1e16baa5e",
      "metadata": {
        "id": "485771b1e16baa5e"
      },
      "outputs": [],
      "source": [
        "VALIDATION_PROMPT = \"\"\"\n",
        "You are a validator. You need to ensure that the provided text meets the criteria.\n",
        "\n",
        "<Criteria>\n",
        "Code: {rule_code}\n",
        "Description: {rule_description}\n",
        "</Criteria>\n",
        "\n",
        "<Text to check>\n",
        "{text_to_check}\n",
        "</Text to check>\n",
        "\n",
        "# Output format\n",
        "Output the result in the following JSON format:\n",
        "{{\n",
        "    \"criteria_met\": bool,  # True if the criteria is met, False otherwise\n",
        "    \"feedback\": str  # Provide feedback if the criteria is not met, otherwise leave empty string\n",
        "}}\n",
        "\n",
        "Return just the JSON without any additional information or comments.\n",
        "\"\"\""
      ]
    },
    {
      "cell_type": "code",
      "execution_count": null,
      "id": "b3243dbb92461adc",
      "metadata": {
        "id": "b3243dbb92461adc"
      },
      "outputs": [],
      "source": [
        "import json\n",
        "\n",
        "\n",
        "def validate_rule(text: str, rule_code: str) -> dict:\n",
        "    # 1. Load the rule description from the RULES dictionary for the given `rule_code`\n",
        "    # 2. Prepare the prompt using `VALIDATION_PROMPT` and `format` method\n",
        "    # 3. Run the `generate` function\n",
        "    # 4. Use `json.dumps` to transform the string output into a dictionary\n",
        "    # 5. Add the `rule_code` to the dictionary\n",
        "    # 6. Return the dictionary. The dictionary should contain the following keys: \"criteria_met\", \"feedback\", \"rule_code\"\n",
        "    pass"
      ]
    },
    {
      "cell_type": "markdown",
      "id": "a0c53656e565680d",
      "metadata": {
        "id": "a0c53656e565680d"
      },
      "source": [
        "### Przetestować walidator"
      ]
    },
    {
      "cell_type": "code",
      "execution_count": null,
      "id": "92d46aedf6494843",
      "metadata": {
        "id": "92d46aedf6494843"
      },
      "outputs": [],
      "source": [
        "def run_validator(text: str):\n",
        "    for rule_code in RULES.keys():\n",
        "        print(f\"Checking rule '{rule_code}'...\")\n",
        "        result = validate_rule(text, rule_code)\n",
        "\n",
        "        assert result[\"criteria_met\"], f\"Rule '{rule_code}' is not met. Feedback: {result['feedback']}\"\n",
        "\n",
        "        print(\"Rule is met.\")"
      ]
    },
    {
      "cell_type": "code",
      "execution_count": null,
      "id": "ec4bf4aac85fbf46",
      "metadata": {
        "id": "ec4bf4aac85fbf46"
      },
      "outputs": [],
      "source": [
        "text_to_check = \"My name is John and I like to play basketball. Do you know how to play basketball?\""
      ]
    },
    {
      "cell_type": "code",
      "execution_count": null,
      "id": "afdd34918b854852",
      "metadata": {
        "id": "afdd34918b854852"
      },
      "outputs": [],
      "source": [
        "run_validator(text_to_check)"
      ]
    },
    {
      "cell_type": "markdown",
      "id": "c722fd2a5e313312",
      "metadata": {
        "id": "c722fd2a5e313312"
      },
      "source": [
        "### Zaimplementować funkcję anonimizacji `anonymize` - Zadanie dodatkowe\n",
        "Jeśli tekst zawiera dane które łamią powyższe reguły (np. dane osobowe), funkcja `anonymize` ma podmienić te dane na placeholder."
      ]
    },
    {
      "cell_type": "code",
      "execution_count": null,
      "id": "4b2574dbe5e53ed3",
      "metadata": {
        "id": "4b2574dbe5e53ed3"
      },
      "outputs": [],
      "source": [
        "ANONYMIZE_PROMPT = \"\"\"\n",
        "Your prompt here.\n",
        "\"\"\"\n",
        "\n",
        "\n",
        "def anonymize(text: str) -> str:\n",
        "    # Implement the function that will replace the personal information with a placeholder\n",
        "    # Make sure to return the anonymized text (string)\n",
        "    pass"
      ]
    },
    {
      "cell_type": "code",
      "execution_count": null,
      "id": "66550d3d004de781",
      "metadata": {
        "id": "66550d3d004de781"
      },
      "outputs": [],
      "source": [
        "print(f\"Checking rule 'no_personal_info'...\")\n",
        "result = validate_rule(text_to_check, rule_code=\"no_personal_info\")\n",
        "\n",
        "if not result[\"criteria_met\"]:\n",
        "    print(\"Personal information found. Anonymizing the text...\")\n",
        "    anonymized_text = anonymize(text_to_check)\n",
        "    print(anonymized_text)\n",
        "\n",
        "    print(\"Re-running the validation...\")\n",
        "    validate_rule(anonymized_text, rule_code=\"no_personal_info\")\n",
        "\n",
        "    assert result[\"criteria_met\"], \"Anonymized text still contains personal information. Refine your prompt.\"\n",
        "\n",
        "print(\"Rule is met.\")"
      ]
    }
  ],
  "metadata": {
    "colab": {
      "provenance": []
    },
    "kernelspec": {
      "display_name": "Python 3",
      "language": "python",
      "name": "python3"
    },
    "language_info": {
      "codemirror_mode": {
        "name": "ipython",
        "version": 3
      },
      "file_extension": ".py",
      "mimetype": "text/x-python",
      "name": "python",
      "nbconvert_exporter": "python",
      "pygments_lexer": "ipython3",
      "version": "3.9.6"
    },
    "widgets": {
      "application/vnd.jupyter.widget-state+json": {
        "9511d476d96d468b83cce284f568f71b": {
          "model_module": "@jupyter-widgets/controls",
          "model_name": "HBoxModel",
          "model_module_version": "1.5.0",
          "state": {
            "_dom_classes": [],
            "_model_module": "@jupyter-widgets/controls",
            "_model_module_version": "1.5.0",
            "_model_name": "HBoxModel",
            "_view_count": null,
            "_view_module": "@jupyter-widgets/controls",
            "_view_module_version": "1.5.0",
            "_view_name": "HBoxView",
            "box_style": "",
            "children": [
              "IPY_MODEL_18d2287cdd0c4f81b9db41580a689898",
              "IPY_MODEL_c702fc8f29e84813b88449336656de57",
              "IPY_MODEL_99818aa163fc4ba6b60e282716731f30"
            ],
            "layout": "IPY_MODEL_3d6caa4b08e0433692de5e9ebe12d4b7"
          }
        },
        "18d2287cdd0c4f81b9db41580a689898": {
          "model_module": "@jupyter-widgets/controls",
          "model_name": "HTMLModel",
          "model_module_version": "1.5.0",
          "state": {
            "_dom_classes": [],
            "_model_module": "@jupyter-widgets/controls",
            "_model_module_version": "1.5.0",
            "_model_name": "HTMLModel",
            "_view_count": null,
            "_view_module": "@jupyter-widgets/controls",
            "_view_module_version": "1.5.0",
            "_view_name": "HTMLView",
            "description": "",
            "description_tooltip": null,
            "layout": "IPY_MODEL_e2546d4b48df4bddb2747ea24537f155",
            "placeholder": "​",
            "style": "IPY_MODEL_e08ea9f256b5427984336e7d3f5f0d8d",
            "value": "tokenizer_config.json: 100%"
          }
        },
        "c702fc8f29e84813b88449336656de57": {
          "model_module": "@jupyter-widgets/controls",
          "model_name": "FloatProgressModel",
          "model_module_version": "1.5.0",
          "state": {
            "_dom_classes": [],
            "_model_module": "@jupyter-widgets/controls",
            "_model_module_version": "1.5.0",
            "_model_name": "FloatProgressModel",
            "_view_count": null,
            "_view_module": "@jupyter-widgets/controls",
            "_view_module_version": "1.5.0",
            "_view_name": "ProgressView",
            "bar_style": "success",
            "description": "",
            "description_tooltip": null,
            "layout": "IPY_MODEL_da9bb0e764f44d71a5c00c40a3097d39",
            "max": 54674,
            "min": 0,
            "orientation": "horizontal",
            "style": "IPY_MODEL_fda911a4af4a41f5b78282c240291133",
            "value": 54674
          }
        },
        "99818aa163fc4ba6b60e282716731f30": {
          "model_module": "@jupyter-widgets/controls",
          "model_name": "HTMLModel",
          "model_module_version": "1.5.0",
          "state": {
            "_dom_classes": [],
            "_model_module": "@jupyter-widgets/controls",
            "_model_module_version": "1.5.0",
            "_model_name": "HTMLModel",
            "_view_count": null,
            "_view_module": "@jupyter-widgets/controls",
            "_view_module_version": "1.5.0",
            "_view_name": "HTMLView",
            "description": "",
            "description_tooltip": null,
            "layout": "IPY_MODEL_fc890f8d36df42a8b8f96413af4cb1dd",
            "placeholder": "​",
            "style": "IPY_MODEL_8960af3c340a4eb0bef18ea2dedf021f",
            "value": " 54.7k/54.7k [00:00&lt;00:00, 1.41MB/s]"
          }
        },
        "3d6caa4b08e0433692de5e9ebe12d4b7": {
          "model_module": "@jupyter-widgets/base",
          "model_name": "LayoutModel",
          "model_module_version": "1.2.0",
          "state": {
            "_model_module": "@jupyter-widgets/base",
            "_model_module_version": "1.2.0",
            "_model_name": "LayoutModel",
            "_view_count": null,
            "_view_module": "@jupyter-widgets/base",
            "_view_module_version": "1.2.0",
            "_view_name": "LayoutView",
            "align_content": null,
            "align_items": null,
            "align_self": null,
            "border": null,
            "bottom": null,
            "display": null,
            "flex": null,
            "flex_flow": null,
            "grid_area": null,
            "grid_auto_columns": null,
            "grid_auto_flow": null,
            "grid_auto_rows": null,
            "grid_column": null,
            "grid_gap": null,
            "grid_row": null,
            "grid_template_areas": null,
            "grid_template_columns": null,
            "grid_template_rows": null,
            "height": null,
            "justify_content": null,
            "justify_items": null,
            "left": null,
            "margin": null,
            "max_height": null,
            "max_width": null,
            "min_height": null,
            "min_width": null,
            "object_fit": null,
            "object_position": null,
            "order": null,
            "overflow": null,
            "overflow_x": null,
            "overflow_y": null,
            "padding": null,
            "right": null,
            "top": null,
            "visibility": null,
            "width": null
          }
        },
        "e2546d4b48df4bddb2747ea24537f155": {
          "model_module": "@jupyter-widgets/base",
          "model_name": "LayoutModel",
          "model_module_version": "1.2.0",
          "state": {
            "_model_module": "@jupyter-widgets/base",
            "_model_module_version": "1.2.0",
            "_model_name": "LayoutModel",
            "_view_count": null,
            "_view_module": "@jupyter-widgets/base",
            "_view_module_version": "1.2.0",
            "_view_name": "LayoutView",
            "align_content": null,
            "align_items": null,
            "align_self": null,
            "border": null,
            "bottom": null,
            "display": null,
            "flex": null,
            "flex_flow": null,
            "grid_area": null,
            "grid_auto_columns": null,
            "grid_auto_flow": null,
            "grid_auto_rows": null,
            "grid_column": null,
            "grid_gap": null,
            "grid_row": null,
            "grid_template_areas": null,
            "grid_template_columns": null,
            "grid_template_rows": null,
            "height": null,
            "justify_content": null,
            "justify_items": null,
            "left": null,
            "margin": null,
            "max_height": null,
            "max_width": null,
            "min_height": null,
            "min_width": null,
            "object_fit": null,
            "object_position": null,
            "order": null,
            "overflow": null,
            "overflow_x": null,
            "overflow_y": null,
            "padding": null,
            "right": null,
            "top": null,
            "visibility": null,
            "width": null
          }
        },
        "e08ea9f256b5427984336e7d3f5f0d8d": {
          "model_module": "@jupyter-widgets/controls",
          "model_name": "DescriptionStyleModel",
          "model_module_version": "1.5.0",
          "state": {
            "_model_module": "@jupyter-widgets/controls",
            "_model_module_version": "1.5.0",
            "_model_name": "DescriptionStyleModel",
            "_view_count": null,
            "_view_module": "@jupyter-widgets/base",
            "_view_module_version": "1.2.0",
            "_view_name": "StyleView",
            "description_width": ""
          }
        },
        "da9bb0e764f44d71a5c00c40a3097d39": {
          "model_module": "@jupyter-widgets/base",
          "model_name": "LayoutModel",
          "model_module_version": "1.2.0",
          "state": {
            "_model_module": "@jupyter-widgets/base",
            "_model_module_version": "1.2.0",
            "_model_name": "LayoutModel",
            "_view_count": null,
            "_view_module": "@jupyter-widgets/base",
            "_view_module_version": "1.2.0",
            "_view_name": "LayoutView",
            "align_content": null,
            "align_items": null,
            "align_self": null,
            "border": null,
            "bottom": null,
            "display": null,
            "flex": null,
            "flex_flow": null,
            "grid_area": null,
            "grid_auto_columns": null,
            "grid_auto_flow": null,
            "grid_auto_rows": null,
            "grid_column": null,
            "grid_gap": null,
            "grid_row": null,
            "grid_template_areas": null,
            "grid_template_columns": null,
            "grid_template_rows": null,
            "height": null,
            "justify_content": null,
            "justify_items": null,
            "left": null,
            "margin": null,
            "max_height": null,
            "max_width": null,
            "min_height": null,
            "min_width": null,
            "object_fit": null,
            "object_position": null,
            "order": null,
            "overflow": null,
            "overflow_x": null,
            "overflow_y": null,
            "padding": null,
            "right": null,
            "top": null,
            "visibility": null,
            "width": null
          }
        },
        "fda911a4af4a41f5b78282c240291133": {
          "model_module": "@jupyter-widgets/controls",
          "model_name": "ProgressStyleModel",
          "model_module_version": "1.5.0",
          "state": {
            "_model_module": "@jupyter-widgets/controls",
            "_model_module_version": "1.5.0",
            "_model_name": "ProgressStyleModel",
            "_view_count": null,
            "_view_module": "@jupyter-widgets/base",
            "_view_module_version": "1.2.0",
            "_view_name": "StyleView",
            "bar_color": null,
            "description_width": ""
          }
        },
        "fc890f8d36df42a8b8f96413af4cb1dd": {
          "model_module": "@jupyter-widgets/base",
          "model_name": "LayoutModel",
          "model_module_version": "1.2.0",
          "state": {
            "_model_module": "@jupyter-widgets/base",
            "_model_module_version": "1.2.0",
            "_model_name": "LayoutModel",
            "_view_count": null,
            "_view_module": "@jupyter-widgets/base",
            "_view_module_version": "1.2.0",
            "_view_name": "LayoutView",
            "align_content": null,
            "align_items": null,
            "align_self": null,
            "border": null,
            "bottom": null,
            "display": null,
            "flex": null,
            "flex_flow": null,
            "grid_area": null,
            "grid_auto_columns": null,
            "grid_auto_flow": null,
            "grid_auto_rows": null,
            "grid_column": null,
            "grid_gap": null,
            "grid_row": null,
            "grid_template_areas": null,
            "grid_template_columns": null,
            "grid_template_rows": null,
            "height": null,
            "justify_content": null,
            "justify_items": null,
            "left": null,
            "margin": null,
            "max_height": null,
            "max_width": null,
            "min_height": null,
            "min_width": null,
            "object_fit": null,
            "object_position": null,
            "order": null,
            "overflow": null,
            "overflow_x": null,
            "overflow_y": null,
            "padding": null,
            "right": null,
            "top": null,
            "visibility": null,
            "width": null
          }
        },
        "8960af3c340a4eb0bef18ea2dedf021f": {
          "model_module": "@jupyter-widgets/controls",
          "model_name": "DescriptionStyleModel",
          "model_module_version": "1.5.0",
          "state": {
            "_model_module": "@jupyter-widgets/controls",
            "_model_module_version": "1.5.0",
            "_model_name": "DescriptionStyleModel",
            "_view_count": null,
            "_view_module": "@jupyter-widgets/base",
            "_view_module_version": "1.2.0",
            "_view_name": "StyleView",
            "description_width": ""
          }
        },
        "84bbea23bbe74957894bbe49b8dc406e": {
          "model_module": "@jupyter-widgets/controls",
          "model_name": "HBoxModel",
          "model_module_version": "1.5.0",
          "state": {
            "_dom_classes": [],
            "_model_module": "@jupyter-widgets/controls",
            "_model_module_version": "1.5.0",
            "_model_name": "HBoxModel",
            "_view_count": null,
            "_view_module": "@jupyter-widgets/controls",
            "_view_module_version": "1.5.0",
            "_view_name": "HBoxView",
            "box_style": "",
            "children": [
              "IPY_MODEL_dfb0d868d6a44e9e80cf5342771ef703",
              "IPY_MODEL_4ad86db602564fdaa96513bad6223711",
              "IPY_MODEL_7b56d200d4b64b64bfbd7420e09c0055"
            ],
            "layout": "IPY_MODEL_802abce2624a4b18aa129d98d099f112"
          }
        },
        "dfb0d868d6a44e9e80cf5342771ef703": {
          "model_module": "@jupyter-widgets/controls",
          "model_name": "HTMLModel",
          "model_module_version": "1.5.0",
          "state": {
            "_dom_classes": [],
            "_model_module": "@jupyter-widgets/controls",
            "_model_module_version": "1.5.0",
            "_model_name": "HTMLModel",
            "_view_count": null,
            "_view_module": "@jupyter-widgets/controls",
            "_view_module_version": "1.5.0",
            "_view_name": "HTMLView",
            "description": "",
            "description_tooltip": null,
            "layout": "IPY_MODEL_c8e1eb7d19934896b10a54b5e8c9a962",
            "placeholder": "​",
            "style": "IPY_MODEL_f6620ed04025412d858ca7cfbcaf14d4",
            "value": "tokenizer.json: 100%"
          }
        },
        "4ad86db602564fdaa96513bad6223711": {
          "model_module": "@jupyter-widgets/controls",
          "model_name": "FloatProgressModel",
          "model_module_version": "1.5.0",
          "state": {
            "_dom_classes": [],
            "_model_module": "@jupyter-widgets/controls",
            "_model_module_version": "1.5.0",
            "_model_name": "FloatProgressModel",
            "_view_count": null,
            "_view_module": "@jupyter-widgets/controls",
            "_view_module_version": "1.5.0",
            "_view_name": "ProgressView",
            "bar_style": "success",
            "description": "",
            "description_tooltip": null,
            "layout": "IPY_MODEL_f61780ee57bc498fa0e42344d2b19a13",
            "max": 17209920,
            "min": 0,
            "orientation": "horizontal",
            "style": "IPY_MODEL_6b317bf44e1b4915929c356cf56fdeee",
            "value": 17209920
          }
        },
        "7b56d200d4b64b64bfbd7420e09c0055": {
          "model_module": "@jupyter-widgets/controls",
          "model_name": "HTMLModel",
          "model_module_version": "1.5.0",
          "state": {
            "_dom_classes": [],
            "_model_module": "@jupyter-widgets/controls",
            "_model_module_version": "1.5.0",
            "_model_name": "HTMLModel",
            "_view_count": null,
            "_view_module": "@jupyter-widgets/controls",
            "_view_module_version": "1.5.0",
            "_view_name": "HTMLView",
            "description": "",
            "description_tooltip": null,
            "layout": "IPY_MODEL_b9dcca232be64956b28dc5c6b8952abb",
            "placeholder": "​",
            "style": "IPY_MODEL_4833f4956cb64fc08ef79d68e7a0e3f3",
            "value": " 17.2M/17.2M [00:01&lt;00:00, 10.6MB/s]"
          }
        },
        "802abce2624a4b18aa129d98d099f112": {
          "model_module": "@jupyter-widgets/base",
          "model_name": "LayoutModel",
          "model_module_version": "1.2.0",
          "state": {
            "_model_module": "@jupyter-widgets/base",
            "_model_module_version": "1.2.0",
            "_model_name": "LayoutModel",
            "_view_count": null,
            "_view_module": "@jupyter-widgets/base",
            "_view_module_version": "1.2.0",
            "_view_name": "LayoutView",
            "align_content": null,
            "align_items": null,
            "align_self": null,
            "border": null,
            "bottom": null,
            "display": null,
            "flex": null,
            "flex_flow": null,
            "grid_area": null,
            "grid_auto_columns": null,
            "grid_auto_flow": null,
            "grid_auto_rows": null,
            "grid_column": null,
            "grid_gap": null,
            "grid_row": null,
            "grid_template_areas": null,
            "grid_template_columns": null,
            "grid_template_rows": null,
            "height": null,
            "justify_content": null,
            "justify_items": null,
            "left": null,
            "margin": null,
            "max_height": null,
            "max_width": null,
            "min_height": null,
            "min_width": null,
            "object_fit": null,
            "object_position": null,
            "order": null,
            "overflow": null,
            "overflow_x": null,
            "overflow_y": null,
            "padding": null,
            "right": null,
            "top": null,
            "visibility": null,
            "width": null
          }
        },
        "c8e1eb7d19934896b10a54b5e8c9a962": {
          "model_module": "@jupyter-widgets/base",
          "model_name": "LayoutModel",
          "model_module_version": "1.2.0",
          "state": {
            "_model_module": "@jupyter-widgets/base",
            "_model_module_version": "1.2.0",
            "_model_name": "LayoutModel",
            "_view_count": null,
            "_view_module": "@jupyter-widgets/base",
            "_view_module_version": "1.2.0",
            "_view_name": "LayoutView",
            "align_content": null,
            "align_items": null,
            "align_self": null,
            "border": null,
            "bottom": null,
            "display": null,
            "flex": null,
            "flex_flow": null,
            "grid_area": null,
            "grid_auto_columns": null,
            "grid_auto_flow": null,
            "grid_auto_rows": null,
            "grid_column": null,
            "grid_gap": null,
            "grid_row": null,
            "grid_template_areas": null,
            "grid_template_columns": null,
            "grid_template_rows": null,
            "height": null,
            "justify_content": null,
            "justify_items": null,
            "left": null,
            "margin": null,
            "max_height": null,
            "max_width": null,
            "min_height": null,
            "min_width": null,
            "object_fit": null,
            "object_position": null,
            "order": null,
            "overflow": null,
            "overflow_x": null,
            "overflow_y": null,
            "padding": null,
            "right": null,
            "top": null,
            "visibility": null,
            "width": null
          }
        },
        "f6620ed04025412d858ca7cfbcaf14d4": {
          "model_module": "@jupyter-widgets/controls",
          "model_name": "DescriptionStyleModel",
          "model_module_version": "1.5.0",
          "state": {
            "_model_module": "@jupyter-widgets/controls",
            "_model_module_version": "1.5.0",
            "_model_name": "DescriptionStyleModel",
            "_view_count": null,
            "_view_module": "@jupyter-widgets/base",
            "_view_module_version": "1.2.0",
            "_view_name": "StyleView",
            "description_width": ""
          }
        },
        "f61780ee57bc498fa0e42344d2b19a13": {
          "model_module": "@jupyter-widgets/base",
          "model_name": "LayoutModel",
          "model_module_version": "1.2.0",
          "state": {
            "_model_module": "@jupyter-widgets/base",
            "_model_module_version": "1.2.0",
            "_model_name": "LayoutModel",
            "_view_count": null,
            "_view_module": "@jupyter-widgets/base",
            "_view_module_version": "1.2.0",
            "_view_name": "LayoutView",
            "align_content": null,
            "align_items": null,
            "align_self": null,
            "border": null,
            "bottom": null,
            "display": null,
            "flex": null,
            "flex_flow": null,
            "grid_area": null,
            "grid_auto_columns": null,
            "grid_auto_flow": null,
            "grid_auto_rows": null,
            "grid_column": null,
            "grid_gap": null,
            "grid_row": null,
            "grid_template_areas": null,
            "grid_template_columns": null,
            "grid_template_rows": null,
            "height": null,
            "justify_content": null,
            "justify_items": null,
            "left": null,
            "margin": null,
            "max_height": null,
            "max_width": null,
            "min_height": null,
            "min_width": null,
            "object_fit": null,
            "object_position": null,
            "order": null,
            "overflow": null,
            "overflow_x": null,
            "overflow_y": null,
            "padding": null,
            "right": null,
            "top": null,
            "visibility": null,
            "width": null
          }
        },
        "6b317bf44e1b4915929c356cf56fdeee": {
          "model_module": "@jupyter-widgets/controls",
          "model_name": "ProgressStyleModel",
          "model_module_version": "1.5.0",
          "state": {
            "_model_module": "@jupyter-widgets/controls",
            "_model_module_version": "1.5.0",
            "_model_name": "ProgressStyleModel",
            "_view_count": null,
            "_view_module": "@jupyter-widgets/base",
            "_view_module_version": "1.2.0",
            "_view_name": "StyleView",
            "bar_color": null,
            "description_width": ""
          }
        },
        "b9dcca232be64956b28dc5c6b8952abb": {
          "model_module": "@jupyter-widgets/base",
          "model_name": "LayoutModel",
          "model_module_version": "1.2.0",
          "state": {
            "_model_module": "@jupyter-widgets/base",
            "_model_module_version": "1.2.0",
            "_model_name": "LayoutModel",
            "_view_count": null,
            "_view_module": "@jupyter-widgets/base",
            "_view_module_version": "1.2.0",
            "_view_name": "LayoutView",
            "align_content": null,
            "align_items": null,
            "align_self": null,
            "border": null,
            "bottom": null,
            "display": null,
            "flex": null,
            "flex_flow": null,
            "grid_area": null,
            "grid_auto_columns": null,
            "grid_auto_flow": null,
            "grid_auto_rows": null,
            "grid_column": null,
            "grid_gap": null,
            "grid_row": null,
            "grid_template_areas": null,
            "grid_template_columns": null,
            "grid_template_rows": null,
            "height": null,
            "justify_content": null,
            "justify_items": null,
            "left": null,
            "margin": null,
            "max_height": null,
            "max_width": null,
            "min_height": null,
            "min_width": null,
            "object_fit": null,
            "object_position": null,
            "order": null,
            "overflow": null,
            "overflow_x": null,
            "overflow_y": null,
            "padding": null,
            "right": null,
            "top": null,
            "visibility": null,
            "width": null
          }
        },
        "4833f4956cb64fc08ef79d68e7a0e3f3": {
          "model_module": "@jupyter-widgets/controls",
          "model_name": "DescriptionStyleModel",
          "model_module_version": "1.5.0",
          "state": {
            "_model_module": "@jupyter-widgets/controls",
            "_model_module_version": "1.5.0",
            "_model_name": "DescriptionStyleModel",
            "_view_count": null,
            "_view_module": "@jupyter-widgets/base",
            "_view_module_version": "1.2.0",
            "_view_name": "StyleView",
            "description_width": ""
          }
        },
        "20bae3be640d4e2ca74cae539e3151a3": {
          "model_module": "@jupyter-widgets/controls",
          "model_name": "HBoxModel",
          "model_module_version": "1.5.0",
          "state": {
            "_dom_classes": [],
            "_model_module": "@jupyter-widgets/controls",
            "_model_module_version": "1.5.0",
            "_model_name": "HBoxModel",
            "_view_count": null,
            "_view_module": "@jupyter-widgets/controls",
            "_view_module_version": "1.5.0",
            "_view_name": "HBoxView",
            "box_style": "",
            "children": [
              "IPY_MODEL_4be52043b759455eb97cf9dfc5294090",
              "IPY_MODEL_480e6c0efe074d6ebd7d7683385eaf50",
              "IPY_MODEL_6cd4490afce54da89b6ee7f034373fbe"
            ],
            "layout": "IPY_MODEL_97ddcdca9db44ad09746f80593052e6b"
          }
        },
        "4be52043b759455eb97cf9dfc5294090": {
          "model_module": "@jupyter-widgets/controls",
          "model_name": "HTMLModel",
          "model_module_version": "1.5.0",
          "state": {
            "_dom_classes": [],
            "_model_module": "@jupyter-widgets/controls",
            "_model_module_version": "1.5.0",
            "_model_name": "HTMLModel",
            "_view_count": null,
            "_view_module": "@jupyter-widgets/controls",
            "_view_module_version": "1.5.0",
            "_view_name": "HTMLView",
            "description": "",
            "description_tooltip": null,
            "layout": "IPY_MODEL_6d2ad2677bc344208052e5d7eaabfffc",
            "placeholder": "​",
            "style": "IPY_MODEL_116137c92e4f46408d6f39571488225c",
            "value": "special_tokens_map.json: 100%"
          }
        },
        "480e6c0efe074d6ebd7d7683385eaf50": {
          "model_module": "@jupyter-widgets/controls",
          "model_name": "FloatProgressModel",
          "model_module_version": "1.5.0",
          "state": {
            "_dom_classes": [],
            "_model_module": "@jupyter-widgets/controls",
            "_model_module_version": "1.5.0",
            "_model_name": "FloatProgressModel",
            "_view_count": null,
            "_view_module": "@jupyter-widgets/controls",
            "_view_module_version": "1.5.0",
            "_view_name": "ProgressView",
            "bar_style": "success",
            "description": "",
            "description_tooltip": null,
            "layout": "IPY_MODEL_681ab7713b414073890cb33c39c9f899",
            "max": 454,
            "min": 0,
            "orientation": "horizontal",
            "style": "IPY_MODEL_9b11561d7bbc466284ef61bd3c8b0b90",
            "value": 454
          }
        },
        "6cd4490afce54da89b6ee7f034373fbe": {
          "model_module": "@jupyter-widgets/controls",
          "model_name": "HTMLModel",
          "model_module_version": "1.5.0",
          "state": {
            "_dom_classes": [],
            "_model_module": "@jupyter-widgets/controls",
            "_model_module_version": "1.5.0",
            "_model_name": "HTMLModel",
            "_view_count": null,
            "_view_module": "@jupyter-widgets/controls",
            "_view_module_version": "1.5.0",
            "_view_name": "HTMLView",
            "description": "",
            "description_tooltip": null,
            "layout": "IPY_MODEL_cda0ce64ba8d45a4a32276d4f27615d7",
            "placeholder": "​",
            "style": "IPY_MODEL_4458247aa4234dff97976db9dc8ae769",
            "value": " 454/454 [00:00&lt;00:00, 10.2kB/s]"
          }
        },
        "97ddcdca9db44ad09746f80593052e6b": {
          "model_module": "@jupyter-widgets/base",
          "model_name": "LayoutModel",
          "model_module_version": "1.2.0",
          "state": {
            "_model_module": "@jupyter-widgets/base",
            "_model_module_version": "1.2.0",
            "_model_name": "LayoutModel",
            "_view_count": null,
            "_view_module": "@jupyter-widgets/base",
            "_view_module_version": "1.2.0",
            "_view_name": "LayoutView",
            "align_content": null,
            "align_items": null,
            "align_self": null,
            "border": null,
            "bottom": null,
            "display": null,
            "flex": null,
            "flex_flow": null,
            "grid_area": null,
            "grid_auto_columns": null,
            "grid_auto_flow": null,
            "grid_auto_rows": null,
            "grid_column": null,
            "grid_gap": null,
            "grid_row": null,
            "grid_template_areas": null,
            "grid_template_columns": null,
            "grid_template_rows": null,
            "height": null,
            "justify_content": null,
            "justify_items": null,
            "left": null,
            "margin": null,
            "max_height": null,
            "max_width": null,
            "min_height": null,
            "min_width": null,
            "object_fit": null,
            "object_position": null,
            "order": null,
            "overflow": null,
            "overflow_x": null,
            "overflow_y": null,
            "padding": null,
            "right": null,
            "top": null,
            "visibility": null,
            "width": null
          }
        },
        "6d2ad2677bc344208052e5d7eaabfffc": {
          "model_module": "@jupyter-widgets/base",
          "model_name": "LayoutModel",
          "model_module_version": "1.2.0",
          "state": {
            "_model_module": "@jupyter-widgets/base",
            "_model_module_version": "1.2.0",
            "_model_name": "LayoutModel",
            "_view_count": null,
            "_view_module": "@jupyter-widgets/base",
            "_view_module_version": "1.2.0",
            "_view_name": "LayoutView",
            "align_content": null,
            "align_items": null,
            "align_self": null,
            "border": null,
            "bottom": null,
            "display": null,
            "flex": null,
            "flex_flow": null,
            "grid_area": null,
            "grid_auto_columns": null,
            "grid_auto_flow": null,
            "grid_auto_rows": null,
            "grid_column": null,
            "grid_gap": null,
            "grid_row": null,
            "grid_template_areas": null,
            "grid_template_columns": null,
            "grid_template_rows": null,
            "height": null,
            "justify_content": null,
            "justify_items": null,
            "left": null,
            "margin": null,
            "max_height": null,
            "max_width": null,
            "min_height": null,
            "min_width": null,
            "object_fit": null,
            "object_position": null,
            "order": null,
            "overflow": null,
            "overflow_x": null,
            "overflow_y": null,
            "padding": null,
            "right": null,
            "top": null,
            "visibility": null,
            "width": null
          }
        },
        "116137c92e4f46408d6f39571488225c": {
          "model_module": "@jupyter-widgets/controls",
          "model_name": "DescriptionStyleModel",
          "model_module_version": "1.5.0",
          "state": {
            "_model_module": "@jupyter-widgets/controls",
            "_model_module_version": "1.5.0",
            "_model_name": "DescriptionStyleModel",
            "_view_count": null,
            "_view_module": "@jupyter-widgets/base",
            "_view_module_version": "1.2.0",
            "_view_name": "StyleView",
            "description_width": ""
          }
        },
        "681ab7713b414073890cb33c39c9f899": {
          "model_module": "@jupyter-widgets/base",
          "model_name": "LayoutModel",
          "model_module_version": "1.2.0",
          "state": {
            "_model_module": "@jupyter-widgets/base",
            "_model_module_version": "1.2.0",
            "_model_name": "LayoutModel",
            "_view_count": null,
            "_view_module": "@jupyter-widgets/base",
            "_view_module_version": "1.2.0",
            "_view_name": "LayoutView",
            "align_content": null,
            "align_items": null,
            "align_self": null,
            "border": null,
            "bottom": null,
            "display": null,
            "flex": null,
            "flex_flow": null,
            "grid_area": null,
            "grid_auto_columns": null,
            "grid_auto_flow": null,
            "grid_auto_rows": null,
            "grid_column": null,
            "grid_gap": null,
            "grid_row": null,
            "grid_template_areas": null,
            "grid_template_columns": null,
            "grid_template_rows": null,
            "height": null,
            "justify_content": null,
            "justify_items": null,
            "left": null,
            "margin": null,
            "max_height": null,
            "max_width": null,
            "min_height": null,
            "min_width": null,
            "object_fit": null,
            "object_position": null,
            "order": null,
            "overflow": null,
            "overflow_x": null,
            "overflow_y": null,
            "padding": null,
            "right": null,
            "top": null,
            "visibility": null,
            "width": null
          }
        },
        "9b11561d7bbc466284ef61bd3c8b0b90": {
          "model_module": "@jupyter-widgets/controls",
          "model_name": "ProgressStyleModel",
          "model_module_version": "1.5.0",
          "state": {
            "_model_module": "@jupyter-widgets/controls",
            "_model_module_version": "1.5.0",
            "_model_name": "ProgressStyleModel",
            "_view_count": null,
            "_view_module": "@jupyter-widgets/base",
            "_view_module_version": "1.2.0",
            "_view_name": "StyleView",
            "bar_color": null,
            "description_width": ""
          }
        },
        "cda0ce64ba8d45a4a32276d4f27615d7": {
          "model_module": "@jupyter-widgets/base",
          "model_name": "LayoutModel",
          "model_module_version": "1.2.0",
          "state": {
            "_model_module": "@jupyter-widgets/base",
            "_model_module_version": "1.2.0",
            "_model_name": "LayoutModel",
            "_view_count": null,
            "_view_module": "@jupyter-widgets/base",
            "_view_module_version": "1.2.0",
            "_view_name": "LayoutView",
            "align_content": null,
            "align_items": null,
            "align_self": null,
            "border": null,
            "bottom": null,
            "display": null,
            "flex": null,
            "flex_flow": null,
            "grid_area": null,
            "grid_auto_columns": null,
            "grid_auto_flow": null,
            "grid_auto_rows": null,
            "grid_column": null,
            "grid_gap": null,
            "grid_row": null,
            "grid_template_areas": null,
            "grid_template_columns": null,
            "grid_template_rows": null,
            "height": null,
            "justify_content": null,
            "justify_items": null,
            "left": null,
            "margin": null,
            "max_height": null,
            "max_width": null,
            "min_height": null,
            "min_width": null,
            "object_fit": null,
            "object_position": null,
            "order": null,
            "overflow": null,
            "overflow_x": null,
            "overflow_y": null,
            "padding": null,
            "right": null,
            "top": null,
            "visibility": null,
            "width": null
          }
        },
        "4458247aa4234dff97976db9dc8ae769": {
          "model_module": "@jupyter-widgets/controls",
          "model_name": "DescriptionStyleModel",
          "model_module_version": "1.5.0",
          "state": {
            "_model_module": "@jupyter-widgets/controls",
            "_model_module_version": "1.5.0",
            "_model_name": "DescriptionStyleModel",
            "_view_count": null,
            "_view_module": "@jupyter-widgets/base",
            "_view_module_version": "1.2.0",
            "_view_name": "StyleView",
            "description_width": ""
          }
        },
        "1cac9b8a826947d3a9b839325a9fe957": {
          "model_module": "@jupyter-widgets/controls",
          "model_name": "HBoxModel",
          "model_module_version": "1.5.0",
          "state": {
            "_dom_classes": [],
            "_model_module": "@jupyter-widgets/controls",
            "_model_module_version": "1.5.0",
            "_model_name": "HBoxModel",
            "_view_count": null,
            "_view_module": "@jupyter-widgets/controls",
            "_view_module_version": "1.5.0",
            "_view_name": "HBoxView",
            "box_style": "",
            "children": [
              "IPY_MODEL_eb902433cb0248f9abcfdfc57161ecc8",
              "IPY_MODEL_e99377da80784d9f800b7e423e0f9c7f",
              "IPY_MODEL_599d047529b24018a2ca5c93d9fcaf9d"
            ],
            "layout": "IPY_MODEL_793ba2edad5c467da9f5237cebd126d5"
          }
        },
        "eb902433cb0248f9abcfdfc57161ecc8": {
          "model_module": "@jupyter-widgets/controls",
          "model_name": "HTMLModel",
          "model_module_version": "1.5.0",
          "state": {
            "_dom_classes": [],
            "_model_module": "@jupyter-widgets/controls",
            "_model_module_version": "1.5.0",
            "_model_name": "HTMLModel",
            "_view_count": null,
            "_view_module": "@jupyter-widgets/controls",
            "_view_module_version": "1.5.0",
            "_view_name": "HTMLView",
            "description": "",
            "description_tooltip": null,
            "layout": "IPY_MODEL_f08684cabe3d4d5e92742da5bbe60db1",
            "placeholder": "​",
            "style": "IPY_MODEL_b0d828a8f8704b5aaf7cd2fd728183ac",
            "value": "config.json: 100%"
          }
        },
        "e99377da80784d9f800b7e423e0f9c7f": {
          "model_module": "@jupyter-widgets/controls",
          "model_name": "FloatProgressModel",
          "model_module_version": "1.5.0",
          "state": {
            "_dom_classes": [],
            "_model_module": "@jupyter-widgets/controls",
            "_model_module_version": "1.5.0",
            "_model_name": "FloatProgressModel",
            "_view_count": null,
            "_view_module": "@jupyter-widgets/controls",
            "_view_module_version": "1.5.0",
            "_view_name": "ProgressView",
            "bar_style": "success",
            "description": "",
            "description_tooltip": null,
            "layout": "IPY_MODEL_6bf5cfceecd64be2b3120093cb1e3e2d",
            "max": 978,
            "min": 0,
            "orientation": "horizontal",
            "style": "IPY_MODEL_79266927e156430da1ad76832b9a97db",
            "value": 978
          }
        },
        "599d047529b24018a2ca5c93d9fcaf9d": {
          "model_module": "@jupyter-widgets/controls",
          "model_name": "HTMLModel",
          "model_module_version": "1.5.0",
          "state": {
            "_dom_classes": [],
            "_model_module": "@jupyter-widgets/controls",
            "_model_module_version": "1.5.0",
            "_model_name": "HTMLModel",
            "_view_count": null,
            "_view_module": "@jupyter-widgets/controls",
            "_view_module_version": "1.5.0",
            "_view_name": "HTMLView",
            "description": "",
            "description_tooltip": null,
            "layout": "IPY_MODEL_252e3a65ab3e4072836ed0c6d0d8535a",
            "placeholder": "​",
            "style": "IPY_MODEL_b1541f662b3a4987894726d8325a948c",
            "value": " 978/978 [00:00&lt;00:00, 23.4kB/s]"
          }
        },
        "793ba2edad5c467da9f5237cebd126d5": {
          "model_module": "@jupyter-widgets/base",
          "model_name": "LayoutModel",
          "model_module_version": "1.2.0",
          "state": {
            "_model_module": "@jupyter-widgets/base",
            "_model_module_version": "1.2.0",
            "_model_name": "LayoutModel",
            "_view_count": null,
            "_view_module": "@jupyter-widgets/base",
            "_view_module_version": "1.2.0",
            "_view_name": "LayoutView",
            "align_content": null,
            "align_items": null,
            "align_self": null,
            "border": null,
            "bottom": null,
            "display": null,
            "flex": null,
            "flex_flow": null,
            "grid_area": null,
            "grid_auto_columns": null,
            "grid_auto_flow": null,
            "grid_auto_rows": null,
            "grid_column": null,
            "grid_gap": null,
            "grid_row": null,
            "grid_template_areas": null,
            "grid_template_columns": null,
            "grid_template_rows": null,
            "height": null,
            "justify_content": null,
            "justify_items": null,
            "left": null,
            "margin": null,
            "max_height": null,
            "max_width": null,
            "min_height": null,
            "min_width": null,
            "object_fit": null,
            "object_position": null,
            "order": null,
            "overflow": null,
            "overflow_x": null,
            "overflow_y": null,
            "padding": null,
            "right": null,
            "top": null,
            "visibility": null,
            "width": null
          }
        },
        "f08684cabe3d4d5e92742da5bbe60db1": {
          "model_module": "@jupyter-widgets/base",
          "model_name": "LayoutModel",
          "model_module_version": "1.2.0",
          "state": {
            "_model_module": "@jupyter-widgets/base",
            "_model_module_version": "1.2.0",
            "_model_name": "LayoutModel",
            "_view_count": null,
            "_view_module": "@jupyter-widgets/base",
            "_view_module_version": "1.2.0",
            "_view_name": "LayoutView",
            "align_content": null,
            "align_items": null,
            "align_self": null,
            "border": null,
            "bottom": null,
            "display": null,
            "flex": null,
            "flex_flow": null,
            "grid_area": null,
            "grid_auto_columns": null,
            "grid_auto_flow": null,
            "grid_auto_rows": null,
            "grid_column": null,
            "grid_gap": null,
            "grid_row": null,
            "grid_template_areas": null,
            "grid_template_columns": null,
            "grid_template_rows": null,
            "height": null,
            "justify_content": null,
            "justify_items": null,
            "left": null,
            "margin": null,
            "max_height": null,
            "max_width": null,
            "min_height": null,
            "min_width": null,
            "object_fit": null,
            "object_position": null,
            "order": null,
            "overflow": null,
            "overflow_x": null,
            "overflow_y": null,
            "padding": null,
            "right": null,
            "top": null,
            "visibility": null,
            "width": null
          }
        },
        "b0d828a8f8704b5aaf7cd2fd728183ac": {
          "model_module": "@jupyter-widgets/controls",
          "model_name": "DescriptionStyleModel",
          "model_module_version": "1.5.0",
          "state": {
            "_model_module": "@jupyter-widgets/controls",
            "_model_module_version": "1.5.0",
            "_model_name": "DescriptionStyleModel",
            "_view_count": null,
            "_view_module": "@jupyter-widgets/base",
            "_view_module_version": "1.2.0",
            "_view_name": "StyleView",
            "description_width": ""
          }
        },
        "6bf5cfceecd64be2b3120093cb1e3e2d": {
          "model_module": "@jupyter-widgets/base",
          "model_name": "LayoutModel",
          "model_module_version": "1.2.0",
          "state": {
            "_model_module": "@jupyter-widgets/base",
            "_model_module_version": "1.2.0",
            "_model_name": "LayoutModel",
            "_view_count": null,
            "_view_module": "@jupyter-widgets/base",
            "_view_module_version": "1.2.0",
            "_view_name": "LayoutView",
            "align_content": null,
            "align_items": null,
            "align_self": null,
            "border": null,
            "bottom": null,
            "display": null,
            "flex": null,
            "flex_flow": null,
            "grid_area": null,
            "grid_auto_columns": null,
            "grid_auto_flow": null,
            "grid_auto_rows": null,
            "grid_column": null,
            "grid_gap": null,
            "grid_row": null,
            "grid_template_areas": null,
            "grid_template_columns": null,
            "grid_template_rows": null,
            "height": null,
            "justify_content": null,
            "justify_items": null,
            "left": null,
            "margin": null,
            "max_height": null,
            "max_width": null,
            "min_height": null,
            "min_width": null,
            "object_fit": null,
            "object_position": null,
            "order": null,
            "overflow": null,
            "overflow_x": null,
            "overflow_y": null,
            "padding": null,
            "right": null,
            "top": null,
            "visibility": null,
            "width": null
          }
        },
        "79266927e156430da1ad76832b9a97db": {
          "model_module": "@jupyter-widgets/controls",
          "model_name": "ProgressStyleModel",
          "model_module_version": "1.5.0",
          "state": {
            "_model_module": "@jupyter-widgets/controls",
            "_model_module_version": "1.5.0",
            "_model_name": "ProgressStyleModel",
            "_view_count": null,
            "_view_module": "@jupyter-widgets/base",
            "_view_module_version": "1.2.0",
            "_view_name": "StyleView",
            "bar_color": null,
            "description_width": ""
          }
        },
        "252e3a65ab3e4072836ed0c6d0d8535a": {
          "model_module": "@jupyter-widgets/base",
          "model_name": "LayoutModel",
          "model_module_version": "1.2.0",
          "state": {
            "_model_module": "@jupyter-widgets/base",
            "_model_module_version": "1.2.0",
            "_model_name": "LayoutModel",
            "_view_count": null,
            "_view_module": "@jupyter-widgets/base",
            "_view_module_version": "1.2.0",
            "_view_name": "LayoutView",
            "align_content": null,
            "align_items": null,
            "align_self": null,
            "border": null,
            "bottom": null,
            "display": null,
            "flex": null,
            "flex_flow": null,
            "grid_area": null,
            "grid_auto_columns": null,
            "grid_auto_flow": null,
            "grid_auto_rows": null,
            "grid_column": null,
            "grid_gap": null,
            "grid_row": null,
            "grid_template_areas": null,
            "grid_template_columns": null,
            "grid_template_rows": null,
            "height": null,
            "justify_content": null,
            "justify_items": null,
            "left": null,
            "margin": null,
            "max_height": null,
            "max_width": null,
            "min_height": null,
            "min_width": null,
            "object_fit": null,
            "object_position": null,
            "order": null,
            "overflow": null,
            "overflow_x": null,
            "overflow_y": null,
            "padding": null,
            "right": null,
            "top": null,
            "visibility": null,
            "width": null
          }
        },
        "b1541f662b3a4987894726d8325a948c": {
          "model_module": "@jupyter-widgets/controls",
          "model_name": "DescriptionStyleModel",
          "model_module_version": "1.5.0",
          "state": {
            "_model_module": "@jupyter-widgets/controls",
            "_model_module_version": "1.5.0",
            "_model_name": "DescriptionStyleModel",
            "_view_count": null,
            "_view_module": "@jupyter-widgets/base",
            "_view_module_version": "1.2.0",
            "_view_name": "StyleView",
            "description_width": ""
          }
        },
        "5292bd6575894031a5e086a076f490b7": {
          "model_module": "@jupyter-widgets/controls",
          "model_name": "HBoxModel",
          "model_module_version": "1.5.0",
          "state": {
            "_dom_classes": [],
            "_model_module": "@jupyter-widgets/controls",
            "_model_module_version": "1.5.0",
            "_model_name": "HBoxModel",
            "_view_count": null,
            "_view_module": "@jupyter-widgets/controls",
            "_view_module_version": "1.5.0",
            "_view_name": "HBoxView",
            "box_style": "",
            "children": [
              "IPY_MODEL_851f0e7072e54ecb9222527f7c6b7007",
              "IPY_MODEL_e792bb0c846749a686ed7c6ac87a2890",
              "IPY_MODEL_6dc068b7885f41dd8f99d07dc0f2eaab"
            ],
            "layout": "IPY_MODEL_6772a8ab25454a839d0440c33d674624"
          }
        },
        "851f0e7072e54ecb9222527f7c6b7007": {
          "model_module": "@jupyter-widgets/controls",
          "model_name": "HTMLModel",
          "model_module_version": "1.5.0",
          "state": {
            "_dom_classes": [],
            "_model_module": "@jupyter-widgets/controls",
            "_model_module_version": "1.5.0",
            "_model_name": "HTMLModel",
            "_view_count": null,
            "_view_module": "@jupyter-widgets/controls",
            "_view_module_version": "1.5.0",
            "_view_name": "HTMLView",
            "description": "",
            "description_tooltip": null,
            "layout": "IPY_MODEL_fa2d46c2716746ae842555bc62873278",
            "placeholder": "​",
            "style": "IPY_MODEL_d4cb62c071754ea99e406694a18bee08",
            "value": "model.safetensors: 100%"
          }
        },
        "e792bb0c846749a686ed7c6ac87a2890": {
          "model_module": "@jupyter-widgets/controls",
          "model_name": "FloatProgressModel",
          "model_module_version": "1.5.0",
          "state": {
            "_dom_classes": [],
            "_model_module": "@jupyter-widgets/controls",
            "_model_module_version": "1.5.0",
            "_model_name": "FloatProgressModel",
            "_view_count": null,
            "_view_module": "@jupyter-widgets/controls",
            "_view_module_version": "1.5.0",
            "_view_name": "ProgressView",
            "bar_style": "success",
            "description": "",
            "description_tooltip": null,
            "layout": "IPY_MODEL_1cedd4107e1648ada03ac0acf494dbad",
            "max": 2471645608,
            "min": 0,
            "orientation": "horizontal",
            "style": "IPY_MODEL_b59b3d1864dd49309f10ec6d1c769eed",
            "value": 2471645608
          }
        },
        "6dc068b7885f41dd8f99d07dc0f2eaab": {
          "model_module": "@jupyter-widgets/controls",
          "model_name": "HTMLModel",
          "model_module_version": "1.5.0",
          "state": {
            "_dom_classes": [],
            "_model_module": "@jupyter-widgets/controls",
            "_model_module_version": "1.5.0",
            "_model_name": "HTMLModel",
            "_view_count": null,
            "_view_module": "@jupyter-widgets/controls",
            "_view_module_version": "1.5.0",
            "_view_name": "HTMLView",
            "description": "",
            "description_tooltip": null,
            "layout": "IPY_MODEL_835f328c3972429bb02b1edd53499efd",
            "placeholder": "​",
            "style": "IPY_MODEL_ce527ee8cdf24451be65459408de848b",
            "value": " 2.47G/2.47G [03:57&lt;00:00, 10.4MB/s]"
          }
        },
        "6772a8ab25454a839d0440c33d674624": {
          "model_module": "@jupyter-widgets/base",
          "model_name": "LayoutModel",
          "model_module_version": "1.2.0",
          "state": {
            "_model_module": "@jupyter-widgets/base",
            "_model_module_version": "1.2.0",
            "_model_name": "LayoutModel",
            "_view_count": null,
            "_view_module": "@jupyter-widgets/base",
            "_view_module_version": "1.2.0",
            "_view_name": "LayoutView",
            "align_content": null,
            "align_items": null,
            "align_self": null,
            "border": null,
            "bottom": null,
            "display": null,
            "flex": null,
            "flex_flow": null,
            "grid_area": null,
            "grid_auto_columns": null,
            "grid_auto_flow": null,
            "grid_auto_rows": null,
            "grid_column": null,
            "grid_gap": null,
            "grid_row": null,
            "grid_template_areas": null,
            "grid_template_columns": null,
            "grid_template_rows": null,
            "height": null,
            "justify_content": null,
            "justify_items": null,
            "left": null,
            "margin": null,
            "max_height": null,
            "max_width": null,
            "min_height": null,
            "min_width": null,
            "object_fit": null,
            "object_position": null,
            "order": null,
            "overflow": null,
            "overflow_x": null,
            "overflow_y": null,
            "padding": null,
            "right": null,
            "top": null,
            "visibility": null,
            "width": null
          }
        },
        "fa2d46c2716746ae842555bc62873278": {
          "model_module": "@jupyter-widgets/base",
          "model_name": "LayoutModel",
          "model_module_version": "1.2.0",
          "state": {
            "_model_module": "@jupyter-widgets/base",
            "_model_module_version": "1.2.0",
            "_model_name": "LayoutModel",
            "_view_count": null,
            "_view_module": "@jupyter-widgets/base",
            "_view_module_version": "1.2.0",
            "_view_name": "LayoutView",
            "align_content": null,
            "align_items": null,
            "align_self": null,
            "border": null,
            "bottom": null,
            "display": null,
            "flex": null,
            "flex_flow": null,
            "grid_area": null,
            "grid_auto_columns": null,
            "grid_auto_flow": null,
            "grid_auto_rows": null,
            "grid_column": null,
            "grid_gap": null,
            "grid_row": null,
            "grid_template_areas": null,
            "grid_template_columns": null,
            "grid_template_rows": null,
            "height": null,
            "justify_content": null,
            "justify_items": null,
            "left": null,
            "margin": null,
            "max_height": null,
            "max_width": null,
            "min_height": null,
            "min_width": null,
            "object_fit": null,
            "object_position": null,
            "order": null,
            "overflow": null,
            "overflow_x": null,
            "overflow_y": null,
            "padding": null,
            "right": null,
            "top": null,
            "visibility": null,
            "width": null
          }
        },
        "d4cb62c071754ea99e406694a18bee08": {
          "model_module": "@jupyter-widgets/controls",
          "model_name": "DescriptionStyleModel",
          "model_module_version": "1.5.0",
          "state": {
            "_model_module": "@jupyter-widgets/controls",
            "_model_module_version": "1.5.0",
            "_model_name": "DescriptionStyleModel",
            "_view_count": null,
            "_view_module": "@jupyter-widgets/base",
            "_view_module_version": "1.2.0",
            "_view_name": "StyleView",
            "description_width": ""
          }
        },
        "1cedd4107e1648ada03ac0acf494dbad": {
          "model_module": "@jupyter-widgets/base",
          "model_name": "LayoutModel",
          "model_module_version": "1.2.0",
          "state": {
            "_model_module": "@jupyter-widgets/base",
            "_model_module_version": "1.2.0",
            "_model_name": "LayoutModel",
            "_view_count": null,
            "_view_module": "@jupyter-widgets/base",
            "_view_module_version": "1.2.0",
            "_view_name": "LayoutView",
            "align_content": null,
            "align_items": null,
            "align_self": null,
            "border": null,
            "bottom": null,
            "display": null,
            "flex": null,
            "flex_flow": null,
            "grid_area": null,
            "grid_auto_columns": null,
            "grid_auto_flow": null,
            "grid_auto_rows": null,
            "grid_column": null,
            "grid_gap": null,
            "grid_row": null,
            "grid_template_areas": null,
            "grid_template_columns": null,
            "grid_template_rows": null,
            "height": null,
            "justify_content": null,
            "justify_items": null,
            "left": null,
            "margin": null,
            "max_height": null,
            "max_width": null,
            "min_height": null,
            "min_width": null,
            "object_fit": null,
            "object_position": null,
            "order": null,
            "overflow": null,
            "overflow_x": null,
            "overflow_y": null,
            "padding": null,
            "right": null,
            "top": null,
            "visibility": null,
            "width": null
          }
        },
        "b59b3d1864dd49309f10ec6d1c769eed": {
          "model_module": "@jupyter-widgets/controls",
          "model_name": "ProgressStyleModel",
          "model_module_version": "1.5.0",
          "state": {
            "_model_module": "@jupyter-widgets/controls",
            "_model_module_version": "1.5.0",
            "_model_name": "ProgressStyleModel",
            "_view_count": null,
            "_view_module": "@jupyter-widgets/base",
            "_view_module_version": "1.2.0",
            "_view_name": "StyleView",
            "bar_color": null,
            "description_width": ""
          }
        },
        "835f328c3972429bb02b1edd53499efd": {
          "model_module": "@jupyter-widgets/base",
          "model_name": "LayoutModel",
          "model_module_version": "1.2.0",
          "state": {
            "_model_module": "@jupyter-widgets/base",
            "_model_module_version": "1.2.0",
            "_model_name": "LayoutModel",
            "_view_count": null,
            "_view_module": "@jupyter-widgets/base",
            "_view_module_version": "1.2.0",
            "_view_name": "LayoutView",
            "align_content": null,
            "align_items": null,
            "align_self": null,
            "border": null,
            "bottom": null,
            "display": null,
            "flex": null,
            "flex_flow": null,
            "grid_area": null,
            "grid_auto_columns": null,
            "grid_auto_flow": null,
            "grid_auto_rows": null,
            "grid_column": null,
            "grid_gap": null,
            "grid_row": null,
            "grid_template_areas": null,
            "grid_template_columns": null,
            "grid_template_rows": null,
            "height": null,
            "justify_content": null,
            "justify_items": null,
            "left": null,
            "margin": null,
            "max_height": null,
            "max_width": null,
            "min_height": null,
            "min_width": null,
            "object_fit": null,
            "object_position": null,
            "order": null,
            "overflow": null,
            "overflow_x": null,
            "overflow_y": null,
            "padding": null,
            "right": null,
            "top": null,
            "visibility": null,
            "width": null
          }
        },
        "ce527ee8cdf24451be65459408de848b": {
          "model_module": "@jupyter-widgets/controls",
          "model_name": "DescriptionStyleModel",
          "model_module_version": "1.5.0",
          "state": {
            "_model_module": "@jupyter-widgets/controls",
            "_model_module_version": "1.5.0",
            "_model_name": "DescriptionStyleModel",
            "_view_count": null,
            "_view_module": "@jupyter-widgets/base",
            "_view_module_version": "1.2.0",
            "_view_name": "StyleView",
            "description_width": ""
          }
        },
        "b8ce4685aa6448c798f5a1f016214915": {
          "model_module": "@jupyter-widgets/controls",
          "model_name": "HBoxModel",
          "model_module_version": "1.5.0",
          "state": {
            "_dom_classes": [],
            "_model_module": "@jupyter-widgets/controls",
            "_model_module_version": "1.5.0",
            "_model_name": "HBoxModel",
            "_view_count": null,
            "_view_module": "@jupyter-widgets/controls",
            "_view_module_version": "1.5.0",
            "_view_name": "HBoxView",
            "box_style": "",
            "children": [
              "IPY_MODEL_a9f08e1c681a41768e06cd0f9508f330",
              "IPY_MODEL_9dfd7f1c70264f24bd60f8cf0e90791f",
              "IPY_MODEL_4b892f95671b4bebb70d7e5ab6366f77"
            ],
            "layout": "IPY_MODEL_01f86eea8da14cc99ea47c80e91e0eff"
          }
        },
        "a9f08e1c681a41768e06cd0f9508f330": {
          "model_module": "@jupyter-widgets/controls",
          "model_name": "HTMLModel",
          "model_module_version": "1.5.0",
          "state": {
            "_dom_classes": [],
            "_model_module": "@jupyter-widgets/controls",
            "_model_module_version": "1.5.0",
            "_model_name": "HTMLModel",
            "_view_count": null,
            "_view_module": "@jupyter-widgets/controls",
            "_view_module_version": "1.5.0",
            "_view_name": "HTMLView",
            "description": "",
            "description_tooltip": null,
            "layout": "IPY_MODEL_fe0ffdb4e05944b4b68d9f9443377f68",
            "placeholder": "​",
            "style": "IPY_MODEL_d3be67f25d154e7fb89faa03d5e4568b",
            "value": "generation_config.json: 100%"
          }
        },
        "9dfd7f1c70264f24bd60f8cf0e90791f": {
          "model_module": "@jupyter-widgets/controls",
          "model_name": "FloatProgressModel",
          "model_module_version": "1.5.0",
          "state": {
            "_dom_classes": [],
            "_model_module": "@jupyter-widgets/controls",
            "_model_module_version": "1.5.0",
            "_model_name": "FloatProgressModel",
            "_view_count": null,
            "_view_module": "@jupyter-widgets/controls",
            "_view_module_version": "1.5.0",
            "_view_name": "ProgressView",
            "bar_style": "success",
            "description": "",
            "description_tooltip": null,
            "layout": "IPY_MODEL_105682d74a1a43ceb835a9fdb1133a9f",
            "max": 234,
            "min": 0,
            "orientation": "horizontal",
            "style": "IPY_MODEL_2e29a321e2674e3bb128b5b1d860918c",
            "value": 234
          }
        },
        "4b892f95671b4bebb70d7e5ab6366f77": {
          "model_module": "@jupyter-widgets/controls",
          "model_name": "HTMLModel",
          "model_module_version": "1.5.0",
          "state": {
            "_dom_classes": [],
            "_model_module": "@jupyter-widgets/controls",
            "_model_module_version": "1.5.0",
            "_model_name": "HTMLModel",
            "_view_count": null,
            "_view_module": "@jupyter-widgets/controls",
            "_view_module_version": "1.5.0",
            "_view_name": "HTMLView",
            "description": "",
            "description_tooltip": null,
            "layout": "IPY_MODEL_6acea99a08ed4a1db60cb1c23b12c571",
            "placeholder": "​",
            "style": "IPY_MODEL_26c986283f4d4195851bf07a76359bab",
            "value": " 234/234 [00:00&lt;00:00, 15.5kB/s]"
          }
        },
        "01f86eea8da14cc99ea47c80e91e0eff": {
          "model_module": "@jupyter-widgets/base",
          "model_name": "LayoutModel",
          "model_module_version": "1.2.0",
          "state": {
            "_model_module": "@jupyter-widgets/base",
            "_model_module_version": "1.2.0",
            "_model_name": "LayoutModel",
            "_view_count": null,
            "_view_module": "@jupyter-widgets/base",
            "_view_module_version": "1.2.0",
            "_view_name": "LayoutView",
            "align_content": null,
            "align_items": null,
            "align_self": null,
            "border": null,
            "bottom": null,
            "display": null,
            "flex": null,
            "flex_flow": null,
            "grid_area": null,
            "grid_auto_columns": null,
            "grid_auto_flow": null,
            "grid_auto_rows": null,
            "grid_column": null,
            "grid_gap": null,
            "grid_row": null,
            "grid_template_areas": null,
            "grid_template_columns": null,
            "grid_template_rows": null,
            "height": null,
            "justify_content": null,
            "justify_items": null,
            "left": null,
            "margin": null,
            "max_height": null,
            "max_width": null,
            "min_height": null,
            "min_width": null,
            "object_fit": null,
            "object_position": null,
            "order": null,
            "overflow": null,
            "overflow_x": null,
            "overflow_y": null,
            "padding": null,
            "right": null,
            "top": null,
            "visibility": null,
            "width": null
          }
        },
        "fe0ffdb4e05944b4b68d9f9443377f68": {
          "model_module": "@jupyter-widgets/base",
          "model_name": "LayoutModel",
          "model_module_version": "1.2.0",
          "state": {
            "_model_module": "@jupyter-widgets/base",
            "_model_module_version": "1.2.0",
            "_model_name": "LayoutModel",
            "_view_count": null,
            "_view_module": "@jupyter-widgets/base",
            "_view_module_version": "1.2.0",
            "_view_name": "LayoutView",
            "align_content": null,
            "align_items": null,
            "align_self": null,
            "border": null,
            "bottom": null,
            "display": null,
            "flex": null,
            "flex_flow": null,
            "grid_area": null,
            "grid_auto_columns": null,
            "grid_auto_flow": null,
            "grid_auto_rows": null,
            "grid_column": null,
            "grid_gap": null,
            "grid_row": null,
            "grid_template_areas": null,
            "grid_template_columns": null,
            "grid_template_rows": null,
            "height": null,
            "justify_content": null,
            "justify_items": null,
            "left": null,
            "margin": null,
            "max_height": null,
            "max_width": null,
            "min_height": null,
            "min_width": null,
            "object_fit": null,
            "object_position": null,
            "order": null,
            "overflow": null,
            "overflow_x": null,
            "overflow_y": null,
            "padding": null,
            "right": null,
            "top": null,
            "visibility": null,
            "width": null
          }
        },
        "d3be67f25d154e7fb89faa03d5e4568b": {
          "model_module": "@jupyter-widgets/controls",
          "model_name": "DescriptionStyleModel",
          "model_module_version": "1.5.0",
          "state": {
            "_model_module": "@jupyter-widgets/controls",
            "_model_module_version": "1.5.0",
            "_model_name": "DescriptionStyleModel",
            "_view_count": null,
            "_view_module": "@jupyter-widgets/base",
            "_view_module_version": "1.2.0",
            "_view_name": "StyleView",
            "description_width": ""
          }
        },
        "105682d74a1a43ceb835a9fdb1133a9f": {
          "model_module": "@jupyter-widgets/base",
          "model_name": "LayoutModel",
          "model_module_version": "1.2.0",
          "state": {
            "_model_module": "@jupyter-widgets/base",
            "_model_module_version": "1.2.0",
            "_model_name": "LayoutModel",
            "_view_count": null,
            "_view_module": "@jupyter-widgets/base",
            "_view_module_version": "1.2.0",
            "_view_name": "LayoutView",
            "align_content": null,
            "align_items": null,
            "align_self": null,
            "border": null,
            "bottom": null,
            "display": null,
            "flex": null,
            "flex_flow": null,
            "grid_area": null,
            "grid_auto_columns": null,
            "grid_auto_flow": null,
            "grid_auto_rows": null,
            "grid_column": null,
            "grid_gap": null,
            "grid_row": null,
            "grid_template_areas": null,
            "grid_template_columns": null,
            "grid_template_rows": null,
            "height": null,
            "justify_content": null,
            "justify_items": null,
            "left": null,
            "margin": null,
            "max_height": null,
            "max_width": null,
            "min_height": null,
            "min_width": null,
            "object_fit": null,
            "object_position": null,
            "order": null,
            "overflow": null,
            "overflow_x": null,
            "overflow_y": null,
            "padding": null,
            "right": null,
            "top": null,
            "visibility": null,
            "width": null
          }
        },
        "2e29a321e2674e3bb128b5b1d860918c": {
          "model_module": "@jupyter-widgets/controls",
          "model_name": "ProgressStyleModel",
          "model_module_version": "1.5.0",
          "state": {
            "_model_module": "@jupyter-widgets/controls",
            "_model_module_version": "1.5.0",
            "_model_name": "ProgressStyleModel",
            "_view_count": null,
            "_view_module": "@jupyter-widgets/base",
            "_view_module_version": "1.2.0",
            "_view_name": "StyleView",
            "bar_color": null,
            "description_width": ""
          }
        },
        "6acea99a08ed4a1db60cb1c23b12c571": {
          "model_module": "@jupyter-widgets/base",
          "model_name": "LayoutModel",
          "model_module_version": "1.2.0",
          "state": {
            "_model_module": "@jupyter-widgets/base",
            "_model_module_version": "1.2.0",
            "_model_name": "LayoutModel",
            "_view_count": null,
            "_view_module": "@jupyter-widgets/base",
            "_view_module_version": "1.2.0",
            "_view_name": "LayoutView",
            "align_content": null,
            "align_items": null,
            "align_self": null,
            "border": null,
            "bottom": null,
            "display": null,
            "flex": null,
            "flex_flow": null,
            "grid_area": null,
            "grid_auto_columns": null,
            "grid_auto_flow": null,
            "grid_auto_rows": null,
            "grid_column": null,
            "grid_gap": null,
            "grid_row": null,
            "grid_template_areas": null,
            "grid_template_columns": null,
            "grid_template_rows": null,
            "height": null,
            "justify_content": null,
            "justify_items": null,
            "left": null,
            "margin": null,
            "max_height": null,
            "max_width": null,
            "min_height": null,
            "min_width": null,
            "object_fit": null,
            "object_position": null,
            "order": null,
            "overflow": null,
            "overflow_x": null,
            "overflow_y": null,
            "padding": null,
            "right": null,
            "top": null,
            "visibility": null,
            "width": null
          }
        },
        "26c986283f4d4195851bf07a76359bab": {
          "model_module": "@jupyter-widgets/controls",
          "model_name": "DescriptionStyleModel",
          "model_module_version": "1.5.0",
          "state": {
            "_model_module": "@jupyter-widgets/controls",
            "_model_module_version": "1.5.0",
            "_model_name": "DescriptionStyleModel",
            "_view_count": null,
            "_view_module": "@jupyter-widgets/base",
            "_view_module_version": "1.2.0",
            "_view_name": "StyleView",
            "description_width": ""
          }
        }
      }
    }
  },
  "nbformat": 4,
  "nbformat_minor": 5
}